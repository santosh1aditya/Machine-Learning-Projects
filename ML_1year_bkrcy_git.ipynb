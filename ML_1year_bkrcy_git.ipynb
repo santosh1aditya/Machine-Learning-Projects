{
 "cells": [
  {
   "cell_type": "markdown",
   "metadata": {},
   "source": [
    "**Background:**\n",
    "Predicting bankruptcy can give important insights into the stock price movement and help us take directional bets. In this ML notebook we utilize different financial ratios to predict the probability of bankruptcy\n",
    "\n",
    "- This notebook contains data preperation, EDA, feature selection and model implementation"
   ]
  },
  {
   "cell_type": "markdown",
   "metadata": {},
   "source": [
    "# Import modules"
   ]
  },
  {
   "cell_type": "code",
   "execution_count": 93,
   "metadata": {},
   "outputs": [],
   "source": [
    "## Standard imports\n",
    "import numpy as np\n",
    "import pandas as pd\n",
    "import matplotlib.pyplot as plt\n",
    "import sklearn\n",
    "import os\n",
    "import math\n",
    "%matplotlib inline\n",
    "\n",
    "\n",
    "from sklearn.model_selection import train_test_split\n",
    "from imblearn.over_sampling import SMOTE\n",
    "from imblearn.over_sampling import ADASYN"
   ]
  },
  {
   "cell_type": "markdown",
   "metadata": {},
   "source": [
    "- The below helper API is provided by Prof. Ken Perry, Machine Learning, NYU"
   ]
  },
  {
   "cell_type": "code",
   "execution_count": 2,
   "metadata": {},
   "outputs": [],
   "source": [
    "## Load the bankruptcy_helper module\n",
    "from IPython.core.interactiveshell import InteractiveShell\n",
    "InteractiveShell.ast_node_interactivity = \"all\"\n",
    "\n",
    "# Reload all modules imported with %aimport\n",
    "%load_ext autoreload\n",
    "%autoreload 1\n",
    "\n",
    "# Import bankruptcy_helper module\n",
    "import bankruptcy_helper\n",
    "%aimport bankruptcy_helper\n",
    "\n",
    "helper = bankruptcy_helper.Helper()"
   ]
  },
  {
   "cell_type": "markdown",
   "metadata": {},
   "source": [
    "# Get the data\n",
    "\n",
    "This data is provided as a part of Machine Learning for Financial Engineers course, NYU\n",
    "\n",
    "- Each example is a row of data corresponding to a single company\n",
    "- There are 64 attributes, described in the section below\n",
    "- The column `Bankrupt` is 1 if the company subsequently went bankrupt; 0 if it did not go bankrupt\n",
    "- The column `Id` is a Company Identifier"
   ]
  },
  {
   "cell_type": "code",
   "execution_count": 104,
   "metadata": {},
   "outputs": [
    {
     "name": "stdout",
     "output_type": "stream",
     "text": [
      "Date shape:  (4818, 66)\n"
     ]
    }
   ],
   "source": [
    "# Data directory\n",
    "DATA_DIR = \"./Data\"\n",
    "\n",
    "if not os.path.isdir(DATA_DIR):\n",
    "    DATA_DIR = \"../resource/asnlib/publicdata/bankruptcy/data\"\n",
    "\n",
    "data_file = \"5th_yr.csv\"\n",
    "data = pd.read_csv( os.path.join(DATA_DIR, \"train\", data_file) )\n",
    "\n",
    "target_attr = \"Bankrupt\"\n",
    "\n",
    "n_samples, n_attrs = data.shape\n",
    "print(\"Date shape: \", data.shape)"
   ]
  },
  {
   "cell_type": "markdown",
   "metadata": {},
   "source": [
    "- Let's look at the data to get a better idea"
   ]
  },
  {
   "cell_type": "code",
   "execution_count": 105,
   "metadata": {},
   "outputs": [
    {
     "data": {
      "text/html": [
       "<div>\n",
       "<style scoped>\n",
       "    .dataframe tbody tr th:only-of-type {\n",
       "        vertical-align: middle;\n",
       "    }\n",
       "\n",
       "    .dataframe tbody tr th {\n",
       "        vertical-align: top;\n",
       "    }\n",
       "\n",
       "    .dataframe thead th {\n",
       "        text-align: right;\n",
       "    }\n",
       "</style>\n",
       "<table border=\"1\" class=\"dataframe\">\n",
       "  <thead>\n",
       "    <tr style=\"text-align: right;\">\n",
       "      <th></th>\n",
       "      <th>X1</th>\n",
       "      <th>X2</th>\n",
       "      <th>X3</th>\n",
       "      <th>X4</th>\n",
       "      <th>X5</th>\n",
       "      <th>X6</th>\n",
       "      <th>X7</th>\n",
       "      <th>X8</th>\n",
       "      <th>X9</th>\n",
       "      <th>X10</th>\n",
       "      <th>...</th>\n",
       "      <th>X57</th>\n",
       "      <th>X58</th>\n",
       "      <th>X59</th>\n",
       "      <th>X60</th>\n",
       "      <th>X61</th>\n",
       "      <th>X62</th>\n",
       "      <th>X63</th>\n",
       "      <th>X64</th>\n",
       "      <th>Bankrupt</th>\n",
       "      <th>Id</th>\n",
       "    </tr>\n",
       "  </thead>\n",
       "  <tbody>\n",
       "    <tr>\n",
       "      <th>0</th>\n",
       "      <td>0.025417</td>\n",
       "      <td>0.41769</td>\n",
       "      <td>0.0568</td>\n",
       "      <td>1.1605</td>\n",
       "      <td>-126.39</td>\n",
       "      <td>0.41355</td>\n",
       "      <td>0.025417</td>\n",
       "      <td>1.2395</td>\n",
       "      <td>1.16500</td>\n",
       "      <td>0.51773</td>\n",
       "      <td>...</td>\n",
       "      <td>0.049094</td>\n",
       "      <td>0.85835</td>\n",
       "      <td>0.12322</td>\n",
       "      <td>5.6167</td>\n",
       "      <td>7.4042</td>\n",
       "      <td>164.310</td>\n",
       "      <td>2.2214</td>\n",
       "      <td>1.334</td>\n",
       "      <td>0</td>\n",
       "      <td>4510</td>\n",
       "    </tr>\n",
       "    <tr>\n",
       "      <th>1</th>\n",
       "      <td>-0.023834</td>\n",
       "      <td>0.2101</td>\n",
       "      <td>0.50839</td>\n",
       "      <td>4.2374</td>\n",
       "      <td>22.034</td>\n",
       "      <td>0.058412</td>\n",
       "      <td>-0.027621</td>\n",
       "      <td>3.6579</td>\n",
       "      <td>0.98183</td>\n",
       "      <td>0.76855</td>\n",
       "      <td>...</td>\n",
       "      <td>-0.031011</td>\n",
       "      <td>1.01850</td>\n",
       "      <td>0.069047</td>\n",
       "      <td>5.7996</td>\n",
       "      <td>7.7529</td>\n",
       "      <td>26.446</td>\n",
       "      <td>13.802</td>\n",
       "      <td>6.4782</td>\n",
       "      <td>0</td>\n",
       "      <td>3537</td>\n",
       "    </tr>\n",
       "    <tr>\n",
       "      <th>2</th>\n",
       "      <td>0.030515</td>\n",
       "      <td>0.44606</td>\n",
       "      <td>0.19569</td>\n",
       "      <td>1.565</td>\n",
       "      <td>35.766</td>\n",
       "      <td>0.28196</td>\n",
       "      <td>0.039264</td>\n",
       "      <td>0.88456</td>\n",
       "      <td>1.05260</td>\n",
       "      <td>0.39457</td>\n",
       "      <td>...</td>\n",
       "      <td>0.077337</td>\n",
       "      <td>0.95006</td>\n",
       "      <td>0.25266</td>\n",
       "      <td>15.049</td>\n",
       "      <td>2.8179</td>\n",
       "      <td>104.730</td>\n",
       "      <td>3.4852</td>\n",
       "      <td>2.6361</td>\n",
       "      <td>0</td>\n",
       "      <td>3920</td>\n",
       "    </tr>\n",
       "    <tr>\n",
       "      <th>3</th>\n",
       "      <td>0.052318</td>\n",
       "      <td>0.056366</td>\n",
       "      <td>0.54562</td>\n",
       "      <td>10.68</td>\n",
       "      <td>438.2</td>\n",
       "      <td>0.13649</td>\n",
       "      <td>0.058164</td>\n",
       "      <td>10.853</td>\n",
       "      <td>1.02790</td>\n",
       "      <td>0.61173</td>\n",
       "      <td>...</td>\n",
       "      <td>0.085524</td>\n",
       "      <td>0.97282</td>\n",
       "      <td>0</td>\n",
       "      <td>6.0157</td>\n",
       "      <td>7.4626</td>\n",
       "      <td>48.756</td>\n",
       "      <td>7.4863</td>\n",
       "      <td>1.0602</td>\n",
       "      <td>0</td>\n",
       "      <td>1806</td>\n",
       "    </tr>\n",
       "    <tr>\n",
       "      <th>4</th>\n",
       "      <td>0.000992</td>\n",
       "      <td>0.49712</td>\n",
       "      <td>0.12316</td>\n",
       "      <td>1.3036</td>\n",
       "      <td>-71.398</td>\n",
       "      <td>0</td>\n",
       "      <td>0.001007</td>\n",
       "      <td>1.0116</td>\n",
       "      <td>1.29210</td>\n",
       "      <td>0.50288</td>\n",
       "      <td>...</td>\n",
       "      <td>0.001974</td>\n",
       "      <td>0.99925</td>\n",
       "      <td>0.019736</td>\n",
       "      <td>3.4819</td>\n",
       "      <td>8.582</td>\n",
       "      <td>114.580</td>\n",
       "      <td>3.1854</td>\n",
       "      <td>2.742</td>\n",
       "      <td>0</td>\n",
       "      <td>1529</td>\n",
       "    </tr>\n",
       "  </tbody>\n",
       "</table>\n",
       "<p>5 rows × 66 columns</p>\n",
       "</div>"
      ],
      "text/plain": [
       "          X1        X2       X3      X4       X5        X6         X7  \\\n",
       "0   0.025417   0.41769   0.0568  1.1605  -126.39   0.41355   0.025417   \n",
       "1  -0.023834    0.2101  0.50839  4.2374   22.034  0.058412  -0.027621   \n",
       "2   0.030515   0.44606  0.19569   1.565   35.766   0.28196   0.039264   \n",
       "3   0.052318  0.056366  0.54562   10.68    438.2   0.13649   0.058164   \n",
       "4   0.000992   0.49712  0.12316  1.3036  -71.398         0   0.001007   \n",
       "\n",
       "        X8       X9      X10  ...        X57      X58       X59     X60  \\\n",
       "0   1.2395  1.16500  0.51773  ...   0.049094  0.85835   0.12322  5.6167   \n",
       "1   3.6579  0.98183  0.76855  ...  -0.031011  1.01850  0.069047  5.7996   \n",
       "2  0.88456  1.05260  0.39457  ...   0.077337  0.95006   0.25266  15.049   \n",
       "3   10.853  1.02790  0.61173  ...   0.085524  0.97282         0  6.0157   \n",
       "4   1.0116  1.29210  0.50288  ...   0.001974  0.99925  0.019736  3.4819   \n",
       "\n",
       "      X61      X62     X63     X64  Bankrupt    Id  \n",
       "0  7.4042  164.310  2.2214   1.334         0  4510  \n",
       "1  7.7529   26.446  13.802  6.4782         0  3537  \n",
       "2  2.8179  104.730  3.4852  2.6361         0  3920  \n",
       "3  7.4626   48.756  7.4863  1.0602         0  1806  \n",
       "4   8.582  114.580  3.1854   2.742         0  1529  \n",
       "\n",
       "[5 rows x 66 columns]"
      ]
     },
     "execution_count": 105,
     "metadata": {},
     "output_type": "execute_result"
    }
   ],
   "source": [
    "data.head()"
   ]
  },
  {
   "cell_type": "markdown",
   "metadata": {},
   "source": [
    "The below is a description of all the features. We will use feature selection techniques to identify significant variables for our classification problem"
   ]
  },
  {
   "cell_type": "raw",
   "metadata": {},
   "source": [
    "Attribute Information:\n",
    "\n",
    "Id Company Identifier \n",
    "X1 net profit / total assets\n",
    "X2 total liabilities / total assets\n",
    "X3 working capital / total assets\n",
    "X4 current assets / short-term liabilities\n",
    "X5 [(cash + short-term securities + receivables - short-term liabilities) / (operating expenses - depreciation)] * 365\n",
    "X6 retained earnings / total assets\n",
    "X7 EBIT / total assets\n",
    "X8 book value of equity / total liabilities\n",
    "X9 sales / total assets\n",
    "X10 equity / total assets\n",
    "X11 (gross profit + extraordinary items + financial expenses) / total assets\n",
    "X12 gross profit / short-term liabilities\n",
    "X13 (gross profit + depreciation) / sales\n",
    "X14 (gross profit + interest) / total assets\n",
    "X15 (total liabilities * 365) / (gross profit + depreciation)\n",
    "X16 (gross profit + depreciation) / total liabilities\n",
    "X17 total assets / total liabilities\n",
    "X18 gross profit / total assets\n",
    "X19 gross profit / sales\n",
    "X20 (inventory * 365) / sales\n",
    "X21 sales (n) / sales (n-1)\n",
    "X22 profit on operating activities / total assets\n",
    "X23 net profit / sales\n",
    "X24 gross profit (in 3 years) / total assets\n",
    "X25 (equity - share capital) / total assets\n",
    "X26 (net profit + depreciation) / total liabilities\n",
    "X27 profit on operating activities / financial expenses\n",
    "X28 working capital / fixed assets\n",
    "X29 logarithm of total assets\n",
    "X30 (total liabilities - cash) / sales\n",
    "X31 (gross profit + interest) / sales\n",
    "X32 (current liabilities * 365) / cost of products sold\n",
    "X33 operating expenses / short-term liabilities\n",
    "X34 operating expenses / total liabilities\n",
    "X35 profit on sales / total assets\n",
    "X36 total sales / total assets\n",
    "X37 (current assets - inventories) / long-term liabilities\n",
    "X38 constant capital / total assets\n",
    "X39 profit on sales / sales\n",
    "X40 (current assets - inventory - receivables) / short-term liabilities\n",
    "X41 total liabilities / ((profit on operating activities + depreciation) * (12/365))\n",
    "X42 profit on operating activities / sales\n",
    "X43 rotation receivables + inventory turnover in days\n",
    "X44 (receivables * 365) / sales\n",
    "X45 net profit / inventory\n",
    "X46 (current assets - inventory) / short-term liabilities\n",
    "X47 (inventory * 365) / cost of products sold\n",
    "X48 EBITDA (profit on operating activities - depreciation) / total assets\n",
    "X49 EBITDA (profit on operating activities - depreciation) / sales\n",
    "X50 current assets / total liabilities\n",
    "X51 short-term liabilities / total assets\n",
    "X52 (short-term liabilities * 365) / cost of products sold)\n",
    "X53 equity / fixed assets\n",
    "X54 constant capital / fixed assets\n",
    "X55 working capital\n",
    "X56 (sales - cost of products sold) / sales\n",
    "X57 (current assets - inventory - short-term liabilities) / (sales - gross profit - depreciation)\n",
    "X58 total costs /total sales\n",
    "X59 long-term liabilities / equity\n",
    "X60 sales / inventory\n",
    "X61 sales / receivables\n",
    "X62 (short-term liabilities *365) / sales\n",
    "X63 sales / short-term liabilities\n",
    "X64 sales / fixed assets\n"
   ]
  },
  {
   "cell_type": "markdown",
   "metadata": {},
   "source": [
    "# Data Preperation"
   ]
  },
  {
   "cell_type": "markdown",
   "metadata": {},
   "source": [
    "- Before we proceed with any data preprocessing, lets split the test and train sets. This avoids data leak in traing our model\n",
    "- Also lets shuffle the data to avoid any bias from pre-existing sorting"
   ]
  },
  {
   "cell_type": "code",
   "execution_count": 106,
   "metadata": {},
   "outputs": [
    {
     "name": "stdout",
     "output_type": "stream",
     "text": [
      "Shape of Labels :  (4818,)\n",
      "Shape of features :  (4818, 64)\n"
     ]
    }
   ],
   "source": [
    "#shuffling the data\n",
    "data = sklearn.utils.shuffle(data, random_state=50)\n",
    "\n",
    "#Labels data\n",
    "y = data[\"Bankrupt\"]\n",
    "X = data.drop(columns=[\"Bankrupt\",\"Id\"])\n",
    "print(\"Shape of Labels : \", y.shape)\n",
    "print(\"Shape of features : \", X.shape)"
   ]
  },
  {
   "cell_type": "markdown",
   "metadata": {},
   "source": [
    "- Performing Train and Test split"
   ]
  },
  {
   "cell_type": "code",
   "execution_count": 107,
   "metadata": {},
   "outputs": [
    {
     "name": "stdout",
     "output_type": "stream",
     "text": [
      "Shape of Labels_test :  (482,)\n",
      "Shape of features_test :  (482, 64)\n",
      "Shape of Labels_train :  (4336,)\n",
      "Shape of features_train :  (4336, 64)\n"
     ]
    }
   ],
   "source": [
    "X_train = None\n",
    "X_test = None\n",
    "y_train = None\n",
    "y_test = None\n",
    "X_train, X_test, y_train, y_test = train_test_split(X,y,test_size=0.1,random_state = 42)\n",
    "\n",
    "print(\"Shape of Labels_test : \", y_test.shape)\n",
    "print(\"Shape of features_test : \", X_test.shape)\n",
    "print(\"Shape of Labels_train : \", y_train.shape)\n",
    "print(\"Shape of features_train : \", X_train.shape)"
   ]
  },
  {
   "cell_type": "markdown",
   "metadata": {},
   "source": [
    "- Let's take a look at the data type of our features"
   ]
  },
  {
   "cell_type": "code",
   "execution_count": 108,
   "metadata": {},
   "outputs": [
    {
     "name": "stdout",
     "output_type": "stream",
     "text": [
      "<class 'pandas.core.frame.DataFrame'>\n",
      "Int64Index: 4818 entries, 118 to 1931\n",
      "Data columns (total 66 columns):\n",
      " #   Column    Non-Null Count  Dtype  \n",
      "---  ------    --------------  -----  \n",
      " 0   X1        4818 non-null   object \n",
      " 1   X2        4818 non-null   object \n",
      " 2   X3        4818 non-null   object \n",
      " 3   X4        4818 non-null   object \n",
      " 4   X5        4818 non-null   object \n",
      " 5   X6        4818 non-null   object \n",
      " 6   X7        4818 non-null   object \n",
      " 7   X8        4818 non-null   object \n",
      " 8   X9        4818 non-null   float64\n",
      " 9   X10       4818 non-null   object \n",
      " 10  X11       4818 non-null   object \n",
      " 11  X12       4818 non-null   object \n",
      " 12  X13       4818 non-null   float64\n",
      " 13  X14       4818 non-null   object \n",
      " 14  X15       4818 non-null   object \n",
      " 15  X16       4818 non-null   object \n",
      " 16  X17       4818 non-null   object \n",
      " 17  X18       4818 non-null   object \n",
      " 18  X19       4818 non-null   float64\n",
      " 19  X20       4818 non-null   float64\n",
      " 20  X21       4818 non-null   object \n",
      " 21  X22       4818 non-null   object \n",
      " 22  X23       4818 non-null   float64\n",
      " 23  X24       4818 non-null   object \n",
      " 24  X25       4818 non-null   object \n",
      " 25  X26       4818 non-null   object \n",
      " 26  X27       4818 non-null   object \n",
      " 27  X28       4818 non-null   object \n",
      " 28  X29       4818 non-null   object \n",
      " 29  X30       4818 non-null   float64\n",
      " 30  X31       4818 non-null   float64\n",
      " 31  X32       4818 non-null   object \n",
      " 32  X33       4818 non-null   object \n",
      " 33  X34       4818 non-null   object \n",
      " 34  X35       4818 non-null   object \n",
      " 35  X36       4818 non-null   object \n",
      " 36  X37       4818 non-null   object \n",
      " 37  X38       4818 non-null   object \n",
      " 38  X39       4818 non-null   float64\n",
      " 39  X40       4818 non-null   object \n",
      " 40  X41       4818 non-null   object \n",
      " 41  X42       4818 non-null   float64\n",
      " 42  X43       4818 non-null   float64\n",
      " 43  X44       4818 non-null   float64\n",
      " 44  X45       4818 non-null   object \n",
      " 45  X46       4818 non-null   object \n",
      " 46  X47       4818 non-null   object \n",
      " 47  X48       4818 non-null   object \n",
      " 48  X49       4818 non-null   float64\n",
      " 49  X50       4818 non-null   object \n",
      " 50  X51       4818 non-null   object \n",
      " 51  X52       4818 non-null   object \n",
      " 52  X53       4818 non-null   object \n",
      " 53  X54       4818 non-null   object \n",
      " 54  X55       4818 non-null   float64\n",
      " 55  X56       4818 non-null   float64\n",
      " 56  X57       4818 non-null   object \n",
      " 57  X58       4818 non-null   float64\n",
      " 58  X59       4818 non-null   object \n",
      " 59  X60       4818 non-null   object \n",
      " 60  X61       4818 non-null   object \n",
      " 61  X62       4818 non-null   float64\n",
      " 62  X63       4818 non-null   object \n",
      " 63  X64       4818 non-null   object \n",
      " 64  Bankrupt  4818 non-null   int64  \n",
      " 65  Id        4818 non-null   int64  \n",
      "dtypes: float64(16), int64(2), object(48)\n",
      "memory usage: 2.5+ MB\n"
     ]
    }
   ],
   "source": [
    "data.info()"
   ]
  },
  {
   "cell_type": "markdown",
   "metadata": {},
   "source": [
    "## Converting Data to numeric values\n",
    "- As seen before, the data provided contains many columns with data-type object instead of numeric type\n",
    "- We will use pandas to_numeric function to convert them into numeric data\n",
    "- The errors = \"coerce\" attribute populates a NaN value if the conversion fails. We will check and rectify this in the following section.\n",
    "- We are simulatneously transforming the test data set, but it was never used for Analysis (No cheating)"
   ]
  },
  {
   "cell_type": "code",
   "execution_count": 109,
   "metadata": {},
   "outputs": [],
   "source": [
    "##creating an empty data frame\n",
    "data_num = pd.DataFrame() \n",
    "##passing each column in data to convert it into numeric type\n",
    "for i in X_train.columns:\n",
    "    data_num[i] = pd.to_numeric(X_train[i], errors = \"coerce\")\n",
    "    \n",
    "##correcting test data set for future use\n",
    "X_test_new = pd.DataFrame()\n",
    "for i in X_test.columns:\n",
    "    X_test_new[i] = pd.to_numeric(X_test[i], errors = \"coerce\")"
   ]
  },
  {
   "cell_type": "code",
   "execution_count": 110,
   "metadata": {},
   "outputs": [
    {
     "name": "stdout",
     "output_type": "stream",
     "text": [
      "<class 'pandas.core.frame.DataFrame'>\n",
      "Int64Index: 4336 entries, 153 to 2308\n",
      "Data columns (total 64 columns):\n",
      " #   Column  Non-Null Count  Dtype  \n",
      "---  ------  --------------  -----  \n",
      " 0   X1      4334 non-null   float64\n",
      " 1   X2      4334 non-null   float64\n",
      " 2   X3      4334 non-null   float64\n",
      " 3   X4      4325 non-null   float64\n",
      " 4   X5      4326 non-null   float64\n",
      " 5   X6      4334 non-null   float64\n",
      " 6   X7      4334 non-null   float64\n",
      " 7   X8      4326 non-null   float64\n",
      " 8   X9      4336 non-null   float64\n",
      " 9   X10     4334 non-null   float64\n",
      " 10  X11     4334 non-null   float64\n",
      " 11  X12     4325 non-null   float64\n",
      " 12  X13     4336 non-null   float64\n",
      " 13  X14     4334 non-null   float64\n",
      " 14  X15     4331 non-null   float64\n",
      " 15  X16     4326 non-null   float64\n",
      " 16  X17     4326 non-null   float64\n",
      " 17  X18     4334 non-null   float64\n",
      " 18  X19     4336 non-null   float64\n",
      " 19  X20     4336 non-null   float64\n",
      " 20  X21     4270 non-null   float64\n",
      " 21  X22     4334 non-null   float64\n",
      " 22  X23     4336 non-null   float64\n",
      " 23  X24     4231 non-null   float64\n",
      " 24  X25     4334 non-null   float64\n",
      " 25  X26     4326 non-null   float64\n",
      " 26  X27     4067 non-null   float64\n",
      " 27  X28     4261 non-null   float64\n",
      " 28  X29     4334 non-null   float64\n",
      " 29  X30     4336 non-null   float64\n",
      " 30  X31     4336 non-null   float64\n",
      " 31  X32     4294 non-null   float64\n",
      " 32  X33     4325 non-null   float64\n",
      " 33  X34     4326 non-null   float64\n",
      " 34  X35     4334 non-null   float64\n",
      " 35  X36     4334 non-null   float64\n",
      " 36  X37     2486 non-null   float64\n",
      " 37  X38     4334 non-null   float64\n",
      " 38  X39     4336 non-null   float64\n",
      " 39  X40     4325 non-null   float64\n",
      " 40  X41     4280 non-null   float64\n",
      " 41  X42     4336 non-null   float64\n",
      " 42  X43     4336 non-null   float64\n",
      " 43  X44     4336 non-null   float64\n",
      " 44  X45     4143 non-null   float64\n",
      " 45  X46     4325 non-null   float64\n",
      " 46  X47     4305 non-null   float64\n",
      " 47  X48     4334 non-null   float64\n",
      " 48  X49     4336 non-null   float64\n",
      " 49  X50     4326 non-null   float64\n",
      " 50  X51     4334 non-null   float64\n",
      " 51  X52     4304 non-null   float64\n",
      " 52  X53     4261 non-null   float64\n",
      " 53  X54     4261 non-null   float64\n",
      " 54  X55     4336 non-null   float64\n",
      " 55  X56     4336 non-null   float64\n",
      " 56  X57     4334 non-null   float64\n",
      " 57  X58     4336 non-null   float64\n",
      " 58  X59     4334 non-null   float64\n",
      " 59  X60     4143 non-null   float64\n",
      " 60  X61     4326 non-null   float64\n",
      " 61  X62     4336 non-null   float64\n",
      " 62  X63     4325 non-null   float64\n",
      " 63  X64     4261 non-null   float64\n",
      "dtypes: float64(64)\n",
      "memory usage: 2.2 MB\n"
     ]
    }
   ],
   "source": [
    "data_num.info()"
   ]
  },
  {
   "cell_type": "markdown",
   "metadata": {},
   "source": [
    "- Now we can see that all the data numeric values. But now we have a lot of Null Values\n",
    "- The column X37 has been seriously impacted. So lets look at what this column denotes"
   ]
  },
  {
   "cell_type": "code",
   "execution_count": 111,
   "metadata": {},
   "outputs": [
    {
     "name": "stdout",
     "output_type": "stream",
     "text": [
      "The number of NaN values in X37 :  1850\n"
     ]
    }
   ],
   "source": [
    "print(\"The number of NaN values in X37 : \", data_num[data_num[\"X37\"].isnull()].shape[0])"
   ]
  },
  {
   "cell_type": "code",
   "execution_count": 112,
   "metadata": {},
   "outputs": [
    {
     "name": "stdout",
     "output_type": "stream",
     "text": [
      "Number of bankruptcy examples with null X37 values 142\n"
     ]
    }
   ],
   "source": [
    "print(\"Number of bankruptcy examples with null X37 values\", data_num[(data_num[\"X37\"].isnull()) & (y_train==1)].shape[0])"
   ]
  },
  {
   "cell_type": "markdown",
   "metadata": {},
   "source": [
    "- We have only 308 examples with bankruptcy. So it might not be wise to remove all the examples with NaN values for X37, as we might loose around half of the class 1 examples.\n",
    "- X37 denotes the ratio (current assets - inventories) / long-term liabilities. All these terms appear in other features. Considering the presences of non-indepence , may be it's okay to drop this column"
   ]
  },
  {
   "cell_type": "markdown",
   "metadata": {},
   "source": [
    "## Dealing with missing values\n",
    "- In this section, we drop the column X37 and remaining NA values"
   ]
  },
  {
   "cell_type": "code",
   "execution_count": 113,
   "metadata": {},
   "outputs": [
    {
     "data": {
      "text/plain": [
       "(4336, 63)"
      ]
     },
     "execution_count": 113,
     "metadata": {},
     "output_type": "execute_result"
    }
   ],
   "source": [
    "#dropping X37\n",
    "data_num = data_num.drop(columns = [\"X37\"])\n",
    "data_num.shape\n",
    "#dropping X37 from test features to be consistent\n",
    "X_test = X_test_new.drop(columns = [\"X37\"])"
   ]
  },
  {
   "cell_type": "markdown",
   "metadata": {},
   "source": [
    "- For the remaining NaN values, we can employ the same method. But the problem is, these NaN values are mostly associated with Class 1 examples. When we remove Na values using dropna command, our class1 size reduces significantly\n",
    "- So let's use imputation to avoid this problem"
   ]
  },
  {
   "cell_type": "code",
   "execution_count": 114,
   "metadata": {},
   "outputs": [
    {
     "name": "stdout",
     "output_type": "stream",
     "text": [
      "No. of Bankruptcy cases - Class 1:  276\n",
      "No. of Bankruptcy cases - Class 0:  4060\n"
     ]
    }
   ],
   "source": [
    "print(\"No. of Bankruptcy cases - Class 1: \",y_train.sum())\n",
    "print(\"No. of Bankruptcy cases - Class 0: \",y_train.shape[0]- y_train.sum())"
   ]
  },
  {
   "cell_type": "markdown",
   "metadata": {},
   "source": [
    "- We can use a simple imputer and fill the NaN values using mean/median/mode. But this might distort the histogram of our features\n",
    "- Here we try to impute using the KNN imputer algorithm, which works similar to the KNN algorithm. This might be a good solution to our problem as we are looking for similar values and filling the NA values\n",
    "- before impuation - No X37 and ID columns"
   ]
  },
  {
   "cell_type": "code",
   "execution_count": 115,
   "metadata": {},
   "outputs": [
    {
     "name": "stdout",
     "output_type": "stream",
     "text": [
      "<class 'pandas.core.frame.DataFrame'>\n",
      "RangeIndex: 4336 entries, 0 to 4335\n",
      "Data columns (total 63 columns):\n",
      " #   Column  Non-Null Count  Dtype  \n",
      "---  ------  --------------  -----  \n",
      " 0   X1      4336 non-null   float64\n",
      " 1   X2      4336 non-null   float64\n",
      " 2   X3      4336 non-null   float64\n",
      " 3   X4      4336 non-null   float64\n",
      " 4   X5      4336 non-null   float64\n",
      " 5   X6      4336 non-null   float64\n",
      " 6   X7      4336 non-null   float64\n",
      " 7   X8      4336 non-null   float64\n",
      " 8   X9      4336 non-null   float64\n",
      " 9   X10     4336 non-null   float64\n",
      " 10  X11     4336 non-null   float64\n",
      " 11  X12     4336 non-null   float64\n",
      " 12  X13     4336 non-null   float64\n",
      " 13  X14     4336 non-null   float64\n",
      " 14  X15     4336 non-null   float64\n",
      " 15  X16     4336 non-null   float64\n",
      " 16  X17     4336 non-null   float64\n",
      " 17  X18     4336 non-null   float64\n",
      " 18  X19     4336 non-null   float64\n",
      " 19  X20     4336 non-null   float64\n",
      " 20  X21     4336 non-null   float64\n",
      " 21  X22     4336 non-null   float64\n",
      " 22  X23     4336 non-null   float64\n",
      " 23  X24     4336 non-null   float64\n",
      " 24  X25     4336 non-null   float64\n",
      " 25  X26     4336 non-null   float64\n",
      " 26  X27     4336 non-null   float64\n",
      " 27  X28     4336 non-null   float64\n",
      " 28  X29     4336 non-null   float64\n",
      " 29  X30     4336 non-null   float64\n",
      " 30  X31     4336 non-null   float64\n",
      " 31  X32     4336 non-null   float64\n",
      " 32  X33     4336 non-null   float64\n",
      " 33  X34     4336 non-null   float64\n",
      " 34  X35     4336 non-null   float64\n",
      " 35  X36     4336 non-null   float64\n",
      " 36  X38     4336 non-null   float64\n",
      " 37  X39     4336 non-null   float64\n",
      " 38  X40     4336 non-null   float64\n",
      " 39  X41     4336 non-null   float64\n",
      " 40  X42     4336 non-null   float64\n",
      " 41  X43     4336 non-null   float64\n",
      " 42  X44     4336 non-null   float64\n",
      " 43  X45     4336 non-null   float64\n",
      " 44  X46     4336 non-null   float64\n",
      " 45  X47     4336 non-null   float64\n",
      " 46  X48     4336 non-null   float64\n",
      " 47  X49     4336 non-null   float64\n",
      " 48  X50     4336 non-null   float64\n",
      " 49  X51     4336 non-null   float64\n",
      " 50  X52     4336 non-null   float64\n",
      " 51  X53     4336 non-null   float64\n",
      " 52  X54     4336 non-null   float64\n",
      " 53  X55     4336 non-null   float64\n",
      " 54  X56     4336 non-null   float64\n",
      " 55  X57     4336 non-null   float64\n",
      " 56  X58     4336 non-null   float64\n",
      " 57  X59     4336 non-null   float64\n",
      " 58  X60     4336 non-null   float64\n",
      " 59  X61     4336 non-null   float64\n",
      " 60  X62     4336 non-null   float64\n",
      " 61  X63     4336 non-null   float64\n",
      " 62  X64     4336 non-null   float64\n",
      "dtypes: float64(63)\n",
      "memory usage: 2.1 MB\n"
     ]
    }
   ],
   "source": [
    "#imputing train data\n",
    "from sklearn.impute import KNNImputer\n",
    "imputer = KNNImputer(n_neighbors=5)\n",
    "data_num = pd.DataFrame(imputer.fit_transform(data_num),columns = data_num.columns)\n",
    "data_num.info()\n",
    "\n",
    "#imputing test data. We are using the same imputer to transform test data\n",
    "X_test = pd.DataFrame(imputer.transform(X_test),columns = X_test.columns)"
   ]
  },
  {
   "cell_type": "markdown",
   "metadata": {},
   "source": [
    "- Now we do not have any missing values in our data. "
   ]
  },
  {
   "cell_type": "markdown",
   "metadata": {},
   "source": [
    "## Dealing with class imbalance\n",
    "- As we saw before there is a significant class imbalance. Due to this our model will not be able to effectively learn the characteristics of the minority\n",
    "- The below bar plot reiterates this problem"
   ]
  },
  {
   "cell_type": "code",
   "execution_count": 116,
   "metadata": {},
   "outputs": [
    {
     "data": {
      "text/plain": [
       "<matplotlib.axes._subplots.AxesSubplot at 0x1d8cf210f70>"
      ]
     },
     "execution_count": 116,
     "metadata": {},
     "output_type": "execute_result"
    },
    {
     "data": {
      "text/plain": [
       "Text(0.5, 0, 'Class')"
      ]
     },
     "execution_count": 116,
     "metadata": {},
     "output_type": "execute_result"
    },
    {
     "data": {
      "text/plain": [
       "Text(0, 0.5, 'Class Counts')"
      ]
     },
     "execution_count": 116,
     "metadata": {},
     "output_type": "execute_result"
    },
    {
     "data": {
      "text/plain": [
       "Text(0.5, 1.0, 'Class Distribution before imbalance correction')"
      ]
     },
     "execution_count": 116,
     "metadata": {},
     "output_type": "execute_result"
    },
    {
     "data": {
      "image/png": "[encoded data removed]",
      "text/plain": [
       "<Figure size 360x360 with 1 Axes>"
      ]
     },
     "metadata": {
      "needs_background": "light"
     },
     "output_type": "display_data"
    }
   ],
   "source": [
    "plt.rcParams['figure.figsize'] = [5, 5]\n",
    "y_train.value_counts().plot.bar()\n",
    "plt.xlabel(\"Class\")\n",
    "plt.ylabel(\"Class Counts\")\n",
    "plt.title(\"Class Distribution before imbalance correction\")"
   ]
  },
  {
   "cell_type": "markdown",
   "metadata": {},
   "source": [
    "- In order to correct this we employ SMOTE technique from SKlearn. \n",
    "- Ideally we can perform simple oversampling or undersampling. But undersampling eliminates valuable data which can be used by our model and oversampling might cause the problem of overfitting\n",
    "- Hence we employ the method of synthetically creating minority class samples. SMOTE is a popular technique for that."
   ]
  },
  {
   "cell_type": "code",
   "execution_count": 117,
   "metadata": {},
   "outputs": [],
   "source": [
    "#saving unbalanced dataset for future use | we use deep copy here\n",
    "data_num_unb = data_num.copy(deep=True)\n",
    "y_train_unb = y_train.copy(deep=True)"
   ]
  },
  {
   "cell_type": "code",
   "execution_count": 118,
   "metadata": {},
   "outputs": [],
   "source": [
    "SM = SMOTE(sampling_strategy='auto', k_neighbors=5, random_state=42)\n",
    "data_num, y_train = SM.fit_resample(data_num, y_train)"
   ]
  },
  {
   "cell_type": "code",
   "execution_count": 119,
   "metadata": {
    "scrolled": false
   },
   "outputs": [
    {
     "data": {
      "text/plain": [
       "<matplotlib.axes._subplots.AxesSubplot at 0x1d8cdfbb580>"
      ]
     },
     "execution_count": 119,
     "metadata": {},
     "output_type": "execute_result"
    },
    {
     "data": {
      "text/plain": [
       "Text(0.5, 0, 'Class')"
      ]
     },
     "execution_count": 119,
     "metadata": {},
     "output_type": "execute_result"
    },
    {
     "data": {
      "text/plain": [
       "Text(0, 0.5, 'Class Counts')"
      ]
     },
     "execution_count": 119,
     "metadata": {},
     "output_type": "execute_result"
    },
    {
     "data": {
      "text/plain": [
       "Text(0.5, 1.0, 'Class Distribution after SMOTE')"
      ]
     },
     "execution_count": 119,
     "metadata": {},
     "output_type": "execute_result"
    },
    {
     "data": {
      "image/png": "[encoded data removed]",
      "text/plain": [
       "<Figure size 360x360 with 1 Axes>"
      ]
     },
     "metadata": {
      "needs_background": "light"
     },
     "output_type": "display_data"
    }
   ],
   "source": [
    "plt.rcParams['figure.figsize'] = [5, 5]\n",
    "y_train.value_counts().plot.bar()\n",
    "plt.xlabel(\"Class\")\n",
    "plt.ylabel(\"Class Counts\")\n",
    "plt.title(\"Class Distribution after SMOTE\")"
   ]
  },
  {
   "cell_type": "markdown",
   "metadata": {},
   "source": [
    "- Now we have equal representation from both classes"
   ]
  },
  {
   "cell_type": "markdown",
   "metadata": {},
   "source": [
    "- Considering the lower precision from our models in sections 6.6,6.7 I am trying a differet resampling technique adasyn\n",
    "- Considering Adasyn introduces randomness after performing the over sampling, data might be realistic"
   ]
  },
  {
   "cell_type": "code",
   "execution_count": 120,
   "metadata": {},
   "outputs": [],
   "source": [
    "ad = ADASYN(random_state=42)\n",
    "data_num_ad, y_train_ad = ad.fit_resample(data_num_unb, y_train_unb)"
   ]
  },
  {
   "cell_type": "code",
   "execution_count": 121,
   "metadata": {},
   "outputs": [
    {
     "data": {
      "text/plain": [
       "<matplotlib.axes._subplots.AxesSubplot at 0x1d8cd3a8c10>"
      ]
     },
     "execution_count": 121,
     "metadata": {},
     "output_type": "execute_result"
    },
    {
     "data": {
      "text/plain": [
       "Text(0.5, 0, 'Class')"
      ]
     },
     "execution_count": 121,
     "metadata": {},
     "output_type": "execute_result"
    },
    {
     "data": {
      "text/plain": [
       "Text(0, 0.5, 'Class Counts')"
      ]
     },
     "execution_count": 121,
     "metadata": {},
     "output_type": "execute_result"
    },
    {
     "data": {
      "text/plain": [
       "Text(0.5, 1.0, 'Class Distribution after ADASYN')"
      ]
     },
     "execution_count": 121,
     "metadata": {},
     "output_type": "execute_result"
    },
    {
     "data": {
      "image/png": "[encoded data removed]",
      "text/plain": [
       "<Figure size 360x360 with 1 Axes>"
      ]
     },
     "metadata": {
      "needs_background": "light"
     },
     "output_type": "display_data"
    }
   ],
   "source": [
    "plt.rcParams['figure.figsize'] = [5, 5]\n",
    "y_train_ad.value_counts().plot.bar()\n",
    "plt.xlabel(\"Class\")\n",
    "plt.ylabel(\"Class Counts\")\n",
    "plt.title(\"Class Distribution after ADASYN\")"
   ]
  },
  {
   "cell_type": "markdown",
   "metadata": {},
   "source": [
    "# Exploratory Data Analysis\n",
    "- Given the high dimensionality of our data set, it is difficult to visualize the features \n",
    "- Here we construct a pivot table with mean as the aggregating function to check for distinguishing characters between class-0 and class-1 examples"
   ]
  },
  {
   "cell_type": "code",
   "execution_count": 26,
   "metadata": {},
   "outputs": [
    {
     "data": {
      "text/html": [
       "<div>\n",
       "<style scoped>\n",
       "    .dataframe tbody tr th:only-of-type {\n",
       "        vertical-align: middle;\n",
       "    }\n",
       "\n",
       "    .dataframe tbody tr th {\n",
       "        vertical-align: top;\n",
       "    }\n",
       "\n",
       "    .dataframe thead th {\n",
       "        text-align: right;\n",
       "    }\n",
       "</style>\n",
       "<table border=\"1\" class=\"dataframe\">\n",
       "  <thead>\n",
       "    <tr style=\"text-align: right;\">\n",
       "      <th></th>\n",
       "      <th>X1</th>\n",
       "      <th>X2</th>\n",
       "      <th>X3</th>\n",
       "      <th>X4</th>\n",
       "      <th>X5</th>\n",
       "      <th>X6</th>\n",
       "      <th>X7</th>\n",
       "      <th>X8</th>\n",
       "      <th>X9</th>\n",
       "      <th>X10</th>\n",
       "      <th>...</th>\n",
       "      <th>X55</th>\n",
       "      <th>X56</th>\n",
       "      <th>X57</th>\n",
       "      <th>X58</th>\n",
       "      <th>X59</th>\n",
       "      <th>X60</th>\n",
       "      <th>X61</th>\n",
       "      <th>X62</th>\n",
       "      <th>X63</th>\n",
       "      <th>X64</th>\n",
       "    </tr>\n",
       "  </thead>\n",
       "  <tbody>\n",
       "    <tr>\n",
       "      <th>0</th>\n",
       "      <td>0.034528</td>\n",
       "      <td>0.30035</td>\n",
       "      <td>0.204410</td>\n",
       "      <td>1.77250</td>\n",
       "      <td>25.9680</td>\n",
       "      <td>-0.19624</td>\n",
       "      <td>0.034528</td>\n",
       "      <td>2.32940</td>\n",
       "      <td>1.4943</td>\n",
       "      <td>0.69965</td>\n",
       "      <td>...</td>\n",
       "      <td>63.489</td>\n",
       "      <td>0.037867</td>\n",
       "      <td>0.04935</td>\n",
       "      <td>0.97694</td>\n",
       "      <td>0.00000</td>\n",
       "      <td>14.5910</td>\n",
       "      <td>4.6122</td>\n",
       "      <td>64.634</td>\n",
       "      <td>5.6472</td>\n",
       "      <td>2.8143</td>\n",
       "    </tr>\n",
       "    <tr>\n",
       "      <th>1</th>\n",
       "      <td>0.060186</td>\n",
       "      <td>0.63270</td>\n",
       "      <td>0.092142</td>\n",
       "      <td>1.15640</td>\n",
       "      <td>-123.7500</td>\n",
       "      <td>0.17648</td>\n",
       "      <td>0.072793</td>\n",
       "      <td>0.58052</td>\n",
       "      <td>1.0788</td>\n",
       "      <td>0.36730</td>\n",
       "      <td>...</td>\n",
       "      <td>15086.000</td>\n",
       "      <td>0.073016</td>\n",
       "      <td>0.16386</td>\n",
       "      <td>0.92698</td>\n",
       "      <td>0.11885</td>\n",
       "      <td>2.8150</td>\n",
       "      <td>13.0160</td>\n",
       "      <td>142.070</td>\n",
       "      <td>2.5691</td>\n",
       "      <td>4.7468</td>\n",
       "    </tr>\n",
       "    <tr>\n",
       "      <th>2</th>\n",
       "      <td>-0.056756</td>\n",
       "      <td>0.80413</td>\n",
       "      <td>0.066074</td>\n",
       "      <td>1.08220</td>\n",
       "      <td>-41.1000</td>\n",
       "      <td>-0.06441</td>\n",
       "      <td>-0.046925</td>\n",
       "      <td>0.16731</td>\n",
       "      <td>1.0007</td>\n",
       "      <td>0.13454</td>\n",
       "      <td>...</td>\n",
       "      <td>1148.000</td>\n",
       "      <td>0.000656</td>\n",
       "      <td>-0.42184</td>\n",
       "      <td>0.99934</td>\n",
       "      <td>0.00000</td>\n",
       "      <td>7.0622</td>\n",
       "      <td>4.7799</td>\n",
       "      <td>132.220</td>\n",
       "      <td>2.7605</td>\n",
       "      <td>17.1010</td>\n",
       "    </tr>\n",
       "    <tr>\n",
       "      <th>3</th>\n",
       "      <td>0.152950</td>\n",
       "      <td>0.86722</td>\n",
       "      <td>0.364170</td>\n",
       "      <td>1.69340</td>\n",
       "      <td>-8.9739</td>\n",
       "      <td>0.00000</td>\n",
       "      <td>0.152950</td>\n",
       "      <td>0.15312</td>\n",
       "      <td>2.7425</td>\n",
       "      <td>0.13278</td>\n",
       "      <td>...</td>\n",
       "      <td>1022.200</td>\n",
       "      <td>0.023209</td>\n",
       "      <td>1.15190</td>\n",
       "      <td>0.94790</td>\n",
       "      <td>2.57560</td>\n",
       "      <td>6.5051</td>\n",
       "      <td>6.3195</td>\n",
       "      <td>69.900</td>\n",
       "      <td>5.2217</td>\n",
       "      <td>24.7940</td>\n",
       "    </tr>\n",
       "    <tr>\n",
       "      <th>4</th>\n",
       "      <td>0.126900</td>\n",
       "      <td>0.60746</td>\n",
       "      <td>-0.126100</td>\n",
       "      <td>0.79241</td>\n",
       "      <td>-46.6500</td>\n",
       "      <td>0.26527</td>\n",
       "      <td>0.159650</td>\n",
       "      <td>0.58595</td>\n",
       "      <td>1.0713</td>\n",
       "      <td>0.35594</td>\n",
       "      <td>...</td>\n",
       "      <td>-30721.000</td>\n",
       "      <td>0.066537</td>\n",
       "      <td>0.35651</td>\n",
       "      <td>0.93346</td>\n",
       "      <td>0.00000</td>\n",
       "      <td>12.6900</td>\n",
       "      <td>14.0290</td>\n",
       "      <td>69.478</td>\n",
       "      <td>5.2534</td>\n",
       "      <td>6.1532</td>\n",
       "    </tr>\n",
       "  </tbody>\n",
       "</table>\n",
       "<p>5 rows × 63 columns</p>\n",
       "</div>"
      ],
      "text/plain": [
       "         X1       X2        X3       X4        X5       X6        X7       X8  \\\n",
       "0  0.034528  0.30035  0.204410  1.77250   25.9680 -0.19624  0.034528  2.32940   \n",
       "1  0.060186  0.63270  0.092142  1.15640 -123.7500  0.17648  0.072793  0.58052   \n",
       "2 -0.056756  0.80413  0.066074  1.08220  -41.1000 -0.06441 -0.046925  0.16731   \n",
       "3  0.152950  0.86722  0.364170  1.69340   -8.9739  0.00000  0.152950  0.15312   \n",
       "4  0.126900  0.60746 -0.126100  0.79241  -46.6500  0.26527  0.159650  0.58595   \n",
       "\n",
       "       X9      X10  ...        X55       X56      X57      X58      X59  \\\n",
       "0  1.4943  0.69965  ...     63.489  0.037867  0.04935  0.97694  0.00000   \n",
       "1  1.0788  0.36730  ...  15086.000  0.073016  0.16386  0.92698  0.11885   \n",
       "2  1.0007  0.13454  ...   1148.000  0.000656 -0.42184  0.99934  0.00000   \n",
       "3  2.7425  0.13278  ...   1022.200  0.023209  1.15190  0.94790  2.57560   \n",
       "4  1.0713  0.35594  ... -30721.000  0.066537  0.35651  0.93346  0.00000   \n",
       "\n",
       "       X60      X61      X62     X63      X64  \n",
       "0  14.5910   4.6122   64.634  5.6472   2.8143  \n",
       "1   2.8150  13.0160  142.070  2.5691   4.7468  \n",
       "2   7.0622   4.7799  132.220  2.7605  17.1010  \n",
       "3   6.5051   6.3195   69.900  5.2217  24.7940  \n",
       "4  12.6900  14.0290   69.478  5.2534   6.1532  \n",
       "\n",
       "[5 rows x 63 columns]"
      ]
     },
     "execution_count": 26,
     "metadata": {},
     "output_type": "execute_result"
    }
   ],
   "source": [
    "data_num.head()"
   ]
  },
  {
   "cell_type": "code",
   "execution_count": 122,
   "metadata": {},
   "outputs": [],
   "source": [
    "#combining data frame with target for easier analysis. This data set will not be used for training\n",
    "data_combine = data_num.copy(deep=True)\n",
    "data_combine[\"Bankrupt\"] = y_train"
   ]
  },
  {
   "cell_type": "code",
   "execution_count": 123,
   "metadata": {},
   "outputs": [
    {
     "data": {
      "text/html": [
       "<div>\n",
       "<style scoped>\n",
       "    .dataframe tbody tr th:only-of-type {\n",
       "        vertical-align: middle;\n",
       "    }\n",
       "\n",
       "    .dataframe tbody tr th {\n",
       "        vertical-align: top;\n",
       "    }\n",
       "\n",
       "    .dataframe thead tr th {\n",
       "        text-align: left;\n",
       "    }\n",
       "\n",
       "    .dataframe thead tr:last-of-type th {\n",
       "        text-align: right;\n",
       "    }\n",
       "</style>\n",
       "<table border=\"1\" class=\"dataframe\">\n",
       "  <thead>\n",
       "    <tr>\n",
       "      <th></th>\n",
       "      <th>X1</th>\n",
       "      <th>X10</th>\n",
       "      <th>X11</th>\n",
       "      <th>X12</th>\n",
       "      <th>X13</th>\n",
       "      <th>X14</th>\n",
       "      <th>X15</th>\n",
       "      <th>X16</th>\n",
       "      <th>X17</th>\n",
       "      <th>X18</th>\n",
       "      <th>...</th>\n",
       "      <th>X59</th>\n",
       "      <th>X6</th>\n",
       "      <th>X60</th>\n",
       "      <th>X61</th>\n",
       "      <th>X62</th>\n",
       "      <th>X63</th>\n",
       "      <th>X64</th>\n",
       "      <th>X7</th>\n",
       "      <th>X8</th>\n",
       "      <th>X9</th>\n",
       "    </tr>\n",
       "    <tr>\n",
       "      <th></th>\n",
       "      <th>median</th>\n",
       "      <th>median</th>\n",
       "      <th>median</th>\n",
       "      <th>median</th>\n",
       "      <th>median</th>\n",
       "      <th>median</th>\n",
       "      <th>median</th>\n",
       "      <th>median</th>\n",
       "      <th>median</th>\n",
       "      <th>median</th>\n",
       "      <th>...</th>\n",
       "      <th>median</th>\n",
       "      <th>median</th>\n",
       "      <th>median</th>\n",
       "      <th>median</th>\n",
       "      <th>median</th>\n",
       "      <th>median</th>\n",
       "      <th>median</th>\n",
       "      <th>median</th>\n",
       "      <th>median</th>\n",
       "      <th>median</th>\n",
       "    </tr>\n",
       "    <tr>\n",
       "      <th>Bankrupt</th>\n",
       "      <th></th>\n",
       "      <th></th>\n",
       "      <th></th>\n",
       "      <th></th>\n",
       "      <th></th>\n",
       "      <th></th>\n",
       "      <th></th>\n",
       "      <th></th>\n",
       "      <th></th>\n",
       "      <th></th>\n",
       "      <th></th>\n",
       "      <th></th>\n",
       "      <th></th>\n",
       "      <th></th>\n",
       "      <th></th>\n",
       "      <th></th>\n",
       "      <th></th>\n",
       "      <th></th>\n",
       "      <th></th>\n",
       "      <th></th>\n",
       "      <th></th>\n",
       "    </tr>\n",
       "  </thead>\n",
       "  <tbody>\n",
       "    <tr>\n",
       "      <th>0</th>\n",
       "      <td>0.051543</td>\n",
       "      <td>0.537090</td>\n",
       "      <td>0.075630</td>\n",
       "      <td>0.189120</td>\n",
       "      <td>0.070985</td>\n",
       "      <td>0.06240</td>\n",
       "      <td>944.050000</td>\n",
       "      <td>0.258425</td>\n",
       "      <td>2.293450</td>\n",
       "      <td>0.06240</td>\n",
       "      <td>...</td>\n",
       "      <td>0.007740</td>\n",
       "      <td>0.000000</td>\n",
       "      <td>9.379800</td>\n",
       "      <td>6.088150</td>\n",
       "      <td>72.215000</td>\n",
       "      <td>5.051400</td>\n",
       "      <td>4.224000</td>\n",
       "      <td>0.062341</td>\n",
       "      <td>1.223700</td>\n",
       "      <td>1.137800</td>\n",
       "    </tr>\n",
       "    <tr>\n",
       "      <th>1</th>\n",
       "      <td>-0.062497</td>\n",
       "      <td>0.251329</td>\n",
       "      <td>-0.045634</td>\n",
       "      <td>-0.116088</td>\n",
       "      <td>-0.018966</td>\n",
       "      <td>-0.06232</td>\n",
       "      <td>-520.313295</td>\n",
       "      <td>-0.037031</td>\n",
       "      <td>1.411659</td>\n",
       "      <td>-0.06232</td>\n",
       "      <td>...</td>\n",
       "      <td>0.025511</td>\n",
       "      <td>-0.073495</td>\n",
       "      <td>10.890284</td>\n",
       "      <td>8.355602</td>\n",
       "      <td>132.547573</td>\n",
       "      <td>3.043532</td>\n",
       "      <td>5.467625</td>\n",
       "      <td>-0.062320</td>\n",
       "      <td>0.387783</td>\n",
       "      <td>1.398913</td>\n",
       "    </tr>\n",
       "  </tbody>\n",
       "</table>\n",
       "<p>2 rows × 63 columns</p>\n",
       "</div>"
      ],
      "text/plain": [
       "                X1       X10       X11       X12       X13      X14  \\\n",
       "            median    median    median    median    median   median   \n",
       "Bankrupt                                                              \n",
       "0         0.051543  0.537090  0.075630  0.189120  0.070985  0.06240   \n",
       "1        -0.062497  0.251329 -0.045634 -0.116088 -0.018966 -0.06232   \n",
       "\n",
       "                 X15       X16       X17      X18  ...       X59        X6  \\\n",
       "              median    median    median   median  ...    median    median   \n",
       "Bankrupt                                           ...                       \n",
       "0         944.050000  0.258425  2.293450  0.06240  ...  0.007740  0.000000   \n",
       "1        -520.313295 -0.037031  1.411659 -0.06232  ...  0.025511 -0.073495   \n",
       "\n",
       "                X60       X61         X62       X63       X64        X7  \\\n",
       "             median    median      median    median    median    median   \n",
       "Bankrupt                                                                  \n",
       "0          9.379800  6.088150   72.215000  5.051400  4.224000  0.062341   \n",
       "1         10.890284  8.355602  132.547573  3.043532  5.467625 -0.062320   \n",
       "\n",
       "                X8        X9  \n",
       "            median    median  \n",
       "Bankrupt                      \n",
       "0         1.223700  1.137800  \n",
       "1         0.387783  1.398913  \n",
       "\n",
       "[2 rows x 63 columns]"
      ]
     },
     "execution_count": 123,
     "metadata": {},
     "output_type": "execute_result"
    }
   ],
   "source": [
    "table = pd.pivot_table(data_combine, values = data_combine.columns, index=[\"Bankrupt\"],aggfunc={np.median})\n",
    "table"
   ]
  },
  {
   "cell_type": "code",
   "execution_count": 129,
   "metadata": {},
   "outputs": [
    {
     "data": {
      "text/plain": [
       "<Figure size 2160x2160 with 0 Axes>"
      ]
     },
     "execution_count": 129,
     "metadata": {},
     "output_type": "execute_result"
    },
    {
     "data": {
      "text/plain": [
       "<matplotlib.axes._subplots.AxesSubplot at 0x1d8cfee4700>"
      ]
     },
     "execution_count": 129,
     "metadata": {},
     "output_type": "execute_result"
    },
    {
     "data": {
      "text/plain": [
       "<matplotlib.axes._subplots.AxesSubplot at 0x1d8cfee4700>"
      ]
     },
     "execution_count": 129,
     "metadata": {},
     "output_type": "execute_result"
    },
    {
     "data": {
      "text/plain": [
       "Text(0.5, 0, 'Features')"
      ]
     },
     "execution_count": 129,
     "metadata": {},
     "output_type": "execute_result"
    },
    {
     "data": {
      "text/plain": [
       "Text(0, 0.5, 'Median Value')"
      ]
     },
     "execution_count": 129,
     "metadata": {},
     "output_type": "execute_result"
    },
    {
     "data": {
      "text/plain": [
       "Text(0.5, 1.0, 'Feature Median value comparision')"
      ]
     },
     "execution_count": 129,
     "metadata": {},
     "output_type": "execute_result"
    },
    {
     "data": {
      "image/png": "[encoded data removed]",
      "text/plain": [
       "<Figure size 2160x2160 with 1 Axes>"
      ]
     },
     "metadata": {
      "needs_background": "light"
     },
     "output_type": "display_data"
    }
   ],
   "source": [
    "plt.figure(figsize=(30,30))\n",
    "table.iloc[0,:].plot(kind =\"bar\", color =\"g\", alpha = 0.5)\n",
    "table.iloc[1,:].plot(kind =\"bar\",color=\"r\", alpha = 0.5)\n",
    "plt.xlabel(\"Features\",fontsize=20)\n",
    "plt.ylabel(\"Median Value\",fontsize=20)\n",
    "plt.title(\"Feature Median value comparision\",fontsize=20)"
   ]
  },
  {
   "cell_type": "markdown",
   "metadata": {},
   "source": [
    "- Our pivot table is calculating the median values across different features\n",
    "- Looking at the above graph, we can identify that class1 and class0 cases differ significantly on few factors.\n",
    "- Few cases are X15 ((total liabilities * 365) / (gross profit + depreciation)), X32 ((current liabilities * 365) / cost of products sold), X55 (working capital)\n",
    "- Working capital (X55) is important for the day to day functioning of the business. So it is expected for the class 0 examples to have higher working capital when compared to class 1 examples\n",
    "\n",
    "\n",
    "\n",
    "\n"
   ]
  },
  {
   "cell_type": "markdown",
   "metadata": {},
   "source": [
    "# Feature selection\n",
    "- In our problem we 64 features (high-dimensional data)\n",
    "- In this section, we try to explore some techniques to select the most important features for the classification problem"
   ]
  },
  {
   "cell_type": "markdown",
   "metadata": {},
   "source": [
    "## Mutual information classification technique\n",
    "- In this technique we are calculating the information gain from the features and selecting the ones with high values\n",
    "- We utilize sklearn feature selection module for this selection\n",
    "- We also plan to remove the id column, as we know it is just a record keeping number"
   ]
  },
  {
   "cell_type": "code",
   "execution_count": 30,
   "metadata": {
    "scrolled": false
   },
   "outputs": [
    {
     "data": {
      "text/plain": [
       "<Figure size 3600x3600 with 0 Axes>"
      ]
     },
     "execution_count": 30,
     "metadata": {},
     "output_type": "execute_result"
    },
    {
     "data": {
      "text/plain": [
       "<matplotlib.axes._subplots.AxesSubplot at 0x1d8cf6d2af0>"
      ]
     },
     "execution_count": 30,
     "metadata": {},
     "output_type": "execute_result"
    },
    {
     "data": {
      "image/png": "[encoded data removed]",
      "text/plain": [
       "<Figure size 3600x3600 with 1 Axes>"
      ]
     },
     "metadata": {
      "needs_background": "light"
     },
     "output_type": "display_data"
    }
   ],
   "source": [
    "plt.figure(figsize=(50,50))\n",
    "\n",
    "from sklearn.feature_selection import mutual_info_classif\n",
    "ig_ranks = mutual_info_classif(data_num,y_train)\n",
    "ig_ranks_series = pd.Series(ig_ranks,data_num.columns)\n",
    "ig_ranks_series.plot(kind=\"bar\",color=\"teal\")\n",
    "\n",
    "plt.show()"
   ]
  },
  {
   "cell_type": "code",
   "execution_count": 130,
   "metadata": {},
   "outputs": [
    {
     "data": {
      "text/html": [
       "<div>\n",
       "<style scoped>\n",
       "    .dataframe tbody tr th:only-of-type {\n",
       "        vertical-align: middle;\n",
       "    }\n",
       "\n",
       "    .dataframe tbody tr th {\n",
       "        vertical-align: top;\n",
       "    }\n",
       "\n",
       "    .dataframe thead th {\n",
       "        text-align: right;\n",
       "    }\n",
       "</style>\n",
       "<table border=\"1\" class=\"dataframe\">\n",
       "  <thead>\n",
       "    <tr style=\"text-align: right;\">\n",
       "      <th></th>\n",
       "      <th>Score</th>\n",
       "    </tr>\n",
       "  </thead>\n",
       "  <tbody>\n",
       "    <tr>\n",
       "      <th>X42</th>\n",
       "      <td>0.181256</td>\n",
       "    </tr>\n",
       "    <tr>\n",
       "      <th>X27</th>\n",
       "      <td>0.177564</td>\n",
       "    </tr>\n",
       "    <tr>\n",
       "      <th>X16</th>\n",
       "      <td>0.175441</td>\n",
       "    </tr>\n",
       "    <tr>\n",
       "      <th>X39</th>\n",
       "      <td>0.175060</td>\n",
       "    </tr>\n",
       "    <tr>\n",
       "      <th>X6</th>\n",
       "      <td>0.174247</td>\n",
       "    </tr>\n",
       "    <tr>\n",
       "      <th>X22</th>\n",
       "      <td>0.172699</td>\n",
       "    </tr>\n",
       "    <tr>\n",
       "      <th>X26</th>\n",
       "      <td>0.170832</td>\n",
       "    </tr>\n",
       "    <tr>\n",
       "      <th>X41</th>\n",
       "      <td>0.169600</td>\n",
       "    </tr>\n",
       "    <tr>\n",
       "      <th>X15</th>\n",
       "      <td>0.169169</td>\n",
       "    </tr>\n",
       "    <tr>\n",
       "      <th>X35</th>\n",
       "      <td>0.168081</td>\n",
       "    </tr>\n",
       "    <tr>\n",
       "      <th>X13</th>\n",
       "      <td>0.158483</td>\n",
       "    </tr>\n",
       "    <tr>\n",
       "      <th>X55</th>\n",
       "      <td>0.155636</td>\n",
       "    </tr>\n",
       "    <tr>\n",
       "      <th>X45</th>\n",
       "      <td>0.150765</td>\n",
       "    </tr>\n",
       "    <tr>\n",
       "      <th>X18</th>\n",
       "      <td>0.143727</td>\n",
       "    </tr>\n",
       "    <tr>\n",
       "      <th>X14</th>\n",
       "      <td>0.143714</td>\n",
       "    </tr>\n",
       "    <tr>\n",
       "      <th>X7</th>\n",
       "      <td>0.143537</td>\n",
       "    </tr>\n",
       "    <tr>\n",
       "      <th>X23</th>\n",
       "      <td>0.140274</td>\n",
       "    </tr>\n",
       "    <tr>\n",
       "      <th>X31</th>\n",
       "      <td>0.139821</td>\n",
       "    </tr>\n",
       "    <tr>\n",
       "      <th>X25</th>\n",
       "      <td>0.137803</td>\n",
       "    </tr>\n",
       "    <tr>\n",
       "      <th>X1</th>\n",
       "      <td>0.136199</td>\n",
       "    </tr>\n",
       "    <tr>\n",
       "      <th>X19</th>\n",
       "      <td>0.135317</td>\n",
       "    </tr>\n",
       "    <tr>\n",
       "      <th>X12</th>\n",
       "      <td>0.132859</td>\n",
       "    </tr>\n",
       "    <tr>\n",
       "      <th>X11</th>\n",
       "      <td>0.129148</td>\n",
       "    </tr>\n",
       "    <tr>\n",
       "      <th>X38</th>\n",
       "      <td>0.120080</td>\n",
       "    </tr>\n",
       "    <tr>\n",
       "      <th>X46</th>\n",
       "      <td>0.114528</td>\n",
       "    </tr>\n",
       "    <tr>\n",
       "      <th>X54</th>\n",
       "      <td>0.110952</td>\n",
       "    </tr>\n",
       "    <tr>\n",
       "      <th>X57</th>\n",
       "      <td>0.108026</td>\n",
       "    </tr>\n",
       "    <tr>\n",
       "      <th>X10</th>\n",
       "      <td>0.107697</td>\n",
       "    </tr>\n",
       "    <tr>\n",
       "      <th>X56</th>\n",
       "      <td>0.105419</td>\n",
       "    </tr>\n",
       "    <tr>\n",
       "      <th>X51</th>\n",
       "      <td>0.103685</td>\n",
       "    </tr>\n",
       "  </tbody>\n",
       "</table>\n",
       "</div>"
      ],
      "text/plain": [
       "        Score\n",
       "X42  0.181256\n",
       "X27  0.177564\n",
       "X16  0.175441\n",
       "X39  0.175060\n",
       "X6   0.174247\n",
       "X22  0.172699\n",
       "X26  0.170832\n",
       "X41  0.169600\n",
       "X15  0.169169\n",
       "X35  0.168081\n",
       "X13  0.158483\n",
       "X55  0.155636\n",
       "X45  0.150765\n",
       "X18  0.143727\n",
       "X14  0.143714\n",
       "X7   0.143537\n",
       "X23  0.140274\n",
       "X31  0.139821\n",
       "X25  0.137803\n",
       "X1   0.136199\n",
       "X19  0.135317\n",
       "X12  0.132859\n",
       "X11  0.129148\n",
       "X38  0.120080\n",
       "X46  0.114528\n",
       "X54  0.110952\n",
       "X57  0.108026\n",
       "X10  0.107697\n",
       "X56  0.105419\n",
       "X51  0.103685"
      ]
     },
     "execution_count": 130,
     "metadata": {},
     "output_type": "execute_result"
    }
   ],
   "source": [
    "#creating a data frame for the Information gain scores\n",
    "ig_ranks_df = pd.DataFrame(ig_ranks_series.sort_values(ascending = False),columns = [\"Score\"])\n",
    "\n",
    "ig_ranks_df.head(30)"
   ]
  },
  {
   "cell_type": "markdown",
   "metadata": {},
   "source": [
    "- The above are the top 30 features based on information gain. X27 (profit on operating activities / financial expenses) , X22 (profit on operating activities / total assets) , X42 (profit on operating activities / sales) are the top features\n",
    "- We can see an interesting pattern here. All the of these three features contain profit on operating activities as the numerator. So this value might be important for deciding the porbability of bankruptcy\n",
    "- Lets try few other techniques"
   ]
  },
  {
   "cell_type": "markdown",
   "metadata": {},
   "source": [
    "## Checking correlation\n",
    "- Now lets try to see the correlation amongst different variables. This helps us identify not only the imporatance features but also identify multi-colinearity amongst the features\n"
   ]
  },
  {
   "cell_type": "code",
   "execution_count": 33,
   "metadata": {
    "scrolled": false
   },
   "outputs": [
    {
     "data": {
      "text/plain": [
       "<Figure size 2880x2880 with 0 Axes>"
      ]
     },
     "execution_count": 33,
     "metadata": {},
     "output_type": "execute_result"
    },
    {
     "data": {
      "text/plain": [
       "<matplotlib.axes._subplots.AxesSubplot at 0x1d8d03d1e80>"
      ]
     },
     "execution_count": 33,
     "metadata": {},
     "output_type": "execute_result"
    },
    {
     "data": {
      "image/png": "[encoded data removed]",
      "text/plain": [
       "<Figure size 2880x2880 with 2 Axes>"
      ]
     },
     "metadata": {
      "needs_background": "light"
     },
     "output_type": "display_data"
    }
   ],
   "source": [
    "import seaborn as sns\n",
    "from seaborn import heatmap\n",
    "\n",
    "plt.figure(figsize=(40,40))\n",
    "corr = data_combine.corr()\n",
    "heatmap(corr, cmap = 'coolwarm')\n",
    "plt.show()"
   ]
  },
  {
   "cell_type": "markdown",
   "metadata": {},
   "source": [
    "- From the above heatmap we can see that there are no features that are strongly correlated with bankruptcy.\n",
    "- The pearson correlation statastic is looking for a linear relationship. Our target variable seemed to be uncorrelated probably due to non-linearity in the data\n",
    "- Another thing to notice is the high correlations between some of the features. This gives us the evidence of multi-colinearity. We will try this adress this in the coming sections"
   ]
  },
  {
   "cell_type": "code",
   "execution_count": 34,
   "metadata": {},
   "outputs": [
    {
     "data": {
      "text/plain": [
       "<bound method IndexOpsMixin.transpose of X1         -0.048416\n",
       "X2          0.128660\n",
       "X3         -0.124391\n",
       "X4         -0.018840\n",
       "X5         -0.040440\n",
       "              ...   \n",
       "X61         0.047501\n",
       "X62         0.060900\n",
       "X63        -0.005842\n",
       "X64         0.033593\n",
       "Bankrupt    1.000000\n",
       "Name: Bankrupt, Length: 64, dtype: float64>"
      ]
     },
     "execution_count": 34,
     "metadata": {},
     "output_type": "execute_result"
    }
   ],
   "source": [
    "#creating a correlation df for the target. This will be used later for selecting features for our classification models\n",
    "corr_bankrupt = corr[\"Bankrupt\"].copy(deep = True)\n",
    "corr_bankrupt.transpose"
   ]
  },
  {
   "cell_type": "code",
   "execution_count": 35,
   "metadata": {},
   "outputs": [
    {
     "data": {
      "text/plain": [
       "Bankrupt    1.000000\n",
       "X29         0.298808\n",
       "X39         0.136776\n",
       "X56         0.132240\n",
       "X2          0.128660\n",
       "X3          0.124391\n",
       "X51         0.121627\n",
       "X55         0.113460\n",
       "X9          0.111764\n",
       "X58         0.101057\n",
       "Name: Bankrupt, dtype: float64"
      ]
     },
     "execution_count": 35,
     "metadata": {},
     "output_type": "execute_result"
    }
   ],
   "source": [
    "corr_bankrupt = np.absolute(corr_bankrupt)\n",
    "corr_bankrupt.sort_values(ascending = False).head(10)"
   ]
  },
  {
   "cell_type": "code",
   "execution_count": 36,
   "metadata": {},
   "outputs": [],
   "source": [
    "corr_bankrupt_df = pd.DataFrame(corr_bankrupt)\n",
    "corr_bankrupt_df = corr_bankrupt_df.rename(columns={\"Bankrupt\":\"Correlation\"})"
   ]
  },
  {
   "cell_type": "markdown",
   "metadata": {},
   "source": [
    "## Emebed Models\n",
    "- In this section we use Machine learning Models to estimate the importance of features. We employ Lasso and Random Forests for this purpose\n",
    "- With L1 regularization Lasso models sets the values of non important features to 0"
   ]
  },
  {
   "cell_type": "markdown",
   "metadata": {},
   "source": [
    "### Lasso (L1)"
   ]
  },
  {
   "cell_type": "code",
   "execution_count": 131,
   "metadata": {},
   "outputs": [
    {
     "name": "stderr",
     "output_type": "stream",
     "text": [
      "C:\\Users\\Santosh\\anaconda3\\lib\\site-packages\\sklearn\\svm\\_base.py:985: ConvergenceWarning: Liblinear failed to converge, increase the number of iterations.\n",
      "  warnings.warn(\"Liblinear failed to converge, increase \"\n"
     ]
    },
    {
     "data": {
      "text/html": [
       "<div>\n",
       "<style scoped>\n",
       "    .dataframe tbody tr th:only-of-type {\n",
       "        vertical-align: middle;\n",
       "    }\n",
       "\n",
       "    .dataframe tbody tr th {\n",
       "        vertical-align: top;\n",
       "    }\n",
       "\n",
       "    .dataframe thead th {\n",
       "        text-align: right;\n",
       "    }\n",
       "</style>\n",
       "<table border=\"1\" class=\"dataframe\">\n",
       "  <thead>\n",
       "    <tr style=\"text-align: right;\">\n",
       "      <th></th>\n",
       "      <th>Features</th>\n",
       "      <th>Lasso_score</th>\n",
       "    </tr>\n",
       "  </thead>\n",
       "  <tbody>\n",
       "    <tr>\n",
       "      <th>0</th>\n",
       "      <td>X1</td>\n",
       "      <td>1.670176</td>\n",
       "    </tr>\n",
       "    <tr>\n",
       "      <th>1</th>\n",
       "      <td>X2</td>\n",
       "      <td>0.938575</td>\n",
       "    </tr>\n",
       "    <tr>\n",
       "      <th>2</th>\n",
       "      <td>X3</td>\n",
       "      <td>0.906450</td>\n",
       "    </tr>\n",
       "    <tr>\n",
       "      <th>3</th>\n",
       "      <td>X4</td>\n",
       "      <td>0.110597</td>\n",
       "    </tr>\n",
       "    <tr>\n",
       "      <th>4</th>\n",
       "      <td>X5</td>\n",
       "      <td>0.000005</td>\n",
       "    </tr>\n",
       "    <tr>\n",
       "      <th>...</th>\n",
       "      <td>...</td>\n",
       "      <td>...</td>\n",
       "    </tr>\n",
       "    <tr>\n",
       "      <th>58</th>\n",
       "      <td>X60</td>\n",
       "      <td>0.000007</td>\n",
       "    </tr>\n",
       "    <tr>\n",
       "      <th>59</th>\n",
       "      <td>X61</td>\n",
       "      <td>0.002456</td>\n",
       "    </tr>\n",
       "    <tr>\n",
       "      <th>60</th>\n",
       "      <td>X62</td>\n",
       "      <td>0.000871</td>\n",
       "    </tr>\n",
       "    <tr>\n",
       "      <th>61</th>\n",
       "      <td>X63</td>\n",
       "      <td>0.015150</td>\n",
       "    </tr>\n",
       "    <tr>\n",
       "      <th>62</th>\n",
       "      <td>X64</td>\n",
       "      <td>0.000660</td>\n",
       "    </tr>\n",
       "  </tbody>\n",
       "</table>\n",
       "<p>63 rows × 2 columns</p>\n",
       "</div>"
      ],
      "text/plain": [
       "   Features  Lasso_score\n",
       "0        X1     1.670176\n",
       "1        X2     0.938575\n",
       "2        X3     0.906450\n",
       "3        X4     0.110597\n",
       "4        X5     0.000005\n",
       "..      ...          ...\n",
       "58      X60     0.000007\n",
       "59      X61     0.002456\n",
       "60      X62     0.000871\n",
       "61      X63     0.015150\n",
       "62      X64     0.000660\n",
       "\n",
       "[63 rows x 2 columns]"
      ]
     },
     "execution_count": 131,
     "metadata": {},
     "output_type": "execute_result"
    }
   ],
   "source": [
    "from sklearn.linear_model import LogisticRegression\n",
    "\n",
    "logist = LogisticRegression(C=1,penalty=\"l1\",solver=\"liblinear\",random_state=42).fit(data_num,y_train)\n",
    "\n",
    "df_coef = pd.DataFrame(logist.coef_)\n",
    "\n",
    "df_lasso_feat = pd.DataFrame(columns =[\"Features\",\"Lasso_score\"])\n",
    "df_lasso_feat[\"Features\"] = [columns for columns in data_num.columns]\n",
    "df_lasso_feat[\"Lasso_score\"] = [float(abs(df_coef[i].values)) for i in range(logist.coef_.shape[1])]\n",
    "df_lasso_feat"
   ]
  },
  {
   "cell_type": "markdown",
   "metadata": {},
   "source": [
    "- Some of the feature coefficients have been set 0. We can probably remove these to reduce the dimensionality in our problem"
   ]
  },
  {
   "cell_type": "markdown",
   "metadata": {},
   "source": [
    "### Random Forests Importance\n",
    "- Here we employ Random Forest algorithm's built-in methods to identify the important features"
   ]
  },
  {
   "cell_type": "code",
   "execution_count": 133,
   "metadata": {},
   "outputs": [
    {
     "data": {
      "text/plain": [
       "RandomForestClassifier(n_estimators=300, random_state=50)"
      ]
     },
     "execution_count": 133,
     "metadata": {},
     "output_type": "execute_result"
    }
   ],
   "source": [
    "from sklearn.ensemble import RandomForestClassifier\n",
    "\n",
    "model_rf = RandomForestClassifier(n_estimators=300,random_state=50)\n",
    "model_rf.fit(data_num,y_train)\n",
    "\n",
    "#getting the importance\n",
    "importance_rf = model_rf.feature_importances_\n",
    "\n",
    "#creating data frame for visualization\n",
    "importance_rf_df = pd.DataFrame({\"Features\":pd.DataFrame(data_num).columns,\"Importance\":importance_rf})"
   ]
  },
  {
   "cell_type": "code",
   "execution_count": 135,
   "metadata": {},
   "outputs": [
    {
     "data": {
      "text/plain": [
       "<matplotlib.axes._subplots.AxesSubplot at 0x1d8e2806c40>"
      ]
     },
     "execution_count": 135,
     "metadata": {},
     "output_type": "execute_result"
    },
    {
     "data": {
      "text/plain": [
       "Text(0.5, 0, 'Features')"
      ]
     },
     "execution_count": 135,
     "metadata": {},
     "output_type": "execute_result"
    },
    {
     "data": {
      "text/plain": [
       "Text(0, 0.5, 'Random Forest Importances')"
      ]
     },
     "execution_count": 135,
     "metadata": {},
     "output_type": "execute_result"
    },
    {
     "data": {
      "text/plain": [
       "Text(0.5, 1.0, 'Random Forest Importance for Features')"
      ]
     },
     "execution_count": 135,
     "metadata": {},
     "output_type": "execute_result"
    },
    {
     "data": {
      "image/png": "[encoded data removed]",
      "text/plain": [
       "<Figure size 2160x1440 with 1 Axes>"
      ]
     },
     "metadata": {
      "needs_background": "light"
     },
     "output_type": "display_data"
    }
   ],
   "source": [
    "plt.rcParams['figure.figsize'] = [30, 20]\n",
    "importance_rf_df.plot(kind = \"bar\", color=\"teal\")\n",
    "plt.xlabel(\"Features\",fontsize=20)\n",
    "plt.ylabel(\"Random Forest Importances\",fontsize=20)\n",
    "plt.title(\"Random Forest Importance for Features\", fontsize=20)\n",
    "plt.show()"
   ]
  },
  {
   "cell_type": "code",
   "execution_count": 136,
   "metadata": {},
   "outputs": [
    {
     "data": {
      "text/html": [
       "<div>\n",
       "<style scoped>\n",
       "    .dataframe tbody tr th:only-of-type {\n",
       "        vertical-align: middle;\n",
       "    }\n",
       "\n",
       "    .dataframe tbody tr th {\n",
       "        vertical-align: top;\n",
       "    }\n",
       "\n",
       "    .dataframe thead th {\n",
       "        text-align: right;\n",
       "    }\n",
       "</style>\n",
       "<table border=\"1\" class=\"dataframe\">\n",
       "  <thead>\n",
       "    <tr style=\"text-align: right;\">\n",
       "      <th></th>\n",
       "      <th>Features</th>\n",
       "      <th>Importance</th>\n",
       "    </tr>\n",
       "  </thead>\n",
       "  <tbody>\n",
       "    <tr>\n",
       "      <th>5</th>\n",
       "      <td>X6</td>\n",
       "      <td>0.055665</td>\n",
       "    </tr>\n",
       "    <tr>\n",
       "      <th>34</th>\n",
       "      <td>X35</td>\n",
       "      <td>0.051584</td>\n",
       "    </tr>\n",
       "    <tr>\n",
       "      <th>37</th>\n",
       "      <td>X39</td>\n",
       "      <td>0.049095</td>\n",
       "    </tr>\n",
       "    <tr>\n",
       "      <th>26</th>\n",
       "      <td>X27</td>\n",
       "      <td>0.044500</td>\n",
       "    </tr>\n",
       "    <tr>\n",
       "      <th>25</th>\n",
       "      <td>X26</td>\n",
       "      <td>0.034891</td>\n",
       "    </tr>\n",
       "    <tr>\n",
       "      <th>...</th>\n",
       "      <td>...</td>\n",
       "      <td>...</td>\n",
       "    </tr>\n",
       "    <tr>\n",
       "      <th>46</th>\n",
       "      <td>X48</td>\n",
       "      <td>0.007873</td>\n",
       "    </tr>\n",
       "    <tr>\n",
       "      <th>48</th>\n",
       "      <td>X50</td>\n",
       "      <td>0.007792</td>\n",
       "    </tr>\n",
       "    <tr>\n",
       "      <th>31</th>\n",
       "      <td>X32</td>\n",
       "      <td>0.007273</td>\n",
       "    </tr>\n",
       "    <tr>\n",
       "      <th>50</th>\n",
       "      <td>X52</td>\n",
       "      <td>0.006093</td>\n",
       "    </tr>\n",
       "    <tr>\n",
       "      <th>61</th>\n",
       "      <td>X63</td>\n",
       "      <td>0.006056</td>\n",
       "    </tr>\n",
       "  </tbody>\n",
       "</table>\n",
       "<p>63 rows × 2 columns</p>\n",
       "</div>"
      ],
      "text/plain": [
       "   Features  Importance\n",
       "5        X6    0.055665\n",
       "34      X35    0.051584\n",
       "37      X39    0.049095\n",
       "26      X27    0.044500\n",
       "25      X26    0.034891\n",
       "..      ...         ...\n",
       "46      X48    0.007873\n",
       "48      X50    0.007792\n",
       "31      X32    0.007273\n",
       "50      X52    0.006093\n",
       "61      X63    0.006056\n",
       "\n",
       "[63 rows x 2 columns]"
      ]
     },
     "execution_count": 136,
     "metadata": {},
     "output_type": "execute_result"
    }
   ],
   "source": [
    "importance_rf_df.sort_values(\"Importance\",ascending = False)"
   ]
  },
  {
   "cell_type": "markdown",
   "metadata": {},
   "source": [
    "- from the above dataframe we can identify the important features for this problem"
   ]
  },
  {
   "cell_type": "markdown",
   "metadata": {},
   "source": [
    "## Dimensionality Reduction\n",
    "- As seen from the correlation heatmap, the features in this data set are highly correlated\n",
    "- This probably due to the same metrics being used in different Financial Ratios\n",
    "- In this section we explore this problem more and reduce the dimensions of the dataset to fix multi-colinearity"
   ]
  },
  {
   "cell_type": "markdown",
   "metadata": {},
   "source": [
    "- We employ Principal Component Analysis for dimensionality reduction\n",
    "- This algorithm is sensitive to the scale of features. Hence we use a standard scaler to scale the data"
   ]
  },
  {
   "cell_type": "code",
   "execution_count": 137,
   "metadata": {},
   "outputs": [
    {
     "data": {
      "text/html": [
       "<div>\n",
       "<style scoped>\n",
       "    .dataframe tbody tr th:only-of-type {\n",
       "        vertical-align: middle;\n",
       "    }\n",
       "\n",
       "    .dataframe tbody tr th {\n",
       "        vertical-align: top;\n",
       "    }\n",
       "\n",
       "    .dataframe thead th {\n",
       "        text-align: right;\n",
       "    }\n",
       "</style>\n",
       "<table border=\"1\" class=\"dataframe\">\n",
       "  <thead>\n",
       "    <tr style=\"text-align: right;\">\n",
       "      <th></th>\n",
       "      <th>X1</th>\n",
       "      <th>X2</th>\n",
       "      <th>X3</th>\n",
       "      <th>X4</th>\n",
       "      <th>X5</th>\n",
       "      <th>X6</th>\n",
       "      <th>X7</th>\n",
       "      <th>X8</th>\n",
       "      <th>X9</th>\n",
       "      <th>X10</th>\n",
       "      <th>...</th>\n",
       "      <th>X55</th>\n",
       "      <th>X56</th>\n",
       "      <th>X57</th>\n",
       "      <th>X58</th>\n",
       "      <th>X59</th>\n",
       "      <th>X60</th>\n",
       "      <th>X61</th>\n",
       "      <th>X62</th>\n",
       "      <th>X63</th>\n",
       "      <th>X64</th>\n",
       "    </tr>\n",
       "  </thead>\n",
       "  <tbody>\n",
       "    <tr>\n",
       "      <th>0</th>\n",
       "      <td>0.046569</td>\n",
       "      <td>-0.205957</td>\n",
       "      <td>0.113247</td>\n",
       "      <td>-0.026599</td>\n",
       "      <td>0.032731</td>\n",
       "      <td>0.038379</td>\n",
       "      <td>0.045923</td>\n",
       "      <td>-0.017096</td>\n",
       "      <td>-0.154410</td>\n",
       "      <td>0.028640</td>\n",
       "      <td>...</td>\n",
       "      <td>-0.067188</td>\n",
       "      <td>0.091705</td>\n",
       "      <td>0.046475</td>\n",
       "      <td>-0.069182</td>\n",
       "      <td>-0.075650</td>\n",
       "      <td>-0.012095</td>\n",
       "      <td>-0.188297</td>\n",
       "      <td>-0.107560</td>\n",
       "      <td>-0.033589</td>\n",
       "      <td>-0.066456</td>\n",
       "    </tr>\n",
       "    <tr>\n",
       "      <th>1</th>\n",
       "      <td>0.048448</td>\n",
       "      <td>-0.072155</td>\n",
       "      <td>0.068729</td>\n",
       "      <td>-0.034592</td>\n",
       "      <td>0.028399</td>\n",
       "      <td>0.065356</td>\n",
       "      <td>0.048724</td>\n",
       "      <td>-0.037952</td>\n",
       "      <td>-0.459034</td>\n",
       "      <td>-0.011799</td>\n",
       "      <td>...</td>\n",
       "      <td>0.173201</td>\n",
       "      <td>0.136120</td>\n",
       "      <td>0.065158</td>\n",
       "      <td>-0.117460</td>\n",
       "      <td>-0.055168</td>\n",
       "      <td>-0.012315</td>\n",
       "      <td>-0.000878</td>\n",
       "      <td>-0.070671</td>\n",
       "      <td>-0.067027</td>\n",
       "      <td>-0.064336</td>\n",
       "    </tr>\n",
       "    <tr>\n",
       "      <th>2</th>\n",
       "      <td>0.039885</td>\n",
       "      <td>-0.003139</td>\n",
       "      <td>0.058392</td>\n",
       "      <td>-0.035555</td>\n",
       "      <td>0.030790</td>\n",
       "      <td>0.047921</td>\n",
       "      <td>0.039959</td>\n",
       "      <td>-0.042880</td>\n",
       "      <td>-0.516293</td>\n",
       "      <td>-0.040119</td>\n",
       "      <td>...</td>\n",
       "      <td>-0.049834</td>\n",
       "      <td>0.044685</td>\n",
       "      <td>-0.030403</td>\n",
       "      <td>-0.047536</td>\n",
       "      <td>-0.075650</td>\n",
       "      <td>-0.012236</td>\n",
       "      <td>-0.184557</td>\n",
       "      <td>-0.075363</td>\n",
       "      <td>-0.064948</td>\n",
       "      <td>-0.050788</td>\n",
       "    </tr>\n",
       "    <tr>\n",
       "      <th>3</th>\n",
       "      <td>0.055240</td>\n",
       "      <td>0.022261</td>\n",
       "      <td>0.176596</td>\n",
       "      <td>-0.027625</td>\n",
       "      <td>0.031720</td>\n",
       "      <td>0.052583</td>\n",
       "      <td>0.054594</td>\n",
       "      <td>-0.043049</td>\n",
       "      <td>0.760708</td>\n",
       "      <td>-0.040334</td>\n",
       "      <td>...</td>\n",
       "      <td>-0.051847</td>\n",
       "      <td>0.073183</td>\n",
       "      <td>0.226362</td>\n",
       "      <td>-0.097244</td>\n",
       "      <td>0.368213</td>\n",
       "      <td>-0.012246</td>\n",
       "      <td>-0.150221</td>\n",
       "      <td>-0.105051</td>\n",
       "      <td>-0.038211</td>\n",
       "      <td>-0.042351</td>\n",
       "    </tr>\n",
       "    <tr>\n",
       "      <th>4</th>\n",
       "      <td>0.053333</td>\n",
       "      <td>-0.082317</td>\n",
       "      <td>-0.017811</td>\n",
       "      <td>-0.039314</td>\n",
       "      <td>0.030630</td>\n",
       "      <td>0.071783</td>\n",
       "      <td>0.055084</td>\n",
       "      <td>-0.037887</td>\n",
       "      <td>-0.464533</td>\n",
       "      <td>-0.013181</td>\n",
       "      <td>...</td>\n",
       "      <td>-0.559799</td>\n",
       "      <td>0.127933</td>\n",
       "      <td>0.096590</td>\n",
       "      <td>-0.111198</td>\n",
       "      <td>-0.075650</td>\n",
       "      <td>-0.012131</td>\n",
       "      <td>0.021714</td>\n",
       "      <td>-0.105252</td>\n",
       "      <td>-0.037867</td>\n",
       "      <td>-0.062794</td>\n",
       "    </tr>\n",
       "    <tr>\n",
       "      <th>5</th>\n",
       "      <td>0.050452</td>\n",
       "      <td>-0.200804</td>\n",
       "      <td>0.095300</td>\n",
       "      <td>-0.025391</td>\n",
       "      <td>0.030293</td>\n",
       "      <td>0.069611</td>\n",
       "      <td>0.049850</td>\n",
       "      <td>-0.018718</td>\n",
       "      <td>-0.325821</td>\n",
       "      <td>0.027082</td>\n",
       "      <td>...</td>\n",
       "      <td>1.353343</td>\n",
       "      <td>0.304957</td>\n",
       "      <td>0.059220</td>\n",
       "      <td>-0.246574</td>\n",
       "      <td>-0.043212</td>\n",
       "      <td>-0.012322</td>\n",
       "      <td>-0.170594</td>\n",
       "      <td>-0.082623</td>\n",
       "      <td>-0.061042</td>\n",
       "      <td>-0.068584</td>\n",
       "    </tr>\n",
       "    <tr>\n",
       "      <th>6</th>\n",
       "      <td>0.052671</td>\n",
       "      <td>-0.320825</td>\n",
       "      <td>0.350325</td>\n",
       "      <td>0.655911</td>\n",
       "      <td>0.043264</td>\n",
       "      <td>0.071177</td>\n",
       "      <td>0.054079</td>\n",
       "      <td>0.733067</td>\n",
       "      <td>-0.386892</td>\n",
       "      <td>0.062808</td>\n",
       "      <td>...</td>\n",
       "      <td>1.755535</td>\n",
       "      <td>0.234030</td>\n",
       "      <td>0.058036</td>\n",
       "      <td>-0.192333</td>\n",
       "      <td>-0.075650</td>\n",
       "      <td>-0.012316</td>\n",
       "      <td>-0.204058</td>\n",
       "      <td>-0.134245</td>\n",
       "      <td>0.365261</td>\n",
       "      <td>-0.065720</td>\n",
       "    </tr>\n",
       "    <tr>\n",
       "      <th>7</th>\n",
       "      <td>0.044280</td>\n",
       "      <td>-0.145464</td>\n",
       "      <td>-0.016360</td>\n",
       "      <td>-0.041273</td>\n",
       "      <td>0.031255</td>\n",
       "      <td>0.055268</td>\n",
       "      <td>0.043802</td>\n",
       "      <td>-0.032804</td>\n",
       "      <td>-0.516828</td>\n",
       "      <td>-0.000995</td>\n",
       "      <td>...</td>\n",
       "      <td>-0.089368</td>\n",
       "      <td>0.043819</td>\n",
       "      <td>0.039592</td>\n",
       "      <td>-0.046898</td>\n",
       "      <td>-0.034394</td>\n",
       "      <td>-0.011558</td>\n",
       "      <td>0.185565</td>\n",
       "      <td>-0.117011</td>\n",
       "      <td>-0.006417</td>\n",
       "      <td>-0.065635</td>\n",
       "    </tr>\n",
       "    <tr>\n",
       "      <th>8</th>\n",
       "      <td>0.046009</td>\n",
       "      <td>-0.145423</td>\n",
       "      <td>0.209433</td>\n",
       "      <td>-0.023611</td>\n",
       "      <td>0.032586</td>\n",
       "      <td>0.052583</td>\n",
       "      <td>0.045815</td>\n",
       "      <td>-0.030342</td>\n",
       "      <td>-0.040479</td>\n",
       "      <td>0.010345</td>\n",
       "      <td>...</td>\n",
       "      <td>-0.035618</td>\n",
       "      <td>0.056255</td>\n",
       "      <td>0.046407</td>\n",
       "      <td>-0.065819</td>\n",
       "      <td>-0.075650</td>\n",
       "      <td>-0.012279</td>\n",
       "      <td>-0.219426</td>\n",
       "      <td>-0.091370</td>\n",
       "      <td>-0.054730</td>\n",
       "      <td>-0.052678</td>\n",
       "    </tr>\n",
       "    <tr>\n",
       "      <th>9</th>\n",
       "      <td>0.045193</td>\n",
       "      <td>-0.252972</td>\n",
       "      <td>0.339725</td>\n",
       "      <td>0.018190</td>\n",
       "      <td>0.038378</td>\n",
       "      <td>0.087714</td>\n",
       "      <td>0.044887</td>\n",
       "      <td>0.004169</td>\n",
       "      <td>-0.516931</td>\n",
       "      <td>0.035369</td>\n",
       "      <td>...</td>\n",
       "      <td>0.180194</td>\n",
       "      <td>0.043646</td>\n",
       "      <td>0.041823</td>\n",
       "      <td>-0.046704</td>\n",
       "      <td>-0.075650</td>\n",
       "      <td>-0.012001</td>\n",
       "      <td>-0.128250</td>\n",
       "      <td>-0.111099</td>\n",
       "      <td>-0.025620</td>\n",
       "      <td>-0.038111</td>\n",
       "    </tr>\n",
       "    <tr>\n",
       "      <th>10</th>\n",
       "      <td>0.056538</td>\n",
       "      <td>-0.040814</td>\n",
       "      <td>0.067005</td>\n",
       "      <td>-0.034906</td>\n",
       "      <td>0.031604</td>\n",
       "      <td>0.086848</td>\n",
       "      <td>0.055892</td>\n",
       "      <td>-0.040017</td>\n",
       "      <td>-0.401262</td>\n",
       "      <td>-0.021271</td>\n",
       "      <td>...</td>\n",
       "      <td>-0.039911</td>\n",
       "      <td>0.215859</td>\n",
       "      <td>0.134629</td>\n",
       "      <td>-0.178437</td>\n",
       "      <td>-0.048106</td>\n",
       "      <td>-0.012052</td>\n",
       "      <td>-0.238574</td>\n",
       "      <td>-0.059291</td>\n",
       "      <td>-0.071044</td>\n",
       "      <td>-0.063079</td>\n",
       "    </tr>\n",
       "    <tr>\n",
       "      <th>11</th>\n",
       "      <td>0.052393</td>\n",
       "      <td>-0.268991</td>\n",
       "      <td>0.149272</td>\n",
       "      <td>-0.008914</td>\n",
       "      <td>0.033847</td>\n",
       "      <td>0.052583</td>\n",
       "      <td>0.053837</td>\n",
       "      <td>0.026137</td>\n",
       "      <td>-0.045317</td>\n",
       "      <td>0.047690</td>\n",
       "      <td>...</td>\n",
       "      <td>-0.046937</td>\n",
       "      <td>0.152782</td>\n",
       "      <td>0.060159</td>\n",
       "      <td>-0.130728</td>\n",
       "      <td>-0.074538</td>\n",
       "      <td>-0.011234</td>\n",
       "      <td>-0.166932</td>\n",
       "      <td>-0.123719</td>\n",
       "      <td>0.034165</td>\n",
       "      <td>-0.066361</td>\n",
       "    </tr>\n",
       "    <tr>\n",
       "      <th>12</th>\n",
       "      <td>0.034777</td>\n",
       "      <td>-0.082204</td>\n",
       "      <td>0.110562</td>\n",
       "      <td>-0.029712</td>\n",
       "      <td>0.031392</td>\n",
       "      <td>0.043168</td>\n",
       "      <td>0.033264</td>\n",
       "      <td>-0.037464</td>\n",
       "      <td>-0.590503</td>\n",
       "      <td>-0.010535</td>\n",
       "      <td>...</td>\n",
       "      <td>0.319699</td>\n",
       "      <td>-0.097353</td>\n",
       "      <td>-0.016224</td>\n",
       "      <td>0.061140</td>\n",
       "      <td>0.032279</td>\n",
       "      <td>-0.012294</td>\n",
       "      <td>-0.217985</td>\n",
       "      <td>-0.074030</td>\n",
       "      <td>-0.065569</td>\n",
       "      <td>-0.066990</td>\n",
       "    </tr>\n",
       "    <tr>\n",
       "      <th>13</th>\n",
       "      <td>0.072355</td>\n",
       "      <td>-0.151510</td>\n",
       "      <td>0.236366</td>\n",
       "      <td>-0.006321</td>\n",
       "      <td>0.050005</td>\n",
       "      <td>0.052583</td>\n",
       "      <td>0.071708</td>\n",
       "      <td>-0.029423</td>\n",
       "      <td>-0.190701</td>\n",
       "      <td>0.012184</td>\n",
       "      <td>...</td>\n",
       "      <td>0.010359</td>\n",
       "      <td>0.956819</td>\n",
       "      <td>0.150203</td>\n",
       "      <td>-0.739806</td>\n",
       "      <td>-0.009965</td>\n",
       "      <td>-0.012124</td>\n",
       "      <td>-0.222058</td>\n",
       "      <td>-0.111816</td>\n",
       "      <td>-0.023746</td>\n",
       "      <td>-0.063555</td>\n",
       "    </tr>\n",
       "    <tr>\n",
       "      <th>14</th>\n",
       "      <td>0.053071</td>\n",
       "      <td>-0.244590</td>\n",
       "      <td>0.286277</td>\n",
       "      <td>0.009439</td>\n",
       "      <td>0.036594</td>\n",
       "      <td>0.052583</td>\n",
       "      <td>0.052425</td>\n",
       "      <td>0.001546</td>\n",
       "      <td>-0.389165</td>\n",
       "      <td>0.040315</td>\n",
       "      <td>...</td>\n",
       "      <td>0.016746</td>\n",
       "      <td>0.348918</td>\n",
       "      <td>0.063714</td>\n",
       "      <td>-0.276405</td>\n",
       "      <td>-0.075650</td>\n",
       "      <td>-0.012279</td>\n",
       "      <td>-0.217684</td>\n",
       "      <td>-0.111620</td>\n",
       "      <td>-0.024270</td>\n",
       "      <td>-0.062338</td>\n",
       "    </tr>\n",
       "    <tr>\n",
       "      <th>15</th>\n",
       "      <td>0.053821</td>\n",
       "      <td>-0.087128</td>\n",
       "      <td>0.058913</td>\n",
       "      <td>-0.035139</td>\n",
       "      <td>0.030295</td>\n",
       "      <td>0.064206</td>\n",
       "      <td>0.054372</td>\n",
       "      <td>-0.037685</td>\n",
       "      <td>-0.423770</td>\n",
       "      <td>-0.012800</td>\n",
       "      <td>...</td>\n",
       "      <td>1.462732</td>\n",
       "      <td>0.186139</td>\n",
       "      <td>0.099114</td>\n",
       "      <td>-0.155708</td>\n",
       "      <td>-0.073045</td>\n",
       "      <td>-0.011958</td>\n",
       "      <td>-0.172679</td>\n",
       "      <td>-0.079484</td>\n",
       "      <td>-0.062849</td>\n",
       "      <td>-0.063962</td>\n",
       "    </tr>\n",
       "    <tr>\n",
       "      <th>16</th>\n",
       "      <td>0.044434</td>\n",
       "      <td>-0.121240</td>\n",
       "      <td>0.172944</td>\n",
       "      <td>-0.027266</td>\n",
       "      <td>0.032401</td>\n",
       "      <td>0.051863</td>\n",
       "      <td>0.043787</td>\n",
       "      <td>-0.033453</td>\n",
       "      <td>-0.241142</td>\n",
       "      <td>0.003036</td>\n",
       "      <td>...</td>\n",
       "      <td>-0.050200</td>\n",
       "      <td>0.095361</td>\n",
       "      <td>0.040212</td>\n",
       "      <td>-0.086257</td>\n",
       "      <td>-0.069116</td>\n",
       "      <td>-0.012281</td>\n",
       "      <td>-0.234812</td>\n",
       "      <td>-0.076149</td>\n",
       "      <td>-0.064569</td>\n",
       "      <td>-0.059667</td>\n",
       "    </tr>\n",
       "    <tr>\n",
       "      <th>17</th>\n",
       "      <td>0.055943</td>\n",
       "      <td>-0.265452</td>\n",
       "      <td>0.241687</td>\n",
       "      <td>0.008305</td>\n",
       "      <td>0.033323</td>\n",
       "      <td>0.086542</td>\n",
       "      <td>0.058201</td>\n",
       "      <td>0.020814</td>\n",
       "      <td>-0.415192</td>\n",
       "      <td>0.045768</td>\n",
       "      <td>...</td>\n",
       "      <td>0.114538</td>\n",
       "      <td>0.197701</td>\n",
       "      <td>0.069979</td>\n",
       "      <td>-0.164550</td>\n",
       "      <td>-0.075650</td>\n",
       "      <td>-0.012280</td>\n",
       "      <td>-0.177813</td>\n",
       "      <td>-0.122171</td>\n",
       "      <td>0.021813</td>\n",
       "      <td>-0.063907</td>\n",
       "    </tr>\n",
       "    <tr>\n",
       "      <th>18</th>\n",
       "      <td>0.043080</td>\n",
       "      <td>0.162033</td>\n",
       "      <td>-0.049252</td>\n",
       "      <td>-0.038948</td>\n",
       "      <td>0.029680</td>\n",
       "      <td>0.036816</td>\n",
       "      <td>0.043345</td>\n",
       "      <td>-0.046981</td>\n",
       "      <td>0.462169</td>\n",
       "      <td>-0.082580</td>\n",
       "      <td>...</td>\n",
       "      <td>-0.088101</td>\n",
       "      <td>0.142452</td>\n",
       "      <td>0.048404</td>\n",
       "      <td>-0.046704</td>\n",
       "      <td>-0.109603</td>\n",
       "      <td>-0.012199</td>\n",
       "      <td>-0.204125</td>\n",
       "      <td>-0.053083</td>\n",
       "      <td>-0.072783</td>\n",
       "      <td>-0.027021</td>\n",
       "    </tr>\n",
       "    <tr>\n",
       "      <th>19</th>\n",
       "      <td>0.039612</td>\n",
       "      <td>-0.101146</td>\n",
       "      <td>0.196086</td>\n",
       "      <td>-0.025641</td>\n",
       "      <td>0.035747</td>\n",
       "      <td>0.046226</td>\n",
       "      <td>0.038966</td>\n",
       "      <td>-0.035531</td>\n",
       "      <td>-0.554630</td>\n",
       "      <td>-0.003037</td>\n",
       "      <td>...</td>\n",
       "      <td>0.055049</td>\n",
       "      <td>0.206837</td>\n",
       "      <td>0.015960</td>\n",
       "      <td>0.004415</td>\n",
       "      <td>-0.060157</td>\n",
       "      <td>-0.009852</td>\n",
       "      <td>-0.266969</td>\n",
       "      <td>-0.048810</td>\n",
       "      <td>-0.073841</td>\n",
       "      <td>-0.058961</td>\n",
       "    </tr>\n",
       "  </tbody>\n",
       "</table>\n",
       "<p>20 rows × 63 columns</p>\n",
       "</div>"
      ],
      "text/plain": [
       "          X1        X2        X3        X4        X5        X6        X7  \\\n",
       "0   0.046569 -0.205957  0.113247 -0.026599  0.032731  0.038379  0.045923   \n",
       "1   0.048448 -0.072155  0.068729 -0.034592  0.028399  0.065356  0.048724   \n",
       "2   0.039885 -0.003139  0.058392 -0.035555  0.030790  0.047921  0.039959   \n",
       "3   0.055240  0.022261  0.176596 -0.027625  0.031720  0.052583  0.054594   \n",
       "4   0.053333 -0.082317 -0.017811 -0.039314  0.030630  0.071783  0.055084   \n",
       "5   0.050452 -0.200804  0.095300 -0.025391  0.030293  0.069611  0.049850   \n",
       "6   0.052671 -0.320825  0.350325  0.655911  0.043264  0.071177  0.054079   \n",
       "7   0.044280 -0.145464 -0.016360 -0.041273  0.031255  0.055268  0.043802   \n",
       "8   0.046009 -0.145423  0.209433 -0.023611  0.032586  0.052583  0.045815   \n",
       "9   0.045193 -0.252972  0.339725  0.018190  0.038378  0.087714  0.044887   \n",
       "10  0.056538 -0.040814  0.067005 -0.034906  0.031604  0.086848  0.055892   \n",
       "11  0.052393 -0.268991  0.149272 -0.008914  0.033847  0.052583  0.053837   \n",
       "12  0.034777 -0.082204  0.110562 -0.029712  0.031392  0.043168  0.033264   \n",
       "13  0.072355 -0.151510  0.236366 -0.006321  0.050005  0.052583  0.071708   \n",
       "14  0.053071 -0.244590  0.286277  0.009439  0.036594  0.052583  0.052425   \n",
       "15  0.053821 -0.087128  0.058913 -0.035139  0.030295  0.064206  0.054372   \n",
       "16  0.044434 -0.121240  0.172944 -0.027266  0.032401  0.051863  0.043787   \n",
       "17  0.055943 -0.265452  0.241687  0.008305  0.033323  0.086542  0.058201   \n",
       "18  0.043080  0.162033 -0.049252 -0.038948  0.029680  0.036816  0.043345   \n",
       "19  0.039612 -0.101146  0.196086 -0.025641  0.035747  0.046226  0.038966   \n",
       "\n",
       "          X8        X9       X10  ...       X55       X56       X57       X58  \\\n",
       "0  -0.017096 -0.154410  0.028640  ... -0.067188  0.091705  0.046475 -0.069182   \n",
       "1  -0.037952 -0.459034 -0.011799  ...  0.173201  0.136120  0.065158 -0.117460   \n",
       "2  -0.042880 -0.516293 -0.040119  ... -0.049834  0.044685 -0.030403 -0.047536   \n",
       "3  -0.043049  0.760708 -0.040334  ... -0.051847  0.073183  0.226362 -0.097244   \n",
       "4  -0.037887 -0.464533 -0.013181  ... -0.559799  0.127933  0.096590 -0.111198   \n",
       "5  -0.018718 -0.325821  0.027082  ...  1.353343  0.304957  0.059220 -0.246574   \n",
       "6   0.733067 -0.386892  0.062808  ...  1.755535  0.234030  0.058036 -0.192333   \n",
       "7  -0.032804 -0.516828 -0.000995  ... -0.089368  0.043819  0.039592 -0.046898   \n",
       "8  -0.030342 -0.040479  0.010345  ... -0.035618  0.056255  0.046407 -0.065819   \n",
       "9   0.004169 -0.516931  0.035369  ...  0.180194  0.043646  0.041823 -0.046704   \n",
       "10 -0.040017 -0.401262 -0.021271  ... -0.039911  0.215859  0.134629 -0.178437   \n",
       "11  0.026137 -0.045317  0.047690  ... -0.046937  0.152782  0.060159 -0.130728   \n",
       "12 -0.037464 -0.590503 -0.010535  ...  0.319699 -0.097353 -0.016224  0.061140   \n",
       "13 -0.029423 -0.190701  0.012184  ...  0.010359  0.956819  0.150203 -0.739806   \n",
       "14  0.001546 -0.389165  0.040315  ...  0.016746  0.348918  0.063714 -0.276405   \n",
       "15 -0.037685 -0.423770 -0.012800  ...  1.462732  0.186139  0.099114 -0.155708   \n",
       "16 -0.033453 -0.241142  0.003036  ... -0.050200  0.095361  0.040212 -0.086257   \n",
       "17  0.020814 -0.415192  0.045768  ...  0.114538  0.197701  0.069979 -0.164550   \n",
       "18 -0.046981  0.462169 -0.082580  ... -0.088101  0.142452  0.048404 -0.046704   \n",
       "19 -0.035531 -0.554630 -0.003037  ...  0.055049  0.206837  0.015960  0.004415   \n",
       "\n",
       "         X59       X60       X61       X62       X63       X64  \n",
       "0  -0.075650 -0.012095 -0.188297 -0.107560 -0.033589 -0.066456  \n",
       "1  -0.055168 -0.012315 -0.000878 -0.070671 -0.067027 -0.064336  \n",
       "2  -0.075650 -0.012236 -0.184557 -0.075363 -0.064948 -0.050788  \n",
       "3   0.368213 -0.012246 -0.150221 -0.105051 -0.038211 -0.042351  \n",
       "4  -0.075650 -0.012131  0.021714 -0.105252 -0.037867 -0.062794  \n",
       "5  -0.043212 -0.012322 -0.170594 -0.082623 -0.061042 -0.068584  \n",
       "6  -0.075650 -0.012316 -0.204058 -0.134245  0.365261 -0.065720  \n",
       "7  -0.034394 -0.011558  0.185565 -0.117011 -0.006417 -0.065635  \n",
       "8  -0.075650 -0.012279 -0.219426 -0.091370 -0.054730 -0.052678  \n",
       "9  -0.075650 -0.012001 -0.128250 -0.111099 -0.025620 -0.038111  \n",
       "10 -0.048106 -0.012052 -0.238574 -0.059291 -0.071044 -0.063079  \n",
       "11 -0.074538 -0.011234 -0.166932 -0.123719  0.034165 -0.066361  \n",
       "12  0.032279 -0.012294 -0.217985 -0.074030 -0.065569 -0.066990  \n",
       "13 -0.009965 -0.012124 -0.222058 -0.111816 -0.023746 -0.063555  \n",
       "14 -0.075650 -0.012279 -0.217684 -0.111620 -0.024270 -0.062338  \n",
       "15 -0.073045 -0.011958 -0.172679 -0.079484 -0.062849 -0.063962  \n",
       "16 -0.069116 -0.012281 -0.234812 -0.076149 -0.064569 -0.059667  \n",
       "17 -0.075650 -0.012280 -0.177813 -0.122171  0.021813 -0.063907  \n",
       "18 -0.109603 -0.012199 -0.204125 -0.053083 -0.072783 -0.027021  \n",
       "19 -0.060157 -0.009852 -0.266969 -0.048810 -0.073841 -0.058961  \n",
       "\n",
       "[20 rows x 63 columns]"
      ]
     },
     "execution_count": 137,
     "metadata": {},
     "output_type": "execute_result"
    }
   ],
   "source": [
    "#Scaling the data using Standard Scaler\n",
    "from sklearn.preprocessing import StandardScaler\n",
    "\n",
    "scaler = StandardScaler()\n",
    "\n",
    "#storing the column names\n",
    "cols = data_num.columns\n",
    "#fit and transform\n",
    "data_num = scaler.fit_transform(data_num)\n",
    "\n",
    "data_num = pd.DataFrame(data_num, columns = cols )\n",
    "\n",
    "data_num.head(20)"
   ]
  },
  {
   "cell_type": "code",
   "execution_count": 139,
   "metadata": {},
   "outputs": [
    {
     "data": {
      "text/plain": [
       "PCA(n_components=63)"
      ]
     },
     "execution_count": 139,
     "metadata": {},
     "output_type": "execute_result"
    },
    {
     "data": {
      "text/plain": [
       "[<matplotlib.lines.Line2D at 0x1d8e3c04580>]"
      ]
     },
     "execution_count": 139,
     "metadata": {},
     "output_type": "execute_result"
    },
    {
     "data": {
      "text/plain": [
       "Text(0.5, 0, 'number of components')"
      ]
     },
     "execution_count": 139,
     "metadata": {},
     "output_type": "execute_result"
    },
    {
     "data": {
      "text/plain": [
       "Text(0, 0.5, 'cumulative explained variance')"
      ]
     },
     "execution_count": 139,
     "metadata": {},
     "output_type": "execute_result"
    },
    {
     "data": {
      "text/plain": [
       "Text(0.5, 1.0, 'Explained Variance vs. No. of Principal components')"
      ]
     },
     "execution_count": 139,
     "metadata": {},
     "output_type": "execute_result"
    },
    {
     "data": {
      "text/plain": [
       "<matplotlib.lines.Line2D at 0x1d8e3c04370>"
      ]
     },
     "execution_count": 139,
     "metadata": {},
     "output_type": "execute_result"
    },
    {
     "data": {
      "image/png": "[encoded data removed]",
      "text/plain": [
       "<Figure size 720x720 with 1 Axes>"
      ]
     },
     "metadata": {
      "needs_background": "light"
     },
     "output_type": "display_data"
    },
    {
     "data": {
      "text/plain": [
       "None"
      ]
     },
     "metadata": {},
     "output_type": "display_data"
    }
   ],
   "source": [
    "from sklearn.decomposition import PCA\n",
    "\n",
    "#lets first check for 63 components\n",
    "pca_test = PCA(n_components=63)\n",
    "pca_test.fit(data_num)\n",
    "\n",
    "#Lets plot the cumulative explained variance vs. no. components\n",
    "plt.rcParams['figure.figsize'] = [10, 10]\n",
    "plt.plot(np.cumsum(pca_test.explained_variance_ratio_))\n",
    "plt.xlabel('number of components')\n",
    "plt.ylabel('cumulative explained variance')\n",
    "plt.title('Explained Variance vs. No. of Principal components')\n",
    "plt.grid()\n",
    "plt.axvline(linewidth=2, color='r', linestyle = '--', x=30, ymin=0, ymax=1)\n",
    "display(plt.show())"
   ]
  },
  {
   "cell_type": "markdown",
   "metadata": {},
   "source": [
    "- From the above graph we can see that only 30 principal components are necessary for completely explaining the variance\n",
    "- So we can reduce the n_components parameter to 30"
   ]
  },
  {
   "cell_type": "markdown",
   "metadata": {},
   "source": [
    "# Classification Models\n",
    "- In this section we try to implement different Machine Learning models and compare them based on performance statastics\n",
    "- Lets first use a baseline model with out any feature selection or dimensionality reduction. We use Logistic Regression for this"
   ]
  },
  {
   "cell_type": "markdown",
   "metadata": {},
   "source": [
    "## Logistic Regression"
   ]
  },
  {
   "cell_type": "code",
   "execution_count": 43,
   "metadata": {},
   "outputs": [],
   "source": [
    "X_test_num = X_test"
   ]
  },
  {
   "cell_type": "code",
   "execution_count": 44,
   "metadata": {},
   "outputs": [
    {
     "name": "stdout",
     "output_type": "stream",
     "text": [
      "Average Cross Val Score :  0.8022167487684729\n",
      "Out of sample accuracy :  0.8402489626556017\n"
     ]
    }
   ],
   "source": [
    "from sklearn.model_selection import cross_val_score\n",
    "\n",
    "#the data here is already scaled. So need to scale it again for the model\n",
    "logist_base = LogisticRegression(penalty = \"l1\", solver = \"liblinear\",random_state=42).fit(data_num,y_train)\n",
    "\n",
    "#cross validation parameters (folds)\n",
    "k = 5\n",
    "\n",
    "#fitting the transformations and the model\n",
    "cross_val_scores_base = cross_val_score(logist_base,data_num,y_train,cv=k)\n",
    "\n",
    "print(\"Average Cross Val Score : \", format(cross_val_scores_base.mean()) )\n",
    "\n",
    "#predicting test data\n",
    "y_pred = logist_base.predict(X_test_num)\n",
    "\n",
    "#Accuracy out of sample\n",
    "print(\"Out of sample accuracy : \", logist_base.score(X_test_num,y_test))"
   ]
  },
  {
   "cell_type": "markdown",
   "metadata": {},
   "source": [
    "- In our model, we used l1 regularization, which penalizes high values for coefficients. Cosidering we have a high-dimensional data set, l1 can zero out the coefficients for the redundant features.\n",
    "- Our cross_val_score is good, but it does gaurantee better model performance. We need to investigate performance using other metrics like Confusion Matrix, precision and recall"
   ]
  },
  {
   "cell_type": "code",
   "execution_count": 45,
   "metadata": {},
   "outputs": [
    {
     "data": {
      "text/plain": [
       "<sklearn.metrics._plot.confusion_matrix.ConfusionMatrixDisplay at 0x1d8d464ca90>"
      ]
     },
     "execution_count": 45,
     "metadata": {},
     "output_type": "execute_result"
    },
    {
     "data": {
      "text/plain": [
       "<sklearn.metrics._plot.confusion_matrix.ConfusionMatrixDisplay at 0x1d8d43ff880>"
      ]
     },
     "execution_count": 45,
     "metadata": {},
     "output_type": "execute_result"
    },
    {
     "data": {
      "image/png": "[encoded data removed]",
      "text/plain": [
       "<Figure size 360x360 with 2 Axes>"
      ]
     },
     "metadata": {
      "needs_background": "light"
     },
     "output_type": "display_data"
    },
    {
     "data": {
      "image/png": "[encoded data removed]",
      "text/plain": [
       "<Figure size 360x360 with 2 Axes>"
      ]
     },
     "metadata": {
      "needs_background": "light"
     },
     "output_type": "display_data"
    }
   ],
   "source": [
    "from sklearn.metrics import plot_confusion_matrix\n",
    "\n",
    "#setting the plot size\n",
    "plt.rcParams['figure.figsize'] = [5, 5]\n",
    "\n",
    "#plotting the confusion matrix\n",
    "plot_confusion_matrix(logist_base,X_test_num,y_test,normalize = \"true\")\n",
    "\n",
    "plot_confusion_matrix(logist_base,X_test_num,y_test)\n"
   ]
  },
  {
   "cell_type": "markdown",
   "metadata": {},
   "source": [
    "- From the above confusion_matrix we can see that class-1 suffers from significant number of mis-classifications. Class 0 predictions on the other hand seem more accurate"
   ]
  },
  {
   "cell_type": "code",
   "execution_count": 46,
   "metadata": {},
   "outputs": [
    {
     "name": "stdout",
     "output_type": "stream",
     "text": [
      "Precision score :  0.21518987341772153\n",
      "Recall score :  0.53125\n",
      "F1 score :  0.3063063063063063\n"
     ]
    }
   ],
   "source": [
    "from sklearn.metrics import precision_score\n",
    "from sklearn.metrics import recall_score\n",
    "from sklearn.metrics import f1_score\n",
    "\n",
    "print(\"Precision score : \",precision_score(y_test,y_pred))\n",
    "print(\"Recall score : \",recall_score(y_test,y_pred))\n",
    "print(\"F1 score : \",f1_score(y_test,y_pred))"
   ]
  },
  {
   "cell_type": "markdown",
   "metadata": {},
   "source": [
    "- Precision, Recall are important metrics to evaluate the performance of our model\n",
    "- Looking at the scores, we can see that our model has trouble in identifying the class-1 cases\n",
    "- Our aim is to acheive high recall and high precision, where high precision relates to a low false positive rate, and high recall relates to a low false negative rate.\n",
    "- We also look at F1 score given by 2 * (precision * recall) / (precision + recall). This gives us a single metric for evaluation. Our goal is increase this value\n",
    "- Now lets further explore by looking at the precision recall curve"
   ]
  },
  {
   "cell_type": "code",
   "execution_count": 47,
   "metadata": {},
   "outputs": [
    {
     "name": "stdout",
     "output_type": "stream",
     "text": [
      "Average precision-recall score: 0.15\n"
     ]
    },
    {
     "data": {
      "text/plain": [
       "Text(0.5, 1.0, '2-class Precision-Recall curve:AP=0.15')"
      ]
     },
     "execution_count": 47,
     "metadata": {},
     "output_type": "execute_result"
    },
    {
     "data": {
      "image/png": "[encoded data removed]",
      "text/plain": [
       "<Figure size 360x360 with 1 Axes>"
      ]
     },
     "metadata": {
      "needs_background": "light"
     },
     "output_type": "display_data"
    }
   ],
   "source": [
    "from sklearn.metrics import precision_recall_curve\n",
    "from sklearn.metrics import plot_precision_recall_curve\n",
    "import matplotlib.pyplot as plt\n",
    "\n",
    "from sklearn.metrics import average_precision_score\n",
    "\n",
    "average_precision = average_precision_score(y_test, y_pred)\n",
    "\n",
    "print('Average precision-recall score: {0:0.2f}'.format(\n",
    "      average_precision))\n",
    "\n",
    "disp = plot_precision_recall_curve(logist_base, X_test_num, y_test)\n",
    "disp.ax_.set_title('2-class Precision-Recall curve:''AP={0:0.2f}'.format(average_precision))\n"
   ]
  },
  {
   "cell_type": "markdown",
   "metadata": {},
   "source": [
    "- This graph shows us the trade off between precision and recall. We want the area under to be higher, which mean high precision and high recall\n",
    "- the avergae precision is 0.18. This metric is the weighted mean of precisions achieved at each threshold, with the increase in recall from the previous threshold used as the weight"
   ]
  },
  {
   "cell_type": "code",
   "execution_count": 48,
   "metadata": {},
   "outputs": [
    {
     "data": {
      "text/plain": [
       "<sklearn.metrics._plot.roc_curve.RocCurveDisplay at 0x1d8d669fb80>"
      ]
     },
     "execution_count": 48,
     "metadata": {},
     "output_type": "execute_result"
    },
    {
     "data": {
      "image/png": "[encoded data removed]",
      "text/plain": [
       "<Figure size 360x360 with 1 Axes>"
      ]
     },
     "metadata": {
      "needs_background": "light"
     },
     "output_type": "display_data"
    }
   ],
   "source": [
    "from sklearn.metrics import plot_roc_curve\n",
    "plot_roc_curve(logist_base,X_test_num,y_test)"
   ]
  },
  {
   "cell_type": "markdown",
   "metadata": {},
   "source": [
    "- AUC is a measure of our model performance. In the next sections we will try to improve the AUC, which is currently at 0.71"
   ]
  },
  {
   "cell_type": "markdown",
   "metadata": {},
   "source": [
    "## Logistic Regression with PCA\n",
    "\n",
    "- Our training feature data set data_num has to be scaled for applying PCA. This has already been done in the previous sections\n",
    "- We will scale our test data before predicting the values\n",
    "- In our model we are going to use 30 principal components to explain maximum variability. As seen in the Dimensionality reduction section, increasing the components to more than 30 doesn't really explain more variance"
   ]
  },
  {
   "cell_type": "code",
   "execution_count": 140,
   "metadata": {
    "scrolled": true
   },
   "outputs": [
    {
     "data": {
      "text/html": [
       "<div>\n",
       "<style scoped>\n",
       "    .dataframe tbody tr th:only-of-type {\n",
       "        vertical-align: middle;\n",
       "    }\n",
       "\n",
       "    .dataframe tbody tr th {\n",
       "        vertical-align: top;\n",
       "    }\n",
       "\n",
       "    .dataframe thead th {\n",
       "        text-align: right;\n",
       "    }\n",
       "</style>\n",
       "<table border=\"1\" class=\"dataframe\">\n",
       "  <thead>\n",
       "    <tr style=\"text-align: right;\">\n",
       "      <th></th>\n",
       "      <th>X1</th>\n",
       "      <th>X2</th>\n",
       "      <th>X3</th>\n",
       "      <th>X4</th>\n",
       "      <th>X5</th>\n",
       "      <th>X6</th>\n",
       "      <th>X7</th>\n",
       "      <th>X8</th>\n",
       "      <th>X9</th>\n",
       "      <th>X10</th>\n",
       "      <th>...</th>\n",
       "      <th>X55</th>\n",
       "      <th>X56</th>\n",
       "      <th>X57</th>\n",
       "      <th>X58</th>\n",
       "      <th>X59</th>\n",
       "      <th>X60</th>\n",
       "      <th>X61</th>\n",
       "      <th>X62</th>\n",
       "      <th>X63</th>\n",
       "      <th>X64</th>\n",
       "    </tr>\n",
       "  </thead>\n",
       "  <tbody>\n",
       "    <tr>\n",
       "      <th>0</th>\n",
       "      <td>-1.013645</td>\n",
       "      <td>0.332283</td>\n",
       "      <td>-0.017227</td>\n",
       "      <td>-0.116747</td>\n",
       "      <td>-0.070566</td>\n",
       "      <td>-0.042776</td>\n",
       "      <td>-1.028510</td>\n",
       "      <td>-0.136804</td>\n",
       "      <td>1.887705</td>\n",
       "      <td>-0.287408</td>\n",
       "      <td>...</td>\n",
       "      <td>-0.182861</td>\n",
       "      <td>-0.486007</td>\n",
       "      <td>-0.244711</td>\n",
       "      <td>0.073063</td>\n",
       "      <td>-0.148476</td>\n",
       "      <td>-0.094470</td>\n",
       "      <td>-0.103017</td>\n",
       "      <td>-0.225876</td>\n",
       "      <td>-0.075254</td>\n",
       "      <td>-0.007791</td>\n",
       "    </tr>\n",
       "    <tr>\n",
       "      <th>1</th>\n",
       "      <td>-0.151853</td>\n",
       "      <td>0.025322</td>\n",
       "      <td>-0.598566</td>\n",
       "      <td>-0.134259</td>\n",
       "      <td>-0.162575</td>\n",
       "      <td>-0.042929</td>\n",
       "      <td>-0.202215</td>\n",
       "      <td>-0.124658</td>\n",
       "      <td>0.376195</td>\n",
       "      <td>0.004696</td>\n",
       "      <td>...</td>\n",
       "      <td>-0.188199</td>\n",
       "      <td>0.532474</td>\n",
       "      <td>-0.059064</td>\n",
       "      <td>-0.114103</td>\n",
       "      <td>-0.148476</td>\n",
       "      <td>-0.097953</td>\n",
       "      <td>-0.038666</td>\n",
       "      <td>-0.109897</td>\n",
       "      <td>-0.138834</td>\n",
       "      <td>-0.108829</td>\n",
       "    </tr>\n",
       "    <tr>\n",
       "      <th>2</th>\n",
       "      <td>1.309746</td>\n",
       "      <td>-0.278863</td>\n",
       "      <td>0.525921</td>\n",
       "      <td>-0.080796</td>\n",
       "      <td>0.173049</td>\n",
       "      <td>-0.042929</td>\n",
       "      <td>1.544754</td>\n",
       "      <td>-0.103009</td>\n",
       "      <td>0.331341</td>\n",
       "      <td>0.294157</td>\n",
       "      <td>...</td>\n",
       "      <td>-0.171845</td>\n",
       "      <td>0.609476</td>\n",
       "      <td>0.109758</td>\n",
       "      <td>-0.194623</td>\n",
       "      <td>-0.148476</td>\n",
       "      <td>0.135192</td>\n",
       "      <td>-0.256443</td>\n",
       "      <td>-0.192842</td>\n",
       "      <td>-0.098314</td>\n",
       "      <td>-0.080387</td>\n",
       "    </tr>\n",
       "    <tr>\n",
       "      <th>3</th>\n",
       "      <td>-0.247118</td>\n",
       "      <td>0.169709</td>\n",
       "      <td>0.293115</td>\n",
       "      <td>-0.105575</td>\n",
       "      <td>0.010125</td>\n",
       "      <td>-0.233780</td>\n",
       "      <td>-0.237430</td>\n",
       "      <td>-0.131136</td>\n",
       "      <td>0.414328</td>\n",
       "      <td>-0.132702</td>\n",
       "      <td>...</td>\n",
       "      <td>-0.159293</td>\n",
       "      <td>-0.120040</td>\n",
       "      <td>-0.074720</td>\n",
       "      <td>0.024352</td>\n",
       "      <td>-0.148476</td>\n",
       "      <td>-0.101871</td>\n",
       "      <td>-0.211105</td>\n",
       "      <td>-0.039718</td>\n",
       "      <td>-0.161621</td>\n",
       "      <td>-0.016283</td>\n",
       "    </tr>\n",
       "    <tr>\n",
       "      <th>4</th>\n",
       "      <td>-0.201706</td>\n",
       "      <td>-1.043965</td>\n",
       "      <td>2.608106</td>\n",
       "      <td>2.491735</td>\n",
       "      <td>19.648657</td>\n",
       "      <td>-0.042929</td>\n",
       "      <td>-0.250014</td>\n",
       "      <td>1.253277</td>\n",
       "      <td>-0.121140</td>\n",
       "      <td>7.191133</td>\n",
       "      <td>...</td>\n",
       "      <td>-0.021866</td>\n",
       "      <td>1.201833</td>\n",
       "      <td>-0.066648</td>\n",
       "      <td>-0.335931</td>\n",
       "      <td>-0.148476</td>\n",
       "      <td>-0.148000</td>\n",
       "      <td>-0.338484</td>\n",
       "      <td>-0.496325</td>\n",
       "      <td>0.493359</td>\n",
       "      <td>-0.122095</td>\n",
       "    </tr>\n",
       "  </tbody>\n",
       "</table>\n",
       "<p>5 rows × 63 columns</p>\n",
       "</div>"
      ],
      "text/plain": [
       "         X1        X2        X3        X4         X5        X6        X7  \\\n",
       "0 -1.013645  0.332283 -0.017227 -0.116747  -0.070566 -0.042776 -1.028510   \n",
       "1 -0.151853  0.025322 -0.598566 -0.134259  -0.162575 -0.042929 -0.202215   \n",
       "2  1.309746 -0.278863  0.525921 -0.080796   0.173049 -0.042929  1.544754   \n",
       "3 -0.247118  0.169709  0.293115 -0.105575   0.010125 -0.233780 -0.237430   \n",
       "4 -0.201706 -1.043965  2.608106  2.491735  19.648657 -0.042929 -0.250014   \n",
       "\n",
       "         X8        X9       X10  ...       X55       X56       X57       X58  \\\n",
       "0 -0.136804  1.887705 -0.287408  ... -0.182861 -0.486007 -0.244711  0.073063   \n",
       "1 -0.124658  0.376195  0.004696  ... -0.188199  0.532474 -0.059064 -0.114103   \n",
       "2 -0.103009  0.331341  0.294157  ... -0.171845  0.609476  0.109758 -0.194623   \n",
       "3 -0.131136  0.414328 -0.132702  ... -0.159293 -0.120040 -0.074720  0.024352   \n",
       "4  1.253277 -0.121140  7.191133  ... -0.021866  1.201833 -0.066648 -0.335931   \n",
       "\n",
       "        X59       X60       X61       X62       X63       X64  \n",
       "0 -0.148476 -0.094470 -0.103017 -0.225876 -0.075254 -0.007791  \n",
       "1 -0.148476 -0.097953 -0.038666 -0.109897 -0.138834 -0.108829  \n",
       "2 -0.148476  0.135192 -0.256443 -0.192842 -0.098314 -0.080387  \n",
       "3 -0.148476 -0.101871 -0.211105 -0.039718 -0.161621 -0.016283  \n",
       "4 -0.148476 -0.148000 -0.338484 -0.496325  0.493359 -0.122095  \n",
       "\n",
       "[5 rows x 63 columns]"
      ]
     },
     "execution_count": 140,
     "metadata": {},
     "output_type": "execute_result"
    }
   ],
   "source": [
    "#scaling test data set\n",
    "scaler_lr_pca = StandardScaler()\n",
    "\n",
    "#storing the column names\n",
    "cols_test = X_test_num.columns\n",
    "\n",
    "#fit and transform\n",
    "X_test_num = scaler_lr_pca.fit_transform(X_test_num)\n",
    "\n",
    "X_test_num = pd.DataFrame(X_test_num, columns = cols_test )\n",
    "\n",
    "X_test_num.head()"
   ]
  },
  {
   "cell_type": "markdown",
   "metadata": {},
   "source": [
    "- Implementing PCA decomposition with n_components = 30 for both train and test data sets"
   ]
  },
  {
   "cell_type": "code",
   "execution_count": 141,
   "metadata": {},
   "outputs": [],
   "source": [
    "#PCA transformation for test data set\n",
    "pca_lr = PCA(n_components=30)\n",
    "data_num_pca = pca_lr.fit_transform(data_num)\n",
    "\n",
    "#PCA transformation for the training set\n",
    "X_test_num_pca = pca_lr.transform(X_test_num)"
   ]
  },
  {
   "cell_type": "markdown",
   "metadata": {},
   "source": [
    "- Implementing Logistic regression on PCA-transformed data"
   ]
  },
  {
   "cell_type": "code",
   "execution_count": 142,
   "metadata": {},
   "outputs": [
    {
     "name": "stdout",
     "output_type": "stream",
     "text": [
      "Average Cross Val Score :  0.7775862068965517\n",
      "Out of sample accuracy :  0.491701244813278\n"
     ]
    }
   ],
   "source": [
    "logist_pca = LogisticRegression(penalty = \"l1\", solver = \"liblinear\").fit(data_num_pca,y_train)\n",
    "\n",
    "#cross validation parameters (folds)\n",
    "k = 5\n",
    "\n",
    "#fitting the transformations and the model\n",
    "cross_val_scores_base = cross_val_score(logist_pca,data_num_pca,y_train,cv=k)\n",
    "\n",
    "print(\"Average Cross Val Score : \", format(cross_val_scores_base.mean()) )\n",
    "\n",
    "#predicting test data\n",
    "y_pred = logist_pca.predict(X_test_num_pca)\n",
    "\n",
    "#Accuracy out of sample\n",
    "print(\"Out of sample accuracy : \", logist_pca.score(X_test_num_pca,y_test))"
   ]
  },
  {
   "cell_type": "markdown",
   "metadata": {},
   "source": [
    "- The out of sample scores actually decreased with PCA, which is concerning. Lets look at performance metrics"
   ]
  },
  {
   "cell_type": "code",
   "execution_count": 52,
   "metadata": {},
   "outputs": [
    {
     "name": "stdout",
     "output_type": "stream",
     "text": [
      "Precision score :  0.10661764705882353\n",
      "Recall score :  0.90625\n",
      "F1 score :  0.1907894736842105\n"
     ]
    },
    {
     "data": {
      "text/plain": [
       "<sklearn.metrics._plot.confusion_matrix.ConfusionMatrixDisplay at 0x1d8d663ef40>"
      ]
     },
     "execution_count": 52,
     "metadata": {},
     "output_type": "execute_result"
    },
    {
     "data": {
      "text/plain": [
       "<sklearn.metrics._plot.confusion_matrix.ConfusionMatrixDisplay at 0x1d8d6723d00>"
      ]
     },
     "execution_count": 52,
     "metadata": {},
     "output_type": "execute_result"
    },
    {
     "data": {
      "text/plain": [
       "<sklearn.metrics._plot.roc_curve.RocCurveDisplay at 0x1d8d6770880>"
      ]
     },
     "execution_count": 52,
     "metadata": {},
     "output_type": "execute_result"
    },
    {
     "data": {
      "image/png": "[encoded data removed]",
      "text/plain": [
       "<Figure size 360x360 with 2 Axes>"
      ]
     },
     "metadata": {
      "needs_background": "light"
     },
     "output_type": "display_data"
    },
    {
     "data": {
      "image/png": "[encoded data removed]",
      "text/plain": [
       "<Figure size 360x360 with 2 Axes>"
      ]
     },
     "metadata": {
      "needs_background": "light"
     },
     "output_type": "display_data"
    },
    {
     "data": {
      "image/png": "[encoded data removed]",
      "text/plain": [
       "<Figure size 360x360 with 1 Axes>"
      ]
     },
     "metadata": {
      "needs_background": "light"
     },
     "output_type": "display_data"
    }
   ],
   "source": [
    "print(\"Precision score : \",precision_score(y_test,y_pred))\n",
    "print(\"Recall score : \",recall_score(y_test,y_pred))\n",
    "print(\"F1 score : \",f1_score(y_test,y_pred))\n",
    "\n",
    "#setting the plot size\n",
    "plt.rcParams['figure.figsize'] = [5, 5]\n",
    "\n",
    "#plotting the confusion matrix\n",
    "plot_confusion_matrix(logist_pca,X_test_num_pca,y_test,normalize = \"true\")\n",
    "plot_confusion_matrix(logist_pca,X_test_num_pca,y_test)\n",
    "\n",
    "#plotting ROC_curve\n",
    "plot_roc_curve(logist_pca,X_test_num_pca,y_test)\n"
   ]
  },
  {
   "cell_type": "markdown",
   "metadata": {},
   "source": [
    "- The recall score improved drastically, but the precision score also decreased. The model is trying to predict many more text examples as class 1, which is the reason for these changes. \n",
    "- Consider PCA is based on linear transformations, it might not be correct for our problem. \n",
    "- The AUC improved to 0.80\n",
    "- Next, we try to implement other models for this problem\n"
   ]
  },
  {
   "cell_type": "markdown",
   "metadata": {},
   "source": [
    "# Classification Models with selected features\n",
    "- In this section we use the insights from Feature selection to build a subset of features for training and testing\n",
    "- We evaluate the performance by using different classification algorithms"
   ]
  },
  {
   "cell_type": "markdown",
   "metadata": {},
   "source": [
    "## Selecting the Features\n",
    "- We have 4 different data frames on the feature importance\n",
    "    - importance_rf_df = Random Forests importance\n",
    "    - df_lasso_feat = Coefficients of features from Logistic regression with L1\n",
    "    - ig_rank_df = importances based on information gain\n",
    "    - corr_bankrupt = pearson correlations of target variable\n",
    "- Using these four datasets we will try to construct a subset of importance features"
   ]
  },
  {
   "cell_type": "code",
   "execution_count": 53,
   "metadata": {},
   "outputs": [],
   "source": [
    "#sorting values for the df\n",
    "importance_rf_df = importance_rf_df.sort_values(\"Importance\",ascending = False)\n",
    "df_lasso_feat = df_lasso_feat.sort_values(\"Lasso_score\",ascending = False)\n",
    "ig_ranks_df = ig_ranks_df.sort_values(\"Score\",ascending = False)\n",
    "corr_bankrupt_df = corr_bankrupt_df.sort_values(\"Correlation\",ascending = False)"
   ]
  },
  {
   "cell_type": "code",
   "execution_count": 54,
   "metadata": {},
   "outputs": [],
   "source": [
    "#creating feature arrays\n",
    "ar1 = np.array(importance_rf_df[\"Features\"].iloc[:10])\n",
    "ar2 = np.array(df_lasso_feat[\"Features\"].iloc[:10])\n",
    "ar3 = np.array(ig_ranks_df.index[:10])\n",
    "ar4 = np.array(corr_bankrupt_df.index[:10])"
   ]
  },
  {
   "cell_type": "code",
   "execution_count": 55,
   "metadata": {},
   "outputs": [],
   "source": [
    "#creating a common master feature array\n",
    "ar_feat_master = np.concatenate((ar1,ar2,ar3,ar4))\n",
    "ar_feat_master = np.unique(ar_feat_master)"
   ]
  },
  {
   "cell_type": "code",
   "execution_count": 56,
   "metadata": {},
   "outputs": [],
   "source": [
    "#converting to a list for easy iteration\n",
    "ar_feat_master = list(ar_feat_master)\n",
    "#removing Bankrupt as it is our target\n",
    "ar_feat_master = ar_feat_master[1:]"
   ]
  },
  {
   "cell_type": "code",
   "execution_count": 57,
   "metadata": {},
   "outputs": [
    {
     "name": "stdout",
     "output_type": "stream",
     "text": [
      "Selected Features for training : ['X1', 'X10', 'X15', 'X16', 'X2', 'X22', 'X25', 'X26', 'X27', 'X29', 'X3', 'X35', 'X38', 'X39', 'X41', 'X42', 'X48', 'X49', 'X51', 'X55', 'X56', 'X58', 'X6', 'X9']\n"
     ]
    }
   ],
   "source": [
    "print(\"Selected Features for training :\", ar_feat_master)"
   ]
  },
  {
   "cell_type": "markdown",
   "metadata": {},
   "source": [
    "- Now we use these 24 features as our features data set"
   ]
  },
  {
   "cell_type": "markdown",
   "metadata": {},
   "source": [
    "## SVM Classifier\n",
    "- Now we use these selected features in SVC model "
   ]
  },
  {
   "cell_type": "code",
   "execution_count": 58,
   "metadata": {},
   "outputs": [
    {
     "name": "stdout",
     "output_type": "stream",
     "text": [
      "Shape of Training features Data Set : (8120, 24)\n",
      "Shape of Testing features  Data Set : (482, 24)\n",
      "Shape of Training target Data Set : (8120,)\n",
      "Shape of Testing target  Data Set : (482,)\n"
     ]
    }
   ],
   "source": [
    "#selecting and renaming for convinience\n",
    "X_train_select = data_num[ar_feat_master]\n",
    "X_test_select = X_test_num[ar_feat_master]\n",
    "\n",
    "print(\"Shape of Training features Data Set :\", X_train_select.shape)\n",
    "print(\"Shape of Testing features  Data Set :\", X_test_select.shape)\n",
    "print(\"Shape of Training target Data Set :\", y_train.shape)\n",
    "print(\"Shape of Testing target  Data Set :\", y_test.shape)\n"
   ]
  },
  {
   "cell_type": "code",
   "execution_count": 59,
   "metadata": {},
   "outputs": [
    {
     "data": {
      "text/plain": [
       "Pipeline(steps=[('scaler', StandardScaler()), ('SVC', SVC())])"
      ]
     },
     "execution_count": 59,
     "metadata": {},
     "output_type": "execute_result"
    },
    {
     "name": "stdout",
     "output_type": "stream",
     "text": [
      "Model: SVC in sample score=0.79\n",
      "\n",
      "Model: SVC avg cross validation score=0.79\n",
      "\n",
      "Model: SVC out-of-sample score=0.60\n",
      "\n"
     ]
    }
   ],
   "source": [
    "from sklearn.svm import SVC\n",
    "from sklearn.pipeline import Pipeline\n",
    "\n",
    "#standard scaler object\n",
    "scaler = StandardScaler()\n",
    "\n",
    "#classifier data\n",
    "clf = SVC()\n",
    "name = clf.__class__.__name__\n",
    "\n",
    "#pipeline object\n",
    "model_pipeline = Pipeline([(\"scaler\",scaler),(name,clf)])\n",
    "\n",
    "#fitting the pipeline\n",
    "model_pipeline.fit(X_train_select,y_train)\n",
    "\n",
    "#in sample score\n",
    "score_in_sample = model_pipeline.score(X_train_select,y_train)\n",
    "print(\"Model: {m:s} in sample score={s:3.2f}\\n\".format(m=name, s=score_in_sample))\n",
    "\n",
    "#cross validation \n",
    "k = 5\n",
    "cross_val_scores = cross_val_score(model_pipeline.named_steps[name],X_train_select,y_train,cv=k)\n",
    "print(\"Model: {m:s} avg cross validation score={s:3.2f}\\n\".format(m=name, s=cross_val_scores.mean()) )\n",
    "\n",
    "#out of sample score\n",
    "score_out_of_sample = None\n",
    "score_out_of_sample = model_pipeline.score(X_test_select,y_test)\n",
    "print(\"Model: {m:s} out-of-sample score={s:3.2f}\\n\".format(m=name, s=score_out_of_sample))\n"
   ]
  },
  {
   "cell_type": "markdown",
   "metadata": {},
   "source": [
    "- In terms of accuracy SVC performs similar to logistic regression with all features\n",
    "- the out of sample score is lower than in-sample as expected\n",
    "- Let's look at other performance metrics"
   ]
  },
  {
   "cell_type": "code",
   "execution_count": 60,
   "metadata": {},
   "outputs": [],
   "source": [
    "#predicting the out of sample labels\n",
    "y_pred = model_pipeline.predict(X_test_select)"
   ]
  },
  {
   "cell_type": "code",
   "execution_count": 61,
   "metadata": {},
   "outputs": [
    {
     "name": "stdout",
     "output_type": "stream",
     "text": [
      "Precision score :  0.10837438423645321\n",
      "Recall score :  0.6875\n",
      "F1 score :  0.1872340425531915\n"
     ]
    },
    {
     "data": {
      "text/plain": [
       "<sklearn.metrics._plot.confusion_matrix.ConfusionMatrixDisplay at 0x1d8d66e75b0>"
      ]
     },
     "execution_count": 61,
     "metadata": {},
     "output_type": "execute_result"
    },
    {
     "data": {
      "text/plain": [
       "<sklearn.metrics._plot.confusion_matrix.ConfusionMatrixDisplay at 0x1d8d68459a0>"
      ]
     },
     "execution_count": 61,
     "metadata": {},
     "output_type": "execute_result"
    },
    {
     "data": {
      "text/plain": [
       "<sklearn.metrics._plot.roc_curve.RocCurveDisplay at 0x1d8d6a084f0>"
      ]
     },
     "execution_count": 61,
     "metadata": {},
     "output_type": "execute_result"
    },
    {
     "data": {
      "image/png": "[encoded data removed]",
      "text/plain": [
       "<Figure size 360x360 with 2 Axes>"
      ]
     },
     "metadata": {
      "needs_background": "light"
     },
     "output_type": "display_data"
    },
    {
     "data": {
      "image/png": "[encoded data removed]",
      "text/plain": [
       "<Figure size 360x360 with 2 Axes>"
      ]
     },
     "metadata": {
      "needs_background": "light"
     },
     "output_type": "display_data"
    },
    {
     "data": {
      "image/png": "[encoded data removed]",
      "text/plain": [
       "<Figure size 360x360 with 1 Axes>"
      ]
     },
     "metadata": {
      "needs_background": "light"
     },
     "output_type": "display_data"
    }
   ],
   "source": [
    "print(\"Precision score : \",precision_score(y_test,y_pred))\n",
    "print(\"Recall score : \",recall_score(y_test,y_pred))\n",
    "print(\"F1 score : \",f1_score(y_test,y_pred))\n",
    "\n",
    "#setting the plot size\n",
    "plt.rcParams['figure.figsize'] = [5, 5]\n",
    "\n",
    "#plotting the confusion matrix\n",
    "plot_confusion_matrix(model_pipeline,X_test_select,y_test,normalize = \"true\")\n",
    "plot_confusion_matrix(model_pipeline,X_test_select,y_test)\n",
    "\n",
    "#plotting ROC_curve\n",
    "plot_roc_curve(model_pipeline,X_test_select,y_test)\n"
   ]
  },
  {
   "cell_type": "markdown",
   "metadata": {},
   "source": [
    "- Even with the selected features our SVC model still has very low precision\n",
    "- Maybe over sampling by SMOTE is causing the model to misclassify class-0 examples"
   ]
  },
  {
   "cell_type": "markdown",
   "metadata": {},
   "source": [
    "## Random Forests\n",
    "- In a test run, when I ran the random_forests model on un balanced data the class the model was not able to categorize any examples as class-1, i.e., the precision and recall were 0\n",
    "- So we continue to use the balanced data set"
   ]
  },
  {
   "cell_type": "code",
   "execution_count": 62,
   "metadata": {},
   "outputs": [
    {
     "name": "stdout",
     "output_type": "stream",
     "text": [
      "Shape of Training features Data Set : (8120, 24)\n",
      "Shape of Testing features  Data Set : (482, 24)\n",
      "Shape of Training target Data Set : (8120,)\n",
      "Shape of Testing target  Data Set : (482,)\n"
     ]
    }
   ],
   "source": [
    "#test and train data sets\n",
    "X_train_select = data_num[ar_feat_master]\n",
    "X_test_select = X_test_num[ar_feat_master]\n",
    "\n",
    "print(\"Shape of Training features Data Set :\", X_train_select.shape)\n",
    "print(\"Shape of Testing features  Data Set :\", X_test_select.shape)\n",
    "print(\"Shape of Training target Data Set :\", y_train.shape)\n",
    "print(\"Shape of Testing target  Data Set :\", y_test.shape)"
   ]
  },
  {
   "cell_type": "code",
   "execution_count": 63,
   "metadata": {},
   "outputs": [
    {
     "data": {
      "text/plain": [
       "Pipeline(steps=[('scaler', StandardScaler()),\n",
       "                ('RandomForestClassifier',\n",
       "                 RandomForestClassifier(random_state=42))])"
      ]
     },
     "execution_count": 63,
     "metadata": {},
     "output_type": "execute_result"
    },
    {
     "name": "stdout",
     "output_type": "stream",
     "text": [
      "Model: RandomForestClassifier in sample score=1.00\n",
      "\n",
      "Model: RandomForestClassifier avg cross validation score=0.95\n",
      "\n",
      "Model: RandomForestClassifier out-of-sample score=0.55\n",
      "\n"
     ]
    }
   ],
   "source": [
    "from sklearn.ensemble import RandomForestClassifier\n",
    "\n",
    "#standard scaler object\n",
    "scaler = StandardScaler()\n",
    "\n",
    "#classifier data with parameter for balancing the weights\n",
    "clf = RandomForestClassifier(random_state=42)\n",
    "name = clf.__class__.__name__\n",
    "\n",
    "#pipeline object\n",
    "model_pipeline = Pipeline([(\"scaler\",scaler),(name,clf)])\n",
    "\n",
    "#fitting the pipeline\n",
    "model_pipeline.fit(X_train_select,y_train)\n",
    "\n",
    "#in sample score\n",
    "score_in_sample = model_pipeline.score(X_train_select,y_train)\n",
    "print(\"Model: {m:s} in sample score={s:3.2f}\\n\".format(m=name, s=score_in_sample))\n",
    "\n",
    "#cross validation \n",
    "k = 5\n",
    "cross_val_scores = cross_val_score(model_pipeline.named_steps[name],X_train_select,y_train,cv=k)\n",
    "print(\"Model: {m:s} avg cross validation score={s:3.2f}\\n\".format(m=name, s=cross_val_scores.mean()) )\n",
    "\n",
    "#out of sample score\n",
    "score_out_of_sample = None\n",
    "score_out_of_sample = model_pipeline.score(X_test_select,y_test)\n",
    "print(\"Model: {m:s} out-of-sample score={s:3.2f}\\n\".format(m=name, s=score_out_of_sample))\n"
   ]
  },
  {
   "cell_type": "markdown",
   "metadata": {},
   "source": [
    "- The scores for RandomForests look very promising\n",
    "- Lets look at the other metrics to evaluate the performance"
   ]
  },
  {
   "cell_type": "code",
   "execution_count": 64,
   "metadata": {},
   "outputs": [],
   "source": [
    "#predicting the out of sample labels\n",
    "y_pred = model_pipeline.predict(X_test_select)"
   ]
  },
  {
   "cell_type": "code",
   "execution_count": 65,
   "metadata": {},
   "outputs": [
    {
     "name": "stdout",
     "output_type": "stream",
     "text": [
      "Precision score :  0.08444444444444445\n",
      "Recall score :  0.59375\n",
      "F1 score :  0.14785992217898833\n"
     ]
    },
    {
     "data": {
      "text/plain": [
       "<sklearn.metrics._plot.confusion_matrix.ConfusionMatrixDisplay at 0x1d8d7dcb790>"
      ]
     },
     "execution_count": 65,
     "metadata": {},
     "output_type": "execute_result"
    },
    {
     "data": {
      "text/plain": [
       "<sklearn.metrics._plot.confusion_matrix.ConfusionMatrixDisplay at 0x1d8d7da76a0>"
      ]
     },
     "execution_count": 65,
     "metadata": {},
     "output_type": "execute_result"
    },
    {
     "data": {
      "text/plain": [
       "<sklearn.metrics._plot.roc_curve.RocCurveDisplay at 0x1d8d6890a90>"
      ]
     },
     "execution_count": 65,
     "metadata": {},
     "output_type": "execute_result"
    },
    {
     "data": {
      "image/png": "[encoded data removed]",
      "text/plain": [
       "<Figure size 360x360 with 2 Axes>"
      ]
     },
     "metadata": {
      "needs_background": "light"
     },
     "output_type": "display_data"
    },
    {
     "data": {
      "image/png": "[encoded data removed]",
      "text/plain": [
       "<Figure size 360x360 with 2 Axes>"
      ]
     },
     "metadata": {
      "needs_background": "light"
     },
     "output_type": "display_data"
    },
    {
     "data": {
      "image/png": "[encoded data removed]",
      "text/plain": [
       "<Figure size 360x360 with 1 Axes>"
      ]
     },
     "metadata": {
      "needs_background": "light"
     },
     "output_type": "display_data"
    }
   ],
   "source": [
    "print(\"Precision score : \",precision_score(y_test,y_pred))\n",
    "print(\"Recall score : \",recall_score(y_test,y_pred))\n",
    "print(\"F1 score : \",f1_score(y_test,y_pred))\n",
    "\n",
    "#setting the plot size\n",
    "plt.rcParams['figure.figsize'] = [5, 5]\n",
    "\n",
    "#plotting the confusion matrix\n",
    "plot_confusion_matrix(model_pipeline,X_test_select,y_test,normalize = \"true\")\n",
    "plot_confusion_matrix(model_pipeline,X_test_select,y_test)\n",
    "\n",
    "#plotting ROC_curve\n",
    "plot_roc_curve(model_pipeline,X_test_select,y_test)"
   ]
  },
  {
   "cell_type": "markdown",
   "metadata": {},
   "source": [
    "- We can see that the selected features were not able to improve the accuracy\n",
    "- Maybe we can try using all the features and improve the model using hyper parameter tuning\n",
    "- Also the default no. of estimators here is 100. But with 63 features this might be a smaller number"
   ]
  },
  {
   "cell_type": "markdown",
   "metadata": {},
   "source": [
    "# Hyper paramter tuning for a model with all features\n",
    "- In this section we consider all the features and search the best parameters for a classifier using GridSearchCV"
   ]
  },
  {
   "cell_type": "markdown",
   "metadata": {},
   "source": [
    "## Logistic Regression hypertuning using GridSearchCV"
   ]
  },
  {
   "cell_type": "code",
   "execution_count": 66,
   "metadata": {},
   "outputs": [
    {
     "name": "stdout",
     "output_type": "stream",
     "text": [
      "Shape of Training features Data Set : (8120, 63)\n",
      "Shape of Testing features  Data Set : (482, 63)\n",
      "Shape of Training target Data Set : (8120,)\n",
      "Shape of Testing target  Data Set : (482,)\n"
     ]
    }
   ],
   "source": [
    "X_train_cv = data_num\n",
    "X_test_cv = X_test_num\n",
    "\n",
    "print(\"Shape of Training features Data Set :\", X_train_cv.shape)\n",
    "print(\"Shape of Testing features  Data Set :\", X_test_cv.shape)\n",
    "print(\"Shape of Training target Data Set :\", y_train.shape)\n",
    "print(\"Shape of Testing target  Data Set :\", y_test.shape)"
   ]
  },
  {
   "cell_type": "code",
   "execution_count": 67,
   "metadata": {},
   "outputs": [
    {
     "name": "stderr",
     "output_type": "stream",
     "text": [
      "C:\\Users\\Santosh\\anaconda3\\lib\\site-packages\\sklearn\\svm\\_base.py:985: ConvergenceWarning: Liblinear failed to converge, increase the number of iterations.\n",
      "  warnings.warn(\"Liblinear failed to converge, increase \"\n",
      "C:\\Users\\Santosh\\anaconda3\\lib\\site-packages\\sklearn\\svm\\_base.py:985: ConvergenceWarning: Liblinear failed to converge, increase the number of iterations.\n",
      "  warnings.warn(\"Liblinear failed to converge, increase \"\n",
      "C:\\Users\\Santosh\\anaconda3\\lib\\site-packages\\sklearn\\svm\\_base.py:985: ConvergenceWarning: Liblinear failed to converge, increase the number of iterations.\n",
      "  warnings.warn(\"Liblinear failed to converge, increase \"\n",
      "C:\\Users\\Santosh\\anaconda3\\lib\\site-packages\\sklearn\\svm\\_base.py:985: ConvergenceWarning: Liblinear failed to converge, increase the number of iterations.\n",
      "  warnings.warn(\"Liblinear failed to converge, increase \"\n",
      "C:\\Users\\Santosh\\anaconda3\\lib\\site-packages\\sklearn\\svm\\_base.py:985: ConvergenceWarning: Liblinear failed to converge, increase the number of iterations.\n",
      "  warnings.warn(\"Liblinear failed to converge, increase \"\n",
      "C:\\Users\\Santosh\\anaconda3\\lib\\site-packages\\sklearn\\svm\\_base.py:985: ConvergenceWarning: Liblinear failed to converge, increase the number of iterations.\n",
      "  warnings.warn(\"Liblinear failed to converge, increase \"\n",
      "C:\\Users\\Santosh\\anaconda3\\lib\\site-packages\\sklearn\\svm\\_base.py:985: ConvergenceWarning: Liblinear failed to converge, increase the number of iterations.\n",
      "  warnings.warn(\"Liblinear failed to converge, increase \"\n",
      "C:\\Users\\Santosh\\anaconda3\\lib\\site-packages\\sklearn\\svm\\_base.py:985: ConvergenceWarning: Liblinear failed to converge, increase the number of iterations.\n",
      "  warnings.warn(\"Liblinear failed to converge, increase \"\n",
      "C:\\Users\\Santosh\\anaconda3\\lib\\site-packages\\sklearn\\svm\\_base.py:985: ConvergenceWarning: Liblinear failed to converge, increase the number of iterations.\n",
      "  warnings.warn(\"Liblinear failed to converge, increase \"\n",
      "C:\\Users\\Santosh\\anaconda3\\lib\\site-packages\\sklearn\\svm\\_base.py:985: ConvergenceWarning: Liblinear failed to converge, increase the number of iterations.\n",
      "  warnings.warn(\"Liblinear failed to converge, increase \"\n",
      "C:\\Users\\Santosh\\anaconda3\\lib\\site-packages\\sklearn\\svm\\_base.py:985: ConvergenceWarning: Liblinear failed to converge, increase the number of iterations.\n",
      "  warnings.warn(\"Liblinear failed to converge, increase \"\n"
     ]
    },
    {
     "name": "stdout",
     "output_type": "stream",
     "text": [
      "best accuracy from GridSearchCV in sample:  0.808128078817734\n",
      "Out Sample score from GridSearchCV : 0.8092364532019705\n"
     ]
    },
    {
     "name": "stderr",
     "output_type": "stream",
     "text": [
      "C:\\Users\\Santosh\\anaconda3\\lib\\site-packages\\sklearn\\svm\\_base.py:985: ConvergenceWarning: Liblinear failed to converge, increase the number of iterations.\n",
      "  warnings.warn(\"Liblinear failed to converge, increase \"\n"
     ]
    }
   ],
   "source": [
    "from sklearn.model_selection import GridSearchCV\n",
    "\n",
    "#classifier data\n",
    "clf = LogisticRegression(class_weight = \"balanced\",solver = \"liblinear\")\n",
    "\n",
    "#new scaler\n",
    "scaler_cv = StandardScaler()\n",
    "\n",
    "#new pipeline\n",
    "model_pipeline_cv = Pipeline([(\"scaling\",scaler_cv),(\"Logist_all\",clf)])\n",
    "\n",
    "param_grid = [{\"C\" : [0.001, 0.01, 0.1, 1, 10, 100, 1000]}]\n",
    "\n",
    "clf_grid = GridSearchCV(clf, param_grid = param_grid, cv = 5)\n",
    "\n",
    "#fitting the data on best set of parameters\n",
    "best_clf = clf_grid.fit(X_train_cv, y_train)\n",
    "\n",
    "print(\"best accuracy from GridSearchCV in sample: \", best_clf.best_score_)\n",
    "print(\"Out Sample score from GridSearchCV :\", best_clf.score(X_train_cv,y_train))"
   ]
  },
  {
   "cell_type": "code",
   "execution_count": 68,
   "metadata": {},
   "outputs": [
    {
     "data": {
      "text/plain": [
       "{'C': 1000}"
      ]
     },
     "execution_count": 68,
     "metadata": {},
     "output_type": "execute_result"
    }
   ],
   "source": [
    "best_clf.best_params_"
   ]
  },
  {
   "cell_type": "code",
   "execution_count": 69,
   "metadata": {},
   "outputs": [],
   "source": [
    "y_pred = best_clf.predict(X_test_cv)"
   ]
  },
  {
   "cell_type": "code",
   "execution_count": 70,
   "metadata": {},
   "outputs": [
    {
     "name": "stdout",
     "output_type": "stream",
     "text": [
      "Precision score :  0.1087866108786611\n",
      "Recall score :  0.8125\n",
      "F1 score :  0.1918819188191882\n"
     ]
    },
    {
     "data": {
      "text/plain": [
       "<sklearn.metrics._plot.confusion_matrix.ConfusionMatrixDisplay at 0x1d8d7dc7a90>"
      ]
     },
     "execution_count": 70,
     "metadata": {},
     "output_type": "execute_result"
    },
    {
     "data": {
      "text/plain": [
       "<sklearn.metrics._plot.confusion_matrix.ConfusionMatrixDisplay at 0x1d8d7dc7a30>"
      ]
     },
     "execution_count": 70,
     "metadata": {},
     "output_type": "execute_result"
    },
    {
     "data": {
      "text/plain": [
       "<sklearn.metrics._plot.roc_curve.RocCurveDisplay at 0x1d8d69eec10>"
      ]
     },
     "execution_count": 70,
     "metadata": {},
     "output_type": "execute_result"
    },
    {
     "data": {
      "image/png": "[encoded data removed]",
      "text/plain": [
       "<Figure size 360x360 with 2 Axes>"
      ]
     },
     "metadata": {
      "needs_background": "light"
     },
     "output_type": "display_data"
    },
    {
     "data": {
      "image/png": "[encoded data removed]",
      "text/plain": [
       "<Figure size 360x360 with 2 Axes>"
      ]
     },
     "metadata": {
      "needs_background": "light"
     },
     "output_type": "display_data"
    },
    {
     "data": {
      "image/png": "[encoded data removed]",
      "text/plain": [
       "<Figure size 360x360 with 1 Axes>"
      ]
     },
     "metadata": {
      "needs_background": "light"
     },
     "output_type": "display_data"
    }
   ],
   "source": [
    "print(\"Precision score : \",precision_score(y_test,y_pred))\n",
    "print(\"Recall score : \",recall_score(y_test,y_pred))\n",
    "print(\"F1 score : \",f1_score(y_test,y_pred))\n",
    "\n",
    "#setting the plot size\n",
    "plt.rcParams['figure.figsize'] = [5, 5]\n",
    "\n",
    "#plotting the confusion matrix\n",
    "plot_confusion_matrix(clf_grid.best_estimator_,X_test_cv,y_test,normalize = \"true\")\n",
    "plot_confusion_matrix(clf_grid.best_estimator_,X_test_cv,y_test)\n",
    "\n",
    "#plotting ROC_curve\n",
    "plot_roc_curve(clf_grid.best_estimator_,X_test_cv,y_test)"
   ]
  },
  {
   "cell_type": "markdown",
   "metadata": {},
   "source": [
    "## Random Forests with all features\n",
    "- In this model we use imputed data from SMOTE. the split between classes is around 50:50\n",
    "- The number of estimators is increased to 1000 as the feature size is large (64). This gives the random forests enough estimators to learn the patterns\n",
    "- We use all features for this estimation"
   ]
  },
  {
   "cell_type": "code",
   "execution_count": 144,
   "metadata": {},
   "outputs": [
    {
     "name": "stdout",
     "output_type": "stream",
     "text": [
      "Shape of Training features Data Set : (8120, 63)\n",
      "Shape of Testing features  Data Set : (482, 63)\n",
      "Shape of Training target Data Set : (8120,)\n",
      "Shape of Testing target  Data Set : (482,)\n"
     ]
    }
   ],
   "source": [
    "X_train = data_num ##imputed with SMOTE (50:50)\n",
    "\n",
    "print(\"Shape of Training features Data Set :\", X_train.shape)\n",
    "print(\"Shape of Testing features  Data Set :\", X_test.shape)\n",
    "print(\"Shape of Training target Data Set :\", y_train.shape)\n",
    "print(\"Shape of Testing target  Data Set :\", y_test.shape)"
   ]
  },
  {
   "cell_type": "code",
   "execution_count": 145,
   "metadata": {},
   "outputs": [
    {
     "data": {
      "text/plain": [
       "Pipeline(steps=[('scaler', StandardScaler()),\n",
       "                ('RandomForestClassifier',\n",
       "                 RandomForestClassifier(class_weight='balanced',\n",
       "                                        n_estimators=1000, random_state=51))])"
      ]
     },
     "execution_count": 145,
     "metadata": {},
     "output_type": "execute_result"
    },
    {
     "name": "stdout",
     "output_type": "stream",
     "text": [
      "Model: RandomForestClassifier in sample score=1.00\n",
      "\n",
      "Model: RandomForestClassifier avg cross validation score=0.96\n",
      "\n",
      "Model: RandomForestClassifier out-of-sample score=0.77\n",
      "\n"
     ]
    }
   ],
   "source": [
    "from sklearn.ensemble import RandomForestClassifier\n",
    "\n",
    "#standard scaler object\n",
    "scaler = StandardScaler()\n",
    "\n",
    "#classifier data with parameter for balancing the weights\n",
    "clf = RandomForestClassifier(n_estimators = 1000, class_weight =\"balanced\",random_state=51)\n",
    "name = clf.__class__.__name__\n",
    "\n",
    "#pipeline object\n",
    "model_pipeline = Pipeline([(\"scaler\",scaler),(name,clf)])\n",
    "\n",
    "#fitting the pipeline\n",
    "model_pipeline.fit(X_train,y_train)\n",
    "\n",
    "#in sample score\n",
    "score_in_sample = model_pipeline.score(X_train,y_train)\n",
    "print(\"Model: {m:s} in sample score={s:3.2f}\\n\".format(m=name, s=score_in_sample))\n",
    "\n",
    "#cross validation \n",
    "k = 5\n",
    "cross_val_scores = cross_val_score(model_pipeline.named_steps[name],X_train,y_train,cv=k)\n",
    "print(\"Model: {m:s} avg cross validation score={s:3.2f}\\n\".format(m=name, s=cross_val_scores.mean()) )\n",
    "\n",
    "#out of sample score\n",
    "score_out_of_sample = None\n",
    "score_out_of_sample = model_pipeline.score(X_test,y_test)\n",
    "print(\"Model: {m:s} out-of-sample score={s:3.2f}\\n\".format(m=name, s=score_out_of_sample))\n"
   ]
  },
  {
   "cell_type": "code",
   "execution_count": 146,
   "metadata": {},
   "outputs": [],
   "source": [
    "y_pred = model_pipeline.predict(X_test)"
   ]
  },
  {
   "cell_type": "code",
   "execution_count": 147,
   "metadata": {},
   "outputs": [
    {
     "name": "stdout",
     "output_type": "stream",
     "text": [
      "Precision score :  0.024390243902439025\n",
      "Recall score :  0.0625\n",
      "F1 score :  0.03508771929824562\n"
     ]
    },
    {
     "data": {
      "text/plain": [
       "<sklearn.metrics._plot.confusion_matrix.ConfusionMatrixDisplay at 0x1d8e3c047f0>"
      ]
     },
     "execution_count": 147,
     "metadata": {},
     "output_type": "execute_result"
    },
    {
     "data": {
      "text/plain": [
       "<sklearn.metrics._plot.confusion_matrix.ConfusionMatrixDisplay at 0x1d8d44579a0>"
      ]
     },
     "execution_count": 147,
     "metadata": {},
     "output_type": "execute_result"
    },
    {
     "data": {
      "text/plain": [
       "<sklearn.metrics._plot.roc_curve.RocCurveDisplay at 0x1d8cd1a4a60>"
      ]
     },
     "execution_count": 147,
     "metadata": {},
     "output_type": "execute_result"
    },
    {
     "data": {
      "image/png": "[encoded data removed]",
      "text/plain": [
       "<Figure size 360x360 with 2 Axes>"
      ]
     },
     "metadata": {
      "needs_background": "light"
     },
     "output_type": "display_data"
    },
    {
     "data": {
      "image/png": "[encoded data removed]",
      "text/plain": [
       "<Figure size 360x360 with 2 Axes>"
      ]
     },
     "metadata": {
      "needs_background": "light"
     },
     "output_type": "display_data"
    },
    {
     "data": {
      "image/png": "[encoded data removed]",
      "text/plain": [
       "<Figure size 360x360 with 1 Axes>"
      ]
     },
     "metadata": {
      "needs_background": "light"
     },
     "output_type": "display_data"
    }
   ],
   "source": [
    "#predicting the out of sample labels\n",
    "y_pred = model_pipeline.predict(X_test)\n",
    "\n",
    "print(\"Precision score : \",precision_score(y_test,y_pred))\n",
    "print(\"Recall score : \",recall_score(y_test,y_pred))\n",
    "print(\"F1 score : \",f1_score(y_test,y_pred))\n",
    "\n",
    "#setting the plot size\n",
    "plt.rcParams['figure.figsize'] = [5, 5]\n",
    "\n",
    "#plotting the confusion matrix\n",
    "plot_confusion_matrix(model_pipeline,X_test,y_test,normalize = \"true\")\n",
    "plot_confusion_matrix(model_pipeline,X_test,y_test)\n",
    "\n",
    "#plotting ROC_curve\n",
    "plot_roc_curve(model_pipeline,X_test,y_test)"
   ]
  },
  {
   "cell_type": "markdown",
   "metadata": {},
   "source": [
    "# Changing Class imbalance\n",
    "- the precision values are extremely low for some of our models. So instead of oversampling the minority class to 50%, this time we restrict our values to a ratio\n",
    "- In this section we use SVM as our base to investigate this further"
   ]
  },
  {
   "cell_type": "markdown",
   "metadata": {},
   "source": [
    "## SVC with 4/7 as sampling strategy ratio"
   ]
  },
  {
   "cell_type": "code",
   "execution_count": 148,
   "metadata": {},
   "outputs": [],
   "source": [
    "#minority to majority sample ratio is set as 4/7\n",
    "from imblearn.over_sampling import SMOTE\n",
    "SM = SMOTE(sampling_strategy=4/7, k_neighbors=5, random_state=42)\n",
    "data_num_new, y_train_new = SM.fit_resample(data_num_unb, y_train_unb)"
   ]
  },
  {
   "cell_type": "code",
   "execution_count": 149,
   "metadata": {},
   "outputs": [
    {
     "name": "stdout",
     "output_type": "stream",
     "text": [
      "Shape of Training features Data Set : (6380, 63)\n",
      "Shape of Testing features  Data Set : (482, 63)\n",
      "Shape of Training target Data Set : (6380,)\n",
      "Shape of Testing target  Data Set : (482,)\n"
     ]
    }
   ],
   "source": [
    "#selecting and renaming for convinience\n",
    "X_train = data_num_new\n",
    "y_train = y_train_new\n",
    "\n",
    "print(\"Shape of Training features Data Set :\", X_train.shape)\n",
    "print(\"Shape of Testing features  Data Set :\", X_test.shape)\n",
    "print(\"Shape of Training target Data Set :\", y_train.shape)\n",
    "print(\"Shape of Testing target  Data Set :\", y_test.shape)"
   ]
  },
  {
   "cell_type": "code",
   "execution_count": 150,
   "metadata": {},
   "outputs": [
    {
     "data": {
      "text/plain": [
       "Pipeline(steps=[('scaler', StandardScaler()), ('SVC', SVC())])"
      ]
     },
     "execution_count": 150,
     "metadata": {},
     "output_type": "execute_result"
    },
    {
     "name": "stdout",
     "output_type": "stream",
     "text": [
      "Model: SVC in sample score=0.80\n",
      "\n",
      "Model: SVC avg cross validation score=0.65\n",
      "\n",
      "Model: SVC out-of-sample score=0.89\n",
      "\n"
     ]
    }
   ],
   "source": [
    "from sklearn.svm import SVC\n",
    "from sklearn.pipeline import Pipeline\n",
    "\n",
    "#standard scaler object\n",
    "scaler = StandardScaler()\n",
    "\n",
    "#classifier data\n",
    "clf = SVC()\n",
    "name = clf.__class__.__name__\n",
    "\n",
    "#pipeline object\n",
    "model_pipeline = Pipeline([(\"scaler\",scaler),(name,clf)])\n",
    "\n",
    "#fitting the pipeline\n",
    "model_pipeline.fit(X_train,y_train)\n",
    "\n",
    "#in sample score\n",
    "score_in_sample = model_pipeline.score(X_train,y_train)\n",
    "print(\"Model: {m:s} in sample score={s:3.2f}\\n\".format(m=name, s=score_in_sample))\n",
    "\n",
    "#cross validation \n",
    "k = 5\n",
    "cross_val_scores = cross_val_score(model_pipeline.named_steps[name],X_train,y_train,cv=k)\n",
    "print(\"Model: {m:s} avg cross validation score={s:3.2f}\\n\".format(m=name, s=cross_val_scores.mean()) )\n",
    "\n",
    "#out of sample score\n",
    "score_out_of_sample = None\n",
    "score_out_of_sample = model_pipeline.score(X_test,y_test)\n",
    "print(\"Model: {m:s} out-of-sample score={s:3.2f}\\n\".format(m=name, s=score_out_of_sample))"
   ]
  },
  {
   "cell_type": "code",
   "execution_count": 151,
   "metadata": {},
   "outputs": [
    {
     "name": "stdout",
     "output_type": "stream",
     "text": [
      "Precision score :  0.3275862068965517\n",
      "Recall score :  0.59375\n",
      "F1 score :  0.42222222222222217\n"
     ]
    },
    {
     "data": {
      "text/plain": [
       "<sklearn.metrics._plot.confusion_matrix.ConfusionMatrixDisplay at 0x1d8cfd54490>"
      ]
     },
     "execution_count": 151,
     "metadata": {},
     "output_type": "execute_result"
    },
    {
     "data": {
      "text/plain": [
       "<sklearn.metrics._plot.confusion_matrix.ConfusionMatrixDisplay at 0x1d8d695a3d0>"
      ]
     },
     "execution_count": 151,
     "metadata": {},
     "output_type": "execute_result"
    },
    {
     "data": {
      "text/plain": [
       "<sklearn.metrics._plot.roc_curve.RocCurveDisplay at 0x1d8cd23dbe0>"
      ]
     },
     "execution_count": 151,
     "metadata": {},
     "output_type": "execute_result"
    },
    {
     "data": {
      "image/png": "[encoded data removed]",
      "text/plain": [
       "<Figure size 360x360 with 2 Axes>"
      ]
     },
     "metadata": {
      "needs_background": "light"
     },
     "output_type": "display_data"
    },
    {
     "data": {
      "image/png": "[encoded data removed]",
      "text/plain": [
       "<Figure size 360x360 with 2 Axes>"
      ]
     },
     "metadata": {
      "needs_background": "light"
     },
     "output_type": "display_data"
    },
    {
     "data": {
      "image/png": "[encoded data removed]",
      "text/plain": [
       "<Figure size 360x360 with 1 Axes>"
      ]
     },
     "metadata": {
      "needs_background": "light"
     },
     "output_type": "display_data"
    }
   ],
   "source": [
    "#predicting the out of sample labels\n",
    "y_pred = model_pipeline.predict(X_test)\n",
    "\n",
    "print(\"Precision score : \",precision_score(y_test,y_pred))\n",
    "print(\"Recall score : \",recall_score(y_test,y_pred))\n",
    "print(\"F1 score : \",f1_score(y_test,y_pred))\n",
    "\n",
    "#setting the plot size\n",
    "plt.rcParams['figure.figsize'] = [5, 5]\n",
    "\n",
    "#plotting the confusion matrix\n",
    "plot_confusion_matrix(model_pipeline,X_test,y_test,normalize = \"true\")\n",
    "plot_confusion_matrix(model_pipeline,X_test,y_test)\n",
    "\n",
    "#plotting ROC_curve\n",
    "plot_roc_curve(model_pipeline,X_test,y_test)"
   ]
  },
  {
   "cell_type": "markdown",
   "metadata": {},
   "source": [
    "- The metrics have definetely improved from using \"auto\" SMOTE\n",
    "- Reducing the size of class-1 samples helped improve the precision and overall F1 score\n",
    "- Random Forests with all features performed better"
   ]
  },
  {
   "cell_type": "markdown",
   "metadata": {},
   "source": [
    "## Exploring different sampling strategy ratios using Logistic regression \n",
    "- In this section we iterate through multiple values of sampling strategy ratios\n",
    "- The values of precision, recall and other metrics have been stored in data frames for analysis purpose"
   ]
  },
  {
   "cell_type": "code",
   "execution_count": null,
   "metadata": {
    "scrolled": false
   },
   "outputs": [],
   "source": [
    "score_in ={}\n",
    "score_out ={}\n",
    "score_cross ={}\n",
    "score_recall = {}\n",
    "score_precision = {}\n",
    "score_f1 = {}\n",
    "\n",
    "##1/9,2/8, 3/7, 4/6\n",
    "\n",
    "for i in [0.1,0.2,0.25,0.3,0.35,0.40,0.45]: ##weights for SMOTE imputation\n",
    "\n",
    "    SM = SMOTE(sampling_strategy= i, k_neighbors=5, random_state=42)\n",
    "    data_num_new, y_train_new = SM.fit_resample(data_num_unb, y_train_unb)\n",
    "    \n",
    "    #selecting and renaming for convinience\n",
    "    X_train = data_num_new\n",
    "    y_train = y_train_new\n",
    "    \n",
    "    #scaler\n",
    "    scaler = StandardScaler()\n",
    "    \n",
    "    #logistic regression | changing max_iter = 500 for better chance of convergence\n",
    "    clf = LogisticRegression(max_iter=500, random_state = 42)\n",
    "    \n",
    "    #pipeline\n",
    "    model_pipeline = Pipeline([(\"scaling\",scaler),(\"Logist_all\",clf)])\n",
    "    \n",
    "    #fitting the pipeline\n",
    "    model_pipeline.fit(X_train,y_train)\n",
    "    \n",
    "    #predicting the out of sample labels\n",
    "    y_pred = model_pipeline.predict(X_test)\n",
    "    \n",
    "    #in sample score\n",
    "    score_in_sample = model_pipeline.score(X_train,y_train)\n",
    "    score_in.update({i:score_in_sample})\n",
    "    \n",
    "    #cross validation \n",
    "    cross_val_scores = cross_val_score(model_pipeline.named_steps[\"Logist_all\"],X_train,y_train,cv=5)\n",
    "    score_cross.update({i:cross_val_scores.mean()})\n",
    "    \n",
    "    #out of sample score\n",
    "    score_out_of_sample = model_pipeline.score(X_test,y_test)\n",
    "    score_out.update({i:score_out_of_sample})\n",
    "    \n",
    "    #precision\n",
    "    score_precision.update({i:precision_score(y_test,y_pred)})\n",
    "    \n",
    "    #recall\n",
    "    score_recall.update({i:recall_score(y_test,y_pred)})\n",
    "    \n",
    "    #F1 score\n",
    "    score_f1.update({i:f1_score(y_test,y_pred)})"
   ]
  },
  {
   "cell_type": "code",
   "execution_count": 153,
   "metadata": {},
   "outputs": [
    {
     "name": "stdout",
     "output_type": "stream",
     "text": [
      "Recall Score with changing class weights {0.1: 0.0625, 0.2: 0.28125, 0.25: 0.34375, 0.3: 0.34375, 0.35: 0.40625, 0.4: 0.40625, 0.45: 0.4375}\n",
      "Precision Score with changing class weights {0.1: 0.25, 0.2: 0.42857142857142855, 0.25: 0.4230769230769231, 0.3: 0.4230769230769231, 0.35: 0.38235294117647056, 0.4: 0.325, 0.45: 0.30434782608695654}\n"
     ]
    }
   ],
   "source": [
    "print(\"Recall Score with changing class weights\",score_recall )\n",
    "print(\"Precision Score with changing class weights\",score_precision )"
   ]
  },
  {
   "cell_type": "markdown",
   "metadata": {},
   "source": [
    "- Looking at the results from our loop above, we can see that recall generally increases as the size of the class 1 examples increase\n",
    "- As expected precision decreases with increase in class 1 size\n",
    "- We need to find a trade off between precision and recall"
   ]
  },
  {
   "cell_type": "markdown",
   "metadata": {},
   "source": [
    "# Experimentation\n",
    "- In this section we try to combine the features of our best models and imputation techniques"
   ]
  },
  {
   "cell_type": "markdown",
   "metadata": {},
   "source": [
    "## Random Forests with all features with 4/7 as sampling strategy as ratio"
   ]
  },
  {
   "cell_type": "code",
   "execution_count": 154,
   "metadata": {},
   "outputs": [],
   "source": [
    "#minority to majority sample ratio is set as 4/7\n",
    "from imblearn.over_sampling import SMOTE\n",
    "SM = SMOTE(sampling_strategy=4/7, k_neighbors=5, random_state=42)\n",
    "data_num_new, y_train_new = SM.fit_resample(data_num_unb, y_train_unb)"
   ]
  },
  {
   "cell_type": "code",
   "execution_count": 155,
   "metadata": {},
   "outputs": [
    {
     "name": "stdout",
     "output_type": "stream",
     "text": [
      "Shape of Training features Data Set : (6380, 63)\n",
      "Shape of Testing features  Data Set : (482, 63)\n",
      "Shape of Training target Data Set : (6380,)\n",
      "Shape of Testing target  Data Set : (482,)\n"
     ]
    }
   ],
   "source": [
    "#selecting and renaming for convinience\n",
    "X_train = data_num_new\n",
    "y_train = y_train_new\n",
    "\n",
    "print(\"Shape of Training features Data Set :\", X_train.shape)\n",
    "print(\"Shape of Testing features  Data Set :\", X_test.shape)\n",
    "print(\"Shape of Training target Data Set :\", y_train.shape)\n",
    "print(\"Shape of Testing target  Data Set :\", y_test.shape)"
   ]
  },
  {
   "cell_type": "code",
   "execution_count": 156,
   "metadata": {},
   "outputs": [
    {
     "data": {
      "text/plain": [
       "Pipeline(steps=[('scaler', StandardScaler()),\n",
       "                ('RandomForestClassifier',\n",
       "                 RandomForestClassifier(class_weight='balanced',\n",
       "                                        n_estimators=1000, random_state=42))])"
      ]
     },
     "execution_count": 156,
     "metadata": {},
     "output_type": "execute_result"
    },
    {
     "name": "stdout",
     "output_type": "stream",
     "text": [
      "Model: RandomForestClassifier in sample score=1.00\n",
      "\n",
      "Model: RandomForestClassifier avg cross validation score=0.95\n",
      "\n",
      "Model: RandomForestClassifier out-of-sample score=0.93\n",
      "\n"
     ]
    }
   ],
   "source": [
    "#standard scaler object\n",
    "scaler = StandardScaler()\n",
    "\n",
    "#classifier data\n",
    "clf = RandomForestClassifier(n_estimators = 1000, class_weight =\"balanced\",random_state=42)\n",
    "name = clf.__class__.__name__\n",
    "\n",
    "#pipeline object\n",
    "model_pipeline = Pipeline([(\"scaler\",scaler),(name,clf)])\n",
    "\n",
    "#fitting the pipeline\n",
    "model_pipeline.fit(X_train,y_train)\n",
    "\n",
    "#in sample score\n",
    "score_in_sample = model_pipeline.score(X_train,y_train)\n",
    "print(\"Model: {m:s} in sample score={s:3.2f}\\n\".format(m=name, s=score_in_sample))\n",
    "\n",
    "#cross validation \n",
    "k = 5\n",
    "cross_val_scores = cross_val_score(model_pipeline.named_steps[name],X_train,y_train,cv=k)\n",
    "print(\"Model: {m:s} avg cross validation score={s:3.2f}\\n\".format(m=name, s=cross_val_scores.mean()) )\n",
    "\n",
    "#out of sample score\n",
    "score_out_of_sample = None\n",
    "score_out_of_sample = model_pipeline.score(X_test,y_test)\n",
    "print(\"Model: {m:s} out-of-sample score={s:3.2f}\\n\".format(m=name, s=score_out_of_sample))"
   ]
  },
  {
   "cell_type": "code",
   "execution_count": 158,
   "metadata": {},
   "outputs": [
    {
     "name": "stdout",
     "output_type": "stream",
     "text": [
      "Precision score :  0.5\n",
      "Recall score :  0.46875\n",
      "F1 score :  0.4838709677419355\n"
     ]
    },
    {
     "data": {
      "text/plain": [
       "<sklearn.metrics._plot.confusion_matrix.ConfusionMatrixDisplay at 0x1d8d695a3d0>"
      ]
     },
     "execution_count": 158,
     "metadata": {},
     "output_type": "execute_result"
    },
    {
     "data": {
      "text/plain": [
       "<sklearn.metrics._plot.confusion_matrix.ConfusionMatrixDisplay at 0x1d8e4a8bd30>"
      ]
     },
     "execution_count": 158,
     "metadata": {},
     "output_type": "execute_result"
    },
    {
     "data": {
      "text/plain": [
       "<sklearn.metrics._plot.roc_curve.RocCurveDisplay at 0x1d8e3c9e190>"
      ]
     },
     "execution_count": 158,
     "metadata": {},
     "output_type": "execute_result"
    },
    {
     "data": {
      "image/png": "[encoded data removed]",
      "text/plain": [
       "<Figure size 360x360 with 2 Axes>"
      ]
     },
     "metadata": {
      "needs_background": "light"
     },
     "output_type": "display_data"
    },
    {
     "data": {
      "image/png": "[encoded data removed]",
      "text/plain": [
       "<Figure size 360x360 with 2 Axes>"
      ]
     },
     "metadata": {
      "needs_background": "light"
     },
     "output_type": "display_data"
    },
    {
     "data": {
      "image/png": "[encoded data removed]",
      "text/plain": [
       "<Figure size 360x360 with 1 Axes>"
      ]
     },
     "metadata": {
      "needs_background": "light"
     },
     "output_type": "display_data"
    }
   ],
   "source": [
    "#predicting the out of sample labels\n",
    "y_pred = model_pipeline.predict(X_test)\n",
    "\n",
    "print(\"Precision score : \",precision_score(y_test,y_pred))\n",
    "print(\"Recall score : \",recall_score(y_test,y_pred))\n",
    "print(\"F1 score : \",f1_score(y_test,y_pred))\n",
    "\n",
    "#setting the plot size\n",
    "plt.rcParams['figure.figsize'] = [5, 5]\n",
    "\n",
    "#plotting the confusion matrix\n",
    "plot_confusion_matrix(model_pipeline,X_test,y_test,normalize = \"true\")\n",
    "plot_confusion_matrix(model_pipeline,X_test,y_test)\n",
    "\n",
    "#plotting ROC_curve\n",
    "plot_roc_curve(model_pipeline,X_test,y_test)"
   ]
  },
  {
   "cell_type": "markdown",
   "metadata": {},
   "source": [
    "- The recall value decreased to 0.47. So reducing the strategy_sample ratio reduced the recall as there are less number of class1 examples to learn from\n",
    "- In the next experiment we bring back the ratio to 0.5 (balanced classes) but introduce PCA to improve the performance"
   ]
  },
  {
   "cell_type": "markdown",
   "metadata": {},
   "source": [
    "## Random Forests with balanced classes and PCA"
   ]
  },
  {
   "cell_type": "code",
   "execution_count": 159,
   "metadata": {},
   "outputs": [],
   "source": [
    "#minority to majority sample ratio is set as auto, i.e, 50:50 for class1:class0\n",
    "from imblearn.over_sampling import SMOTE\n",
    "SM = SMOTE(sampling_strategy=\"auto\", k_neighbors=5, random_state=42)\n",
    "data_num_new, y_train_new = SM.fit_resample(data_num_unb, y_train_unb)"
   ]
  },
  {
   "cell_type": "code",
   "execution_count": 160,
   "metadata": {},
   "outputs": [
    {
     "name": "stdout",
     "output_type": "stream",
     "text": [
      "Shape of Training features Data Set : (8120, 63)\n",
      "Shape of Testing features  Data Set : (482, 63)\n",
      "Shape of Training target Data Set : (8120,)\n",
      "Shape of Testing target  Data Set : (482,)\n"
     ]
    }
   ],
   "source": [
    "#selecting and renaming for convinience\n",
    "X_train = data_num_new\n",
    "y_train = y_train_new\n",
    "\n",
    "print(\"Shape of Training features Data Set :\", X_train.shape)\n",
    "print(\"Shape of Testing features  Data Set :\", X_test.shape)\n",
    "print(\"Shape of Training target Data Set :\", y_train.shape)\n",
    "print(\"Shape of Testing target  Data Set :\", y_test.shape)"
   ]
  },
  {
   "cell_type": "code",
   "execution_count": 161,
   "metadata": {},
   "outputs": [
    {
     "data": {
      "text/plain": [
       "Pipeline(steps=[('scaler', StandardScaler()), ('PCA', PCA(n_components=30)),\n",
       "                ('RandomForestClassifier',\n",
       "                 RandomForestClassifier(class_weight='balanced',\n",
       "                                        n_estimators=1000, random_state=42))])"
      ]
     },
     "execution_count": 161,
     "metadata": {},
     "output_type": "execute_result"
    },
    {
     "name": "stdout",
     "output_type": "stream",
     "text": [
      "Model: RandomForestClassifier in sample score=1.00\n",
      "\n",
      "Model: RandomForestClassifier avg cross validation score=0.97\n",
      "\n",
      "Model: RandomForestClassifier out-of-sample score=0.88\n",
      "\n",
      "Precision score :  0.2777777777777778\n",
      "Recall score :  0.46875\n",
      "F1 score :  0.3488372093023256\n"
     ]
    },
    {
     "data": {
      "text/plain": [
       "<sklearn.metrics._plot.confusion_matrix.ConfusionMatrixDisplay at 0x1d8e49f2e50>"
      ]
     },
     "execution_count": 161,
     "metadata": {},
     "output_type": "execute_result"
    },
    {
     "data": {
      "text/plain": [
       "<sklearn.metrics._plot.confusion_matrix.ConfusionMatrixDisplay at 0x1d8ecdafeb0>"
      ]
     },
     "execution_count": 161,
     "metadata": {},
     "output_type": "execute_result"
    },
    {
     "data": {
      "text/plain": [
       "<sklearn.metrics._plot.roc_curve.RocCurveDisplay at 0x1d8ed299580>"
      ]
     },
     "execution_count": 161,
     "metadata": {},
     "output_type": "execute_result"
    },
    {
     "data": {
      "image/png": "[encoded data removed]",
      "text/plain": [
       "<Figure size 360x360 with 2 Axes>"
      ]
     },
     "metadata": {
      "needs_background": "light"
     },
     "output_type": "display_data"
    },
    {
     "data": {
      "image/png": "[encoded data removed]",
      "text/plain": [
       "<Figure size 360x360 with 2 Axes>"
      ]
     },
     "metadata": {
      "needs_background": "light"
     },
     "output_type": "display_data"
    },
    {
     "data": {
      "image/png": "[encoded data removed]",
      "text/plain": [
       "<Figure size 360x360 with 1 Axes>"
      ]
     },
     "metadata": {
      "needs_background": "light"
     },
     "output_type": "display_data"
    }
   ],
   "source": [
    "#standard scaler object | necessary for PCA\n",
    "scaler = StandardScaler()\n",
    "\n",
    "#PCA model with 30 components | based on 6.6.2\n",
    "pca_rf = PCA(n_components=30)\n",
    "\n",
    "#classifier data\n",
    "clf = RandomForestClassifier(n_estimators = 1000, class_weight =\"balanced\",random_state=42)\n",
    "name = clf.__class__.__name__\n",
    "\n",
    "#pipeline object\n",
    "model_pipeline = Pipeline([(\"scaler\",scaler),(\"PCA\",pca_rf), (name,clf)])\n",
    "\n",
    "#fitting the pipeline\n",
    "model_pipeline.fit(X_train,y_train)\n",
    "\n",
    "#in sample score\n",
    "score_in_sample = model_pipeline.score(X_train,y_train)\n",
    "print(\"Model: {m:s} in sample score={s:3.2f}\\n\".format(m=name, s=score_in_sample))\n",
    "\n",
    "#cross validation \n",
    "k = 5\n",
    "cross_val_scores = cross_val_score(model_pipeline.named_steps[name],X_train,y_train,cv=k)\n",
    "print(\"Model: {m:s} avg cross validation score={s:3.2f}\\n\".format(m=name, s=cross_val_scores.mean()) )\n",
    "\n",
    "#out of sample score\n",
    "score_out_of_sample = None\n",
    "score_out_of_sample = model_pipeline.score(X_test,y_test)\n",
    "print(\"Model: {m:s} out-of-sample score={s:3.2f}\\n\".format(m=name, s=score_out_of_sample))\n",
    "\n",
    "#predicting the out of sample labels\n",
    "y_pred = model_pipeline.predict(X_test)\n",
    "\n",
    "print(\"Precision score : \",precision_score(y_test,y_pred))\n",
    "print(\"Recall score : \",recall_score(y_test,y_pred))\n",
    "print(\"F1 score : \",f1_score(y_test,y_pred))\n",
    "\n",
    "#setting the plot size\n",
    "plt.rcParams['figure.figsize'] = [5, 5]\n",
    "\n",
    "#plotting the confusion matrix\n",
    "plot_confusion_matrix(model_pipeline,X_test,y_test,normalize = \"true\")\n",
    "plot_confusion_matrix(model_pipeline,X_test,y_test)\n",
    "\n",
    "#plotting ROC_curve\n",
    "plot_roc_curve(model_pipeline,X_test,y_test)"
   ]
  },
  {
   "cell_type": "markdown",
   "metadata": {},
   "source": [
    "- Using PCA decreased our performance. This might suggest non-linearity in our data set"
   ]
  },
  {
   "cell_type": "code",
   "execution_count": 162,
   "metadata": {},
   "outputs": [
    {
     "data": {
      "text/plain": [
       "Pipeline(steps=[('scaler', StandardScaler()), ('PCA', PCA(n_components=30)),\n",
       "                ('RandomForestClassifier',\n",
       "                 RandomForestClassifier(class_weight='balanced',\n",
       "                                        n_estimators=1000, random_state=42))])"
      ]
     },
     "execution_count": 162,
     "metadata": {},
     "output_type": "execute_result"
    }
   ],
   "source": [
    "#standard scaler object | necessary for PCA\n",
    "scaler = StandardScaler()\n",
    "\n",
    "#PCA model with 30 components | based on 6.6.2\n",
    "pca_rf = PCA(n_components=30)\n",
    "\n",
    "#classifier data\n",
    "clf = RandomForestClassifier(n_estimators = 1000, class_weight =\"balanced\",random_state=42)\n",
    "name = clf.__class__.__name__\n",
    "\n",
    "#pipeline object\n",
    "model_pipeline = Pipeline([(\"scaler\",scaler),(\"PCA\",pca_rf), (name,clf)])\n",
    "\n",
    "#fitting the pipeline\n",
    "model_pipeline.fit(X_train,y_train)"
   ]
  },
  {
   "cell_type": "markdown",
   "metadata": {},
   "source": [
    "## Random Forest Hyper Parameter tuning using Grid Search CV \n",
    "- This section of GridSearchCv couldn't run because of high computational requirement. Ideally by running this should help us identify the best set of parameters to be used in Random Forest for our Binary classification problem"
   ]
  },
  {
   "cell_type": "code",
   "execution_count": null,
   "metadata": {},
   "outputs": [],
   "source": [
    "#minority to majority sample ratio is set as auto, i.e, 50:50 for class1:class0\n",
    "from imblearn.over_sampling import SMOTE\n",
    "SM = SMOTE(sampling_strategy=\"auto\", k_neighbors=5, random_state=42)\n",
    "data_num_new, y_train_new = SM.fit_resample(data_num_unb, y_train_unb)"
   ]
  },
  {
   "cell_type": "code",
   "execution_count": null,
   "metadata": {},
   "outputs": [],
   "source": [
    "#selecting and renaming for convinience\n",
    "X_train = data_num_new\n",
    "y_train = y_train_new\n",
    "\n",
    "print(\"Shape of Training features Data Set :\", X_train.shape)\n",
    "print(\"Shape of Testing features  Data Set :\", X_test.shape)\n",
    "print(\"Shape of Training target Data Set :\", y_train.shape)\n",
    "print(\"Shape of Testing target  Data Set :\", y_test.shape)"
   ]
  },
  {
   "cell_type": "code",
   "execution_count": null,
   "metadata": {},
   "outputs": [],
   "source": [
    "from sklearn.metrics import f1_score\n",
    "\n",
    "#classifier data\n",
    "clf = RandomForestClassifier(class_weight =\"balanced\",random_state=42)\n",
    "\n",
    "#parameters\n",
    "n_estimators = [300, 500, 800, 1200, 1400] ##no of estimators, default is 100\n",
    "max_depth = [5, 8, 15, 25, 30]\n",
    "min_samples_split = [2, 5, 10, 15, 100]\n",
    "min_samples_leaf = [1, 2, 5, 10] \n",
    "\n",
    "params = dict(n_estimators = n_estimators, max_depth = max_depth,min_samples_split = min_samples_split, \n",
    "             min_samples_leaf = min_samples_leaf)\n",
    "\n",
    "#using f1 score as the metric to improve\n",
    "clf_grid = GridSearchCV(clf, param_grid = [params], cv = 5)\n",
    "\n",
    "#fitting the data on best set of parameters\n",
    "best_clf = clf_grid.fit(X_train, y_train)\n",
    "\n",
    "print(\"best accuracy from GridSearchCV in sample: \", best_clf.best_score_)\n",
    "print(\"Out Sample score from GridSearchCV :\", best_clf.score(X_train,y_train))\n",
    "\n",
    "print(\"Best parameters : \", best_clf.best_params_)"
   ]
  },
  {
   "cell_type": "code",
   "execution_count": null,
   "metadata": {},
   "outputs": [],
   "source": [
    "y_pred = best_clf.predict(X_test_cv)\n",
    "\n",
    "print(\"Precision score : \",precision_score(y_test,y_pred))\n",
    "print(\"Recall score : \",recall_score(y_test,y_pred))\n",
    "print(\"F1 score : \",f1_score(y_test,y_pred))\n",
    "\n",
    "#setting the plot size\n",
    "plt.rcParams['figure.figsize'] = [5, 5]\n",
    "\n",
    "#plotting the confusion matrix\n",
    "plot_confusion_matrix(clf_grid.best_estimator_,X_test_cv,y_test,normalize = \"true\")\n",
    "plot_confusion_matrix(clf_grid.best_estimator_,X_test_cv,y_test)\n",
    "\n",
    "#plotting ROC_curve\n",
    "plot_roc_curve(clf_grid.best_estimator_,X_test_cv,y_test)"
   ]
  },
  {
   "cell_type": "markdown",
   "metadata": {},
   "source": [
    "## Boosting - XGboost\n",
    "What we learnt so far\n",
    "- From our analysis we identified that PCA is not helpful in our classification problem\n",
    "- Changes in Strategy sample ratio causes huge fluctuation in the precision and recall\n",
    "- But with a balanced data set Random Forest is our best estimator so far\n",
    "\n",
    "Nowe we explore Boosting algorithm XG Boost to check if we can improve our performance"
   ]
  },
  {
   "cell_type": "code",
   "execution_count": 164,
   "metadata": {},
   "outputs": [
    {
     "name": "stdout",
     "output_type": "stream",
     "text": [
      "Shape of Training features Data Set : (8120, 63)\n",
      "Shape of Testing features  Data Set : (482, 63)\n",
      "Shape of Training target Data Set : (8120,)\n",
      "Shape of Testing target  Data Set : (482,)\n"
     ]
    }
   ],
   "source": [
    "#minority to majority sample ratio set to auto\n",
    "from imblearn.over_sampling import SMOTE\n",
    "SM = SMOTE(sampling_strategy=\"auto\", k_neighbors=5, random_state=42)\n",
    "data_num_new, y_train_new = SM.fit_resample(data_num_unb, y_train_unb)\n",
    "\n",
    "#selecting and renaming for convinience\n",
    "X_train = data_num_new\n",
    "y_train = y_train_new\n",
    "\n",
    "print(\"Shape of Training features Data Set :\", X_train.shape)\n",
    "print(\"Shape of Testing features  Data Set :\", X_test.shape)\n",
    "print(\"Shape of Training target Data Set :\", y_train.shape)\n",
    "print(\"Shape of Testing target  Data Set :\", y_test.shape)"
   ]
  },
  {
   "cell_type": "code",
   "execution_count": 165,
   "metadata": {},
   "outputs": [
    {
     "name": "stdout",
     "output_type": "stream",
     "text": [
      "[17:50:16] WARNING: C:/Users/Administrator/workspace/xgboost-win64_release_1.3.0/src/learner.cc:1061: Starting in XGBoost 1.3.0, the default evaluation metric used with the objective 'binary:logistic' was changed from 'error' to 'logloss'. Explicitly set eval_metric if you'd like to restore the old behavior.\n"
     ]
    },
    {
     "data": {
      "text/plain": [
       "Pipeline(steps=[('scaler', StandardScaler()),\n",
       "                ('XGBClassifier',\n",
       "                 XGBClassifier(base_score=0.5, booster='gbtree',\n",
       "                               colsample_bylevel=1, colsample_bynode=1,\n",
       "                               colsample_bytree=1, gamma=0, gpu_id=-1,\n",
       "                               importance_type='gain',\n",
       "                               interaction_constraints='',\n",
       "                               learning_rate=0.300000012, max_delta_step=0,\n",
       "                               max_depth=6, min_child_weight=1, missing=nan,\n",
       "                               monotone_constraints='()', n_estimators=100,\n",
       "                               n_jobs=4, num_parallel_tree=1, random_state=42,\n",
       "                               reg_alpha=0, reg_lambda=1, scale_pos_weight=1,\n",
       "                               subsample=1, tree_method='exact',\n",
       "                               use_label_encoder=False, validate_parameters=1,\n",
       "                               verbosity=None))])"
      ]
     },
     "execution_count": 165,
     "metadata": {},
     "output_type": "execute_result"
    },
    {
     "name": "stdout",
     "output_type": "stream",
     "text": [
      "Model: XGBClassifier in sample score=1.00\n",
      "\n",
      "[17:50:23] WARNING: C:/Users/Administrator/workspace/xgboost-win64_release_1.3.0/src/learner.cc:1061: Starting in XGBoost 1.3.0, the default evaluation metric used with the objective 'binary:logistic' was changed from 'error' to 'logloss'. Explicitly set eval_metric if you'd like to restore the old behavior.\n",
      "[17:50:28] WARNING: C:/Users/Administrator/workspace/xgboost-win64_release_1.3.0/src/learner.cc:1061: Starting in XGBoost 1.3.0, the default evaluation metric used with the objective 'binary:logistic' was changed from 'error' to 'logloss'. Explicitly set eval_metric if you'd like to restore the old behavior.\n",
      "[17:50:35] WARNING: C:/Users/Administrator/workspace/xgboost-win64_release_1.3.0/src/learner.cc:1061: Starting in XGBoost 1.3.0, the default evaluation metric used with the objective 'binary:logistic' was changed from 'error' to 'logloss'. Explicitly set eval_metric if you'd like to restore the old behavior.\n",
      "[17:50:42] WARNING: C:/Users/Administrator/workspace/xgboost-win64_release_1.3.0/src/learner.cc:1061: Starting in XGBoost 1.3.0, the default evaluation metric used with the objective 'binary:logistic' was changed from 'error' to 'logloss'. Explicitly set eval_metric if you'd like to restore the old behavior.\n",
      "[17:50:47] WARNING: C:/Users/Administrator/workspace/xgboost-win64_release_1.3.0/src/learner.cc:1061: Starting in XGBoost 1.3.0, the default evaluation metric used with the objective 'binary:logistic' was changed from 'error' to 'logloss'. Explicitly set eval_metric if you'd like to restore the old behavior.\n",
      "Model: XGBClassifier avg cross validation score=0.98\n",
      "\n",
      "Model: XGBClassifier out-of-sample score=0.94\n",
      "\n",
      "Precision score :  0.5142857142857142\n",
      "Recall score :  0.5625\n",
      "F1 score :  0.5373134328358209\n"
     ]
    },
    {
     "data": {
      "text/plain": [
       "<sklearn.metrics._plot.confusion_matrix.ConfusionMatrixDisplay at 0x1d8ecfc0130>"
      ]
     },
     "execution_count": 165,
     "metadata": {},
     "output_type": "execute_result"
    },
    {
     "data": {
      "text/plain": [
       "<sklearn.metrics._plot.confusion_matrix.ConfusionMatrixDisplay at 0x1d8ece0bb50>"
      ]
     },
     "execution_count": 165,
     "metadata": {},
     "output_type": "execute_result"
    },
    {
     "data": {
      "text/plain": [
       "<sklearn.metrics._plot.roc_curve.RocCurveDisplay at 0x1d8857283d0>"
      ]
     },
     "execution_count": 165,
     "metadata": {},
     "output_type": "execute_result"
    },
    {
     "data": {
      "image/png": "[encoded data removed]",
      "text/plain": [
       "<Figure size 360x360 with 2 Axes>"
      ]
     },
     "metadata": {
      "needs_background": "light"
     },
     "output_type": "display_data"
    },
    {
     "data": {
      "image/png": "[encoded data removed]",
      "text/plain": [
       "<Figure size 360x360 with 2 Axes>"
      ]
     },
     "metadata": {
      "needs_background": "light"
     },
     "output_type": "display_data"
    },
    {
     "data": {
      "image/png": "[encoded data removed]",
      "text/plain": [
       "<Figure size 360x360 with 1 Axes>"
      ]
     },
     "metadata": {
      "needs_background": "light"
     },
     "output_type": "display_data"
    }
   ],
   "source": [
    "from xgboost import XGBClassifier\n",
    "\n",
    "\n",
    "#standard scaler object \n",
    "scaler = StandardScaler()\n",
    "\n",
    "#classifier data\n",
    "# passing use_label_encoder = false to avoid deprication warnings. Our labels are already encoded as 0 or 1\n",
    "clf = XGBClassifier(random_state=42,use_label_encoder=False)\n",
    "name = clf.__class__.__name__\n",
    "\n",
    "#pipeline object\n",
    "model_pipeline = Pipeline([(\"scaler\",scaler),(name,clf)])\n",
    "\n",
    "#fitting the pipeline\n",
    "model_pipeline.fit(X_train,y_train)\n",
    "\n",
    "#in sample score\n",
    "score_in_sample = model_pipeline.score(X_train,y_train)\n",
    "print(\"Model: {m:s} in sample score={s:3.2f}\\n\".format(m=name, s=score_in_sample))\n",
    "\n",
    "#cross validation \n",
    "k = 5\n",
    "cross_val_scores = cross_val_score(model_pipeline.named_steps[name],X_train,y_train,cv=k)\n",
    "print(\"Model: {m:s} avg cross validation score={s:3.2f}\\n\".format(m=name, s=cross_val_scores.mean()) )\n",
    "\n",
    "#out of sample score\n",
    "score_out_of_sample = None\n",
    "score_out_of_sample = model_pipeline.score(X_test,y_test)\n",
    "print(\"Model: {m:s} out-of-sample score={s:3.2f}\\n\".format(m=name, s=score_out_of_sample))\n",
    "\n",
    "#predicting the out of sample labels\n",
    "y_pred = model_pipeline.predict(X_test)\n",
    "\n",
    "print(\"Precision score : \",precision_score(y_test,y_pred))\n",
    "print(\"Recall score : \",recall_score(y_test,y_pred))\n",
    "print(\"F1 score : \",f1_score(y_test,y_pred))\n",
    "\n",
    "#setting the plot size\n",
    "plt.rcParams['figure.figsize'] = [5, 5]\n",
    "\n",
    "#plotting the confusion matrix\n",
    "plot_confusion_matrix(model_pipeline,X_test,y_test,normalize = \"true\")\n",
    "plot_confusion_matrix(model_pipeline,X_test,y_test)\n",
    "\n",
    "#plotting ROC_curve\n",
    "plot_roc_curve(model_pipeline,X_test,y_test)"
   ]
  },
  {
   "cell_type": "markdown",
   "metadata": {},
   "source": [
    "- We can see that XGboost actually improved our performance.\n",
    "- The F1 score reached 0.53 which was better than Random Forests"
   ]
  },
  {
   "cell_type": "markdown",
   "metadata": {},
   "source": [
    "#### XGboost with Adasyn\n",
    "- With 50:50 ratio between class1 and class 0 examples we were able to acheive a recall of 0.55\n",
    "- Identifying companies with possibility of Bankruptcy is important for investors. So lets see if we can improve recall by using Adasyn imputer. Considering Adasyn includes some randomness the data set will be close to relaity\n",
    "- Ideally we should increase the minority class 1 to the majority class for better recall. But SMOTE strategy sampling ratio has a maximum value of 1. Hence using a different imputer to improve the performances"
   ]
  },
  {
   "cell_type": "code",
   "execution_count": 166,
   "metadata": {},
   "outputs": [
    {
     "name": "stdout",
     "output_type": "stream",
     "text": [
      "Shape of Training features Data Set : (8155, 63)\n",
      "Shape of Testing features  Data Set : (482, 63)\n",
      "Shape of Training target Data Set : (8155,)\n",
      "Shape of Testing target  Data Set : (482,)\n"
     ]
    }
   ],
   "source": [
    "from imblearn.over_sampling import ADASYN\n",
    "ad = ADASYN(random_state=42)\n",
    "data_num_new, y_train_new = ad.fit_resample(data_num_unb, y_train_unb)\n",
    "\n",
    "#selecting and renaming for convinience\n",
    "X_train = data_num_new\n",
    "y_train = y_train_new\n",
    "\n",
    "print(\"Shape of Training features Data Set :\", X_train.shape)\n",
    "print(\"Shape of Testing features  Data Set :\", X_test.shape)\n",
    "print(\"Shape of Training target Data Set :\", y_train.shape)\n",
    "print(\"Shape of Testing target  Data Set :\", y_test.shape)"
   ]
  },
  {
   "cell_type": "code",
   "execution_count": 167,
   "metadata": {},
   "outputs": [
    {
     "name": "stdout",
     "output_type": "stream",
     "text": [
      "[17:54:54] WARNING: C:/Users/Administrator/workspace/xgboost-win64_release_1.3.0/src/learner.cc:1061: Starting in XGBoost 1.3.0, the default evaluation metric used with the objective 'binary:logistic' was changed from 'error' to 'logloss'. Explicitly set eval_metric if you'd like to restore the old behavior.\n"
     ]
    },
    {
     "data": {
      "text/plain": [
       "Pipeline(steps=[('scaler', StandardScaler()),\n",
       "                ('XGBClassifier',\n",
       "                 XGBClassifier(base_score=0.5, booster='gbtree',\n",
       "                               colsample_bylevel=1, colsample_bynode=1,\n",
       "                               colsample_bytree=1, gamma=0, gpu_id=-1,\n",
       "                               importance_type='gain',\n",
       "                               interaction_constraints='',\n",
       "                               learning_rate=0.300000012, max_delta_step=0,\n",
       "                               max_depth=6, min_child_weight=1, missing=nan,\n",
       "                               monotone_constraints='()', n_estimators=100,\n",
       "                               n_jobs=4, num_parallel_tree=1, random_state=42,\n",
       "                               reg_alpha=0, reg_lambda=1, scale_pos_weight=1,\n",
       "                               subsample=1, tree_method='exact',\n",
       "                               use_label_encoder=False, validate_parameters=1,\n",
       "                               verbosity=None))])"
      ]
     },
     "execution_count": 167,
     "metadata": {},
     "output_type": "execute_result"
    },
    {
     "name": "stdout",
     "output_type": "stream",
     "text": [
      "Model: XGBClassifier in sample score=1.00\n",
      "\n",
      "[17:55:02] WARNING: C:/Users/Administrator/workspace/xgboost-win64_release_1.3.0/src/learner.cc:1061: Starting in XGBoost 1.3.0, the default evaluation metric used with the objective 'binary:logistic' was changed from 'error' to 'logloss'. Explicitly set eval_metric if you'd like to restore the old behavior.\n",
      "[17:55:07] WARNING: C:/Users/Administrator/workspace/xgboost-win64_release_1.3.0/src/learner.cc:1061: Starting in XGBoost 1.3.0, the default evaluation metric used with the objective 'binary:logistic' was changed from 'error' to 'logloss'. Explicitly set eval_metric if you'd like to restore the old behavior.\n",
      "[17:55:13] WARNING: C:/Users/Administrator/workspace/xgboost-win64_release_1.3.0/src/learner.cc:1061: Starting in XGBoost 1.3.0, the default evaluation metric used with the objective 'binary:logistic' was changed from 'error' to 'logloss'. Explicitly set eval_metric if you'd like to restore the old behavior.\n",
      "[17:55:20] WARNING: C:/Users/Administrator/workspace/xgboost-win64_release_1.3.0/src/learner.cc:1061: Starting in XGBoost 1.3.0, the default evaluation metric used with the objective 'binary:logistic' was changed from 'error' to 'logloss'. Explicitly set eval_metric if you'd like to restore the old behavior.\n",
      "[17:55:26] WARNING: C:/Users/Administrator/workspace/xgboost-win64_release_1.3.0/src/learner.cc:1061: Starting in XGBoost 1.3.0, the default evaluation metric used with the objective 'binary:logistic' was changed from 'error' to 'logloss'. Explicitly set eval_metric if you'd like to restore the old behavior.\n",
      "Model: XGBClassifier avg cross validation score=0.97\n",
      "\n",
      "Model: XGBClassifier out-of-sample score=0.95\n",
      "\n",
      "Precision score :  0.6333333333333333\n",
      "Recall score :  0.59375\n",
      "F1 score :  0.6129032258064516\n"
     ]
    },
    {
     "data": {
      "text/plain": [
       "<sklearn.metrics._plot.confusion_matrix.ConfusionMatrixDisplay at 0x1d8ce320820>"
      ]
     },
     "execution_count": 167,
     "metadata": {},
     "output_type": "execute_result"
    },
    {
     "data": {
      "text/plain": [
       "<sklearn.metrics._plot.confusion_matrix.ConfusionMatrixDisplay at 0x1d8ed182fa0>"
      ]
     },
     "execution_count": 167,
     "metadata": {},
     "output_type": "execute_result"
    },
    {
     "data": {
      "text/plain": [
       "<sklearn.metrics._plot.roc_curve.RocCurveDisplay at 0x1d8e4b8e430>"
      ]
     },
     "execution_count": 167,
     "metadata": {},
     "output_type": "execute_result"
    },
    {
     "data": {
      "image/png": "[encoded data removed]",
      "text/plain": [
       "<Figure size 360x360 with 2 Axes>"
      ]
     },
     "metadata": {
      "needs_background": "light"
     },
     "output_type": "display_data"
    },
    {
     "data": {
      "image/png": "[encoded data removed]",
      "text/plain": [
       "<Figure size 360x360 with 2 Axes>"
      ]
     },
     "metadata": {
      "needs_background": "light"
     },
     "output_type": "display_data"
    },
    {
     "data": {
      "image/png": "[encoded data removed]",
      "text/plain": [
       "<Figure size 360x360 with 1 Axes>"
      ]
     },
     "metadata": {
      "needs_background": "light"
     },
     "output_type": "display_data"
    }
   ],
   "source": [
    "#standard scaler object \n",
    "scaler = StandardScaler()\n",
    "\n",
    "#classifier data\n",
    "# passing use_label_encoder = false to avoid deprication warnings. Our labels are already encoded as 0 or 1\n",
    "clf = XGBClassifier(random_state=42,use_label_encoder=False)\n",
    "name = clf.__class__.__name__\n",
    "\n",
    "#pipeline object\n",
    "model_pipeline = Pipeline([(\"scaler\",scaler),(name,clf)])\n",
    "\n",
    "#fitting the pipeline\n",
    "model_pipeline.fit(X_train,y_train)\n",
    "\n",
    "#in sample score\n",
    "score_in_sample = model_pipeline.score(X_train,y_train)\n",
    "print(\"Model: {m:s} in sample score={s:3.2f}\\n\".format(m=name, s=score_in_sample))\n",
    "\n",
    "#cross validation \n",
    "k = 5\n",
    "cross_val_scores = cross_val_score(model_pipeline.named_steps[name],X_train,y_train,cv=k)\n",
    "print(\"Model: {m:s} avg cross validation score={s:3.2f}\\n\".format(m=name, s=cross_val_scores.mean()) )\n",
    "\n",
    "#out of sample score\n",
    "score_out_of_sample = None\n",
    "score_out_of_sample = model_pipeline.score(X_test,y_test)\n",
    "print(\"Model: {m:s} out-of-sample score={s:3.2f}\\n\".format(m=name, s=score_out_of_sample))\n",
    "\n",
    "#predicting the out of sample labels\n",
    "y_pred = model_pipeline.predict(X_test)\n",
    "\n",
    "print(\"Precision score : \",precision_score(y_test,y_pred))\n",
    "print(\"Recall score : \",recall_score(y_test,y_pred))\n",
    "print(\"F1 score : \",f1_score(y_test,y_pred))\n",
    "\n",
    "#setting the plot size\n",
    "plt.rcParams['figure.figsize'] = [5, 5]\n",
    "\n",
    "#plotting the confusion matrix\n",
    "plot_confusion_matrix(model_pipeline,X_test,y_test,normalize = \"true\")\n",
    "plot_confusion_matrix(model_pipeline,X_test,y_test)\n",
    "\n",
    "#plotting ROC_curve\n",
    "plot_roc_curve(model_pipeline,X_test,y_test)"
   ]
  },
  {
   "cell_type": "markdown",
   "metadata": {},
   "source": [
    "- We can see that the XGboost Model with Adasyn imputer was able to increase both precision and recall\n",
    "- The high AUC score is indicative of better performance\n",
    "- We would use these techniques to build the MyModel Function"
   ]
  },
  {
   "cell_type": "markdown",
   "metadata": {},
   "source": [
    "### Predictor for MyModel function\n",
    "- here we run the model again with a unique name this time to avoid confusion for the MyModel function\n"
   ]
  },
  {
   "cell_type": "code",
   "execution_count": null,
   "metadata": {},
   "outputs": [],
   "source": [
    "from imblearn.over_sampling import ADASYN\n",
    "ad = ADASYN(random_state=42)\n",
    "data_num_new, y_train_new = ad.fit_resample(data_num_unb, y_train_unb)\n",
    "\n",
    "#selecting and renaming for convinience\n",
    "X_train = data_num_new\n",
    "y_train = y_train_new\n",
    "\n",
    "print(\"Shape of Training features Data Set :\", X_train.shape)\n",
    "print(\"Shape of Testing features  Data Set :\", X_test.shape)\n",
    "print(\"Shape of Training target Data Set :\", y_train.shape)\n",
    "print(\"Shape of Testing target  Data Set :\", y_test.shape)\n",
    "\n",
    "#standard scaler object \n",
    "scaler = StandardScaler()\n",
    "\n",
    "#classifier data\n",
    "# passing use_label_encoder = false to avoid deprication warnings. Our labels are already encoded as 0 or 1\n",
    "clf = XGBClassifier(random_state=42,use_label_encoder=False)\n",
    "name = clf.__class__.__name__\n",
    "\n",
    "#pipeline object\n",
    "model_pipeline_MyModel = Pipeline([(\"scaler\",scaler),(name,clf)])\n",
    "\n",
    "#fitting the pipeline\n",
    "model_pipeline_MyModel.fit(X_train,y_train)\n",
    "\n",
    "#in sample score\n",
    "score_in_sample = model_pipeline_MyModel.score(X_train,y_train)\n",
    "print(\"Model: {m:s} in sample score={s:3.2f}\\n\".format(m=name, s=score_in_sample))\n",
    "\n",
    "#cross validation \n",
    "k = 5\n",
    "cross_val_scores = cross_val_score(model_pipeline_MyModel.named_steps[name],X_train,y_train,cv=k)\n",
    "print(\"Model: {m:s} avg cross validation score={s:3.2f}\\n\".format(m=name, s=cross_val_scores.mean()) )\n",
    "\n",
    "#out of sample score\n",
    "score_out_of_sample = None\n",
    "score_out_of_sample = model_pipeline_MyModel.score(X_test,y_test)\n",
    "print(\"Model: {m:s} out-of-sample score={s:3.2f}\\n\".format(m=name, s=score_out_of_sample))\n",
    "\n",
    "#predicting the out of sample labels\n",
    "y_pred = model_pipeline_MyModel.predict(X_test)\n",
    "\n",
    "print(\"Precision score : \",precision_score(y_test,y_pred))\n",
    "print(\"Recall score : \",recall_score(y_test,y_pred))\n",
    "print(\"F1 score : \",f1_score(y_test,y_pred))\n",
    "\n",
    "#setting the plot size\n",
    "plt.rcParams['figure.figsize'] = [5, 5]\n",
    "\n",
    "#plotting the confusion matrix\n",
    "plot_confusion_matrix(model_pipeline_MyModel,X_test,y_test,normalize = \"true\")\n",
    "plot_confusion_matrix(model_pipeline_MyModel,X_test,y_test)\n",
    "\n",
    "#plotting ROC_curve\n",
    "plot_roc_curve(model_pipeline_MyModel,X_test,y_test)"
   ]
  },
  {
   "cell_type": "markdown",
   "metadata": {},
   "source": [
    "## MyModel Function\n",
    "\n",
    "Data Preperation\n",
    "- Convert to numeric values\n",
    "- Drop columns X37 (multiple missing values) and Id (arbitrary serial no.)\n",
    "- Use KNN imputer to fill missing values\n",
    "- Scale the data using Standard Scaler\n",
    "\n",
    "Classifier\n",
    "- Use XGBoost classifier for predictions\n",
    "\n",
    "\n"
   ]
  },
  {
   "cell_type": "code",
   "execution_count": null,
   "metadata": {},
   "outputs": [],
   "source": [
    "def MyModel(df_test):\n",
    "    '''\n",
    "    Returns the predicted values, performs imputation on the test data set\n",
    "    \n",
    "    Parameters\n",
    "    -----------\n",
    "    df_test : Testing DataFrame\n",
    "    \n",
    "    '''\n",
    "    ##data preperation\n",
    "    \n",
    "    ##correcting test data set for storing test/holdout vales\n",
    "    X_test_new = pd.DataFrame()\n",
    "    ##running through a loop to convert objects to numeric\n",
    "    for i in X_test.columns:\n",
    "        X_test_new[i] = pd.to_numeric(df_test[i], errors = \"coerce\")\n",
    "    \n",
    "    ## removing X37 and Id columns\n",
    "    X_test_new = X_test_new.drop(columns = [\"X37\",\"Id\"])\n",
    "    \n",
    "    #imputing test data. We are using the same imputer to transform test data\n",
    "    X_test_new = pd.DataFrame(imputer.transform(X_test_new),columns = X_test_new.columns)\n",
    "    \n",
    "    #predicting the out of sample labels\n",
    "    y_pred = model_pipeline_MyModel.predict(X_test_new)\n",
    "    \n",
    "    #returning predictions\n",
    "    return y_pred "
   ]
  },
  {
   "cell_type": "markdown",
   "metadata": {},
   "source": [
    "## Conclusion and Comments\n",
    "**Background**: It is very important to predict bankruptcy of company. In our classification problem we try to do that using several financial ratios\n",
    "\n",
    "**Methodology:**\n",
    "- The data provided has to be cleaned. It has missing values and redudant columns like ID. \n",
    "- The values of the financial ratios in some columns is non-numeric. We converted them to numeric data and imputed the missing values using KNNImputer\n",
    "- The data suffers from class imbalance. This has been corrected using SMOTE and ADASYN imputers\n",
    "- The strategic sample ratio (minority_count/majority_count) is key in achieving precision-recall trade off. Higher class1 samples, higher the recall\n",
    "- We used Logistic Regression, SVC, Random Forest and XG boost for our prediction\n",
    "- Ensemble methods - RandomForests and XGboost has better performance than standalone models\n",
    "- To reduce dimensionality we used PCA. But found that PCA actually decreases the performance. This suggests non-linearity in the data set\n",
    "- We used different Feature importance techniques and EDA to find out the most important fields for prediction. But this did not help our classification problem. Hence we continued to use all the features except X37 and Id\n",
    "\n",
    "**Goal** : Even though its important to predict the bankrupt companies, false predictions might have a significant impact on the position we might take in a company. So here we try to acheive a balance between them. \n",
    "\n",
    "- We can easily tweak our problem to acheive better recall by making class-1 majority class. In order to increase precision we need to keep class-0 as the majority class\n",
    "- Consider our Goal is a tradeoff giving equal imporatnce to both, we used a 50:50 split in our final model\n",
    "\n",
    "**Results and Conclusion** :\n",
    "- We were able to acheive around 63% precision and 60% recall through an XGboostClassifier with Adasyn imputation\n",
    "- In order to improve this we need to perform heavy computational GridSearchCV on selecting the best parameters\n",
    "- XGboostClassifier gives us better results and runs faster due to Stochastic gradient boosting\n",
    "- Considering ours is a sequential learning model, we can expect to learn the patterns better"
   ]
  }
 ],
 "metadata": {
  "kernelspec": {
   "display_name": "Python 3",
   "language": "python",
   "name": "python3"
  },
  "language_info": {
   "codemirror_mode": {
    "name": "ipython",
    "version": 3
   },
   "file_extension": ".py",
   "mimetype": "text/x-python",
   "name": "python",
   "nbconvert_exporter": "python",
   "pygments_lexer": "ipython3",
   "version": "3.8.3"
  },
  "latex_envs": {
   "LaTeX_envs_menu_present": true,
   "autoclose": false,
   "autocomplete": true,
   "bibliofile": "biblio.bib",
   "cite_by": "apalike",
   "current_citInitial": 1,
   "eqLabelWithNumbers": true,
   "eqNumInitial": 1,
   "hotkeys": {
    "equation": "Ctrl-E",
    "itemize": "Ctrl-I"
   },
   "labels_anchors": false,
   "latex_user_defs": false,
   "report_style_numbering": false,
   "user_envs_cfg": false
  },
  "toc": {
   "base_numbering": 1,
   "nav_menu": {},
   "number_sections": true,
   "sideBar": true,
   "skip_h1_title": false,
   "title_cell": "Table of Contents",
   "title_sidebar": "Contents",
   "toc_cell": false,
   "toc_position": {
    "height": "calc(100% - 180px)",
    "left": "10px",
    "top": "150px",
    "width": "310.995px"
   },
   "toc_section_display": true,
   "toc_window_display": true
  }
 },
 "nbformat": 4,
 "nbformat_minor": 2
}
